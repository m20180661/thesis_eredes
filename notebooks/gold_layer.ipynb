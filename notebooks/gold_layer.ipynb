{
 "cells": [
  {
   "cell_type": "code",
   "execution_count": null,
   "id": "5e6f4e00",
   "metadata": {},
   "outputs": [],
   "source": [
    "dim_date"
   ]
  },
  {
   "cell_type": "code",
   "execution_count": null,
   "id": "4e4dba3f",
   "metadata": {},
   "outputs": [],
   "source": [
    "from pyspark.sql import SparkSession\n",
    "    from pyspark.sql.functions import sequence, to_date, explode, dayofmonth, month, year, weekofyear, dayofweek, quarter, date_format, lit, expr"
   ]
  },
  {
   "cell_type": "code",
   "execution_count": null,
   "id": "8ef8b52f",
   "metadata": {},
   "outputs": [],
   "source": [
    "spark = SparkSession.builder.getOrCreate()"
   ]
  },
  {
   "cell_type": "code",
   "execution_count": null,
   "id": "74357458",
   "metadata": {},
   "outputs": [],
   "source": [
    "# Generate daily calendar\n",
    "    df_calendar = (\n",
    "        spark.range(1)\n",
    "             .select(sequence(to_date(lit(\"2015-01-01\")), to_date(lit(\"2026-12-31\")), expr(\"interval 1 day\")).alias(\"dates\"))\n",
    "             .select(explode(\"dates\").alias(\"date\"))\n",
    "    )"
   ]
  },
  {
   "cell_type": "code",
   "execution_count": null,
   "id": "4b45205f",
   "metadata": {},
   "outputs": [],
   "source": [
    "# Build dimension table with SK and attributes\n",
    "    df_dim_date = (\n",
    "        df_calendar\n",
    "          .withColumn(\"sk_date\",    expr(\"year(date)*10000 + month(date)*100 + day(date)\"))\n",
    "          .withColumn(\"day\",        dayofmonth(\"date\"))\n",
    "          .withColumn(\"month\",      month(\"date\"))\n",
    "          .withColumn(\"quarter\",    quarter(\"date\"))\n",
    "          .withColumn(\"year\",       year(\"date\"))\n",
    "          .withColumn(\"weekday\",    dayofweek(\"date\"))\n",
    "          .withColumn(\"week_of_yr\", weekofyear(\"date\"))\n",
    "          .withColumn(\"month_name\", date_format(\"date\", \"MMMM\"))\n",
    "          .withColumn(\"day_name\",   date_format(\"date\", \"EEEE\"))\n",
    "    )"
   ]
  },
  {
   "cell_type": "code",
   "execution_count": null,
   "id": "a51c5840",
   "metadata": {},
   "outputs": [],
   "source": [
    "# Save to Silver layer\n",
    "    df_dim_date.write \\\n",
    "        .format(\"delta\") \\\n",
    "        .mode(\"overwrite\") \\\n",
    "        .save(\"Files/silver/dim_date.delta\")"
   ]
  },
  {
   "cell_type": "code",
   "execution_count": null,
   "id": "875d0bf7",
   "metadata": {},
   "outputs": [],
   "source": [
    "print(\"✅ dim_date regenerated and saved to Silver.\")"
   ]
  },
  {
   "cell_type": "code",
   "execution_count": null,
   "id": "b85f3823",
   "metadata": {},
   "outputs": [],
   "source": [
    "spark.read.format(\"delta\").load(\"Files/silver/dim_date.delta\").filter(\"date >= '2023-01-01'\").show(5)"
   ]
  },
  {
   "cell_type": "code",
   "execution_count": null,
   "id": "55b30c70",
   "metadata": {},
   "outputs": [],
   "source": [
    "{\"execution_finish_time\":\"2025-07-14T13:21:02.4319203Z\",\"execution_start_time\":\"2025-07-14T13:20:53.4336847Z\",\"livy_statement_state\":\"available\",\"normalized_state\":\"finished\",\"parent_msg_id\":\"0dab96bd-4d77-4b22-aa37-82fb8280bdd6\",\"queued_time\":\"2025-07-14T13:20:41.8857747Z\",\"session_id\":\"c3a2b1b9-6635-4443-945a-3e7b00f98c6a\",\"session_start_time\":\"2025-07-14T13:20:41.8868106Z\",\"spark_pool\":null,\"state\":\"finished\",\"statement_id\":3,\"statement_ids\":[3]}"
   ]
  },
  {
   "cell_type": "code",
   "execution_count": null,
   "id": "f89b37da",
   "metadata": {},
   "outputs": [],
   "source": [
    "✅ dim_date regenerated and saved to Silver.\n",
    "    +----------+--------+---+-----+-------+----+-------+----------+----------+---------+\n",
    "    |      date| sk_date|day|month|quarter|year|weekday|week_of_yr|month_name| day_name|\n",
    "    +----------+--------+---+-----+-------+----+-------+----------+----------+---------+\n",
    "    |2023-01-01|20230101|  1|    1|      1|2023|      1|        52|   January|   Sunday|\n",
    "    |2023-01-02|20230102|  2|    1|      1|2023|      2|         1|   January|   Monday|\n",
    "    |2023-01-03|20230103|  3|    1|      1|2023|      3|         1|   January|  Tuesday|\n",
    "    |2023-01-04|20230104|  4|    1|      1|2023|      4|         1|   January|Wednesday|\n",
    "    |2023-01-05|20230105|  5|    1|      1|2023|      5|         1|   January| Thursday|\n",
    "    +----------+--------+---+-----+-------+----+-------+----------+----------+---------+\n",
    "    only showing top 5 rows"
   ]
  },
  {
   "cell_type": "code",
   "execution_count": null,
   "id": "2ee89fca",
   "metadata": {},
   "outputs": [],
   "source": [
    "fact_serviceinterruptions"
   ]
  },
  {
   "cell_type": "code",
   "execution_count": null,
   "id": "99aa5102",
   "metadata": {},
   "outputs": [],
   "source": [
    "from pyspark.sql import SparkSession\n",
    "    from pyspark.sql.functions import sha2, col, concat_ws, upper, trim"
   ]
  },
  {
   "cell_type": "code",
   "execution_count": null,
   "id": "65dc884f",
   "metadata": {},
   "outputs": [],
   "source": [
    "spark = SparkSession.builder.getOrCreate()"
   ]
  },
  {
   "cell_type": "code",
   "execution_count": null,
   "id": "10194315",
   "metadata": {},
   "outputs": [],
   "source": [
    "# =============================\n",
    "    # 1. Load Silver Cleaned Dataset\n",
    "    # =============================\n",
    "    print(\"📥 Loading Silver cleaned dataset...\")\n",
    "    df = spark.read.format(\"delta\").load(\"Files/silver/12_continuidade_de_servico_indicadores_gerais_de_continuidade_de_servico_cleaned\")\n",
    "    print(f\"✅ Rows loaded from Silver: {df.count()}\")\n",
    "    df.printSchema()"
   ]
  },
  {
   "cell_type": "code",
   "execution_count": null,
   "id": "eeb05e1c",
   "metadata": {},
   "outputs": [],
   "source": [
    "# =============================\n",
    "    # 2. Normalize for SK generation\n",
    "    # =============================\n",
    "    print(\"🔧 Normalizing district and municipality for SK generation...\")"
   ]
  },
  {
   "cell_type": "code",
   "execution_count": null,
   "id": "73a5393d",
   "metadata": {},
   "outputs": [],
   "source": [
    "df = (\n",
    "        df\n",
    "        .withColumn(\"district\", upper(trim(col(\"district\"))))\n",
    "        .withColumn(\"municipality\", upper(trim(col(\"municipality\"))))\n",
    "        .withColumn(\"sk_municipality\", sha2(concat_ws(\"-\", col(\"district\"), col(\"municipality\")), 256))\n",
    "    )"
   ]
  },
  {
   "cell_type": "code",
   "execution_count": null,
   "id": "34a5f3ea",
   "metadata": {},
   "outputs": [],
   "source": [
    "# =============================\n",
    "    # 3. Generate sk_date from year\n",
    "    # =============================\n",
    "    print(\"📆 Generating surrogate date key (sk_date)...\")"
   ]
  },
  {
   "cell_type": "code",
   "execution_count": null,
   "id": "ea3c1cef",
   "metadata": {},
   "outputs": [],
   "source": [
    "df = df.withColumn(\"sk_date\", col(\"ano\").cast(\"int\") * 10000 + 101)  # Format: YYYY0101"
   ]
  },
  {
   "cell_type": "code",
   "execution_count": null,
   "id": "550bb42a",
   "metadata": {},
   "outputs": [],
   "source": [
    "# =============================\n",
    "    # 4. Select final fact columns\n",
    "    # =============================\n",
    "    print(\"🧱 Preparing fact table columns...\")"
   ]
  },
  {
   "cell_type": "code",
   "execution_count": null,
   "id": "9fdf9084",
   "metadata": {},
   "outputs": [],
   "source": [
    "fact_df = df.select(\n",
    "        \"sk_date\", \"sk_municipality\", \"codigo_concelho\", \"ano\", \"zona_rqs\",\n",
    "        col(\"saifi_at_num\").cast(\"double\"),\n",
    "        col(\"saidi_at_min\").cast(\"double\"),\n",
    "        col(\"maifi_at_num\").cast(\"double\"),\n",
    "        col(\"tiepi_mt_min\").cast(\"double\"),\n",
    "        col(\"end_mt_mwh\").cast(\"double\"),\n",
    "        col(\"saifi_mt_num\").cast(\"double\"),\n",
    "        col(\"saidi_mt_min\").cast(\"double\"),\n",
    "        col(\"maifi_mt_num\").cast(\"double\"),\n",
    "        col(\"saifi_bt_num\").cast(\"double\"),\n",
    "        col(\"saidi_bt_min\").cast(\"double\")\n",
    "    )"
   ]
  },
  {
   "cell_type": "code",
   "execution_count": null,
   "id": "54696f4c",
   "metadata": {},
   "outputs": [],
   "source": [
    "# =============================\n",
    "    # 5. Preview and Save to Gold\n",
    "    # =============================\n",
    "    print(\"🔍 Preview of fact_serviceinterruptions:\")\n",
    "    fact_df.show(10, truncate=False)\n",
    "    fact_df.printSchema()"
   ]
  },
  {
   "cell_type": "code",
   "execution_count": null,
   "id": "fca09483",
   "metadata": {},
   "outputs": [],
   "source": [
    "table_name = \"fact_serviceinterruptions\"\n",
    "    gold_path = f\"Files/gold/{table_name}.delta\""
   ]
  },
  {
   "cell_type": "code",
   "execution_count": null,
   "id": "2527a288",
   "metadata": {},
   "outputs": [],
   "source": [
    "print(\"💾 Saving to Gold layer...\")\n",
    "    fact_df.write.mode(\"overwrite\").format(\"delta\").option(\"overwriteSchema\", \"true\").save(gold_path)\n",
    "    print(f\"✅ Saved to Gold path: {gold_path}\")"
   ]
  },
  {
   "cell_type": "code",
   "execution_count": null,
   "id": "69956313",
   "metadata": {},
   "outputs": [],
   "source": [
    "print(\"🗃️ Registering as SQL table...\")\n",
    "    spark.sql(f\"DROP TABLE IF EXISTS {table_name}\")\n",
    "    fact_df.write.mode(\"overwrite\").format(\"delta\").option(\"overwriteSchema\", \"true\").saveAsTable(table_name)\n",
    "    print(f\"✅ SQL Table '{table_name}' registered and ready for Power BI.\")"
   ]
  },
  {
   "cell_type": "code",
   "execution_count": null,
   "id": "aceba073",
   "metadata": {},
   "outputs": [],
   "source": [
    "{\"execution_finish_time\":\"2025-07-14T13:25:15.296816Z\",\"execution_start_time\":\"2025-07-14T13:24:28.9602894Z\",\"livy_statement_state\":\"available\",\"normalized_state\":\"finished\",\"parent_msg_id\":\"413ef5da-9560-4578-af6a-5884d3efb2c4\",\"queued_time\":\"2025-07-14T13:24:28.9592107Z\",\"session_id\":\"c3a2b1b9-6635-4443-945a-3e7b00f98c6a\",\"session_start_time\":null,\"spark_pool\":null,\"state\":\"finished\",\"statement_id\":4,\"statement_ids\":[4]}"
   ]
  },
  {
   "cell_type": "code",
   "execution_count": null,
   "id": "a890e463",
   "metadata": {},
   "outputs": [],
   "source": [
    "📥 Loading Silver cleaned dataset...\n",
    "    ✅ Rows loaded from Silver: 11120\n",
    "    root\n",
    "     |-- ano: string (nullable = true)\n",
    "     |-- nuts_iii: string (nullable = true)\n",
    "     |-- codigo_concelho: string (nullable = true)\n",
    "     |-- concelho: string (nullable = true)\n",
    "     |-- zona_rqs: string (nullable = true)\n",
    "     |-- saifi_at_num: string (nullable = true)\n",
    "     |-- saidi_at_min: string (nullable = true)\n",
    "     |-- maifi_at_num: string (nullable = true)\n",
    "     |-- tiepi_mt_min: string (nullable = true)\n",
    "     |-- end_mt_mwh: string (nullable = true)\n",
    "     |-- saifi_mt_num: string (nullable = true)\n",
    "     |-- saidi_mt_min: string (nullable = true)\n",
    "     |-- maifi_mt_num: string (nullable = true)\n",
    "     |-- saifi_bt_num: string (nullable = true)\n",
    "     |-- saidi_bt_min: string (nullable = true)\n",
    "     |-- district: string (nullable = true)\n",
    "     |-- municipality: string (nullable = true)\n",
    "     |-- sk_municipality: string (nullable = true)"
   ]
  },
  {
   "cell_type": "code",
   "execution_count": null,
   "id": "e302838c",
   "metadata": {},
   "outputs": [],
   "source": [
    "🔧 Normalizing district and municipality for SK generation...\n",
    "    📆 Generating surrogate date key (sk_date)...\n",
    "    🧱 Preparing fact table columns...\n",
    "    🔍 Preview of fact_serviceinterruptions:\n",
    "    +--------+----------------------------------------------------------------+---------------+----+--------+------------+------------+------------+----------------+----------------+-----------------+----------------+----------------+-----------------+----------------+\n",
    "    |sk_date |sk_municipality                                                 |codigo_concelho|ano |zona_rqs|saifi_at_num|saidi_at_min|maifi_at_num|tiepi_mt_min    |end_mt_mwh      |saifi_mt_num     |saidi_mt_min    |maifi_mt_num    |saifi_bt_num     |saidi_bt_min    |\n",
    "    +--------+----------------------------------------------------------------+---------------+----+--------+------------+------------+------------+----------------+----------------+-----------------+----------------+----------------+-----------------+----------------+\n",
    "    |20220101|68081357adc2636e3fdf27341130e238619f9971b9fa92a2954d24fc6e5f71d0|801            |2022|Zona A  |0.0         |0.0         |0.0         |35.0886618864081|9.80358647705634|0.739018584966534|33.7200185241627|2.10893914262048|0.731583091228553|35.9844072128545|\n",
    "    |20220101|9d93c97b4d68506ed8448b7c6939fea257c9fdc505d9418a1a8af66d6bf030d3|1509           |2022|Concelho|0.0         |0.0         |1.0         |55.4735827389563|13.0337863884829|3.14141541612765 |53.4616789451799|15.1497877581598|3.77815531299883 |81.586029824039 |\n",
    "    |20220101|153c8701e194af333c983d4f6da2e9fb8e7027b76ddc3a2f6563bb6adee359cf|802            |2022|Zona A  |0.0         |0.0         |0.0         |0.0             |0.0             |0.0              |0.0             |0.0             |0.0              |0.0             |\n",
    "    |20220101|a04818d85609e86dd1d8cd0e28ad8d0ae694406fe10b311872f51591cc298c3b|811            |2022|Zona C  |0.0         |0.0         |0.0         |90.252065339809 |29.0793308935975|3.03753477448863 |94.7374221452774|9.49810118117486|2.83175710818914 |110.804005348286|\n",
    "    |20220101|7236be143225509fcf9f73ebd51813ae7ad7cecb0cb23038c4297096c26e546a|813            |2022|Zona A  |0.0         |0.0         |0.0         |0.0             |0.0             |0.0              |0.0             |0.0             |0.0              |0.0             |\n",
    "    |20220101|afe3601fd44acfa81074a3abdb4ba6bb6fa9b15f1f3ba0f845596411fa498a49|807            |2022|Zona C  |0.0         |0.0         |0.0         |192.316027397741|34.0141928013306|3.4969838877422  |193.970817753884|10.785846813549 |4.20326324037857 |209.214017536096|\n",
    "    |20220101|aa32869c2f57a4132f2138c6c0d339f5cbeb8dcc0db380a616754544be7bf531|808            |2022|Zona C  |0.0         |0.0         |1.0         |45.5573154001483|21.5123580234781|1.64314475381734 |58.8978665378517|5.8200660355772 |1.78464924253625 |74.6284481954999|\n",
    "    |20220101|f8db8f0291bca6ace3c9e67e0ae17f0823317edfc6363b7a5baa5ef3f6222b4b|816            |2022|Zona B  |0.0         |0.0         |0.0         |21.936907766801 |2.54752669647096|1.13998010490142 |21.2619319158075|6.65947504069451|1.26064176464759 |33.7047540223093|\n",
    "    |20220101|050f6c0aaec4f008680f565c5b636c8ce82e1cdbb584e6a8dddb708fd17388bf|815            |2022|Zona C  |0.0         |0.0         |0.0         |155.899773218814|14.0969549164253|3.125            |191.935069444444|8.32172688422688|3.87374588004142 |222.378466486348|\n",
    "    |20220101|050f6c0aaec4f008680f565c5b636c8ce82e1cdbb584e6a8dddb708fd17388bf|815            |2022|Zona A  |0.0         |0.0         |0.0         |0.0             |0.0             |0.0              |0.0             |0.0             |0.0              |0.0             |\n",
    "    +--------+----------------------------------------------------------------+---------------+----+--------+------------+------------+------------+----------------+----------------+-----------------+----------------+----------------+-----------------+----------------+\n",
    "    only showing top 10 rows"
   ]
  },
  {
   "cell_type": "code",
   "execution_count": null,
   "id": "a3b2a066",
   "metadata": {},
   "outputs": [],
   "source": [
    "root\n",
    "     |-- sk_date: integer (nullable = true)\n",
    "     |-- sk_municipality: string (nullable = true)\n",
    "     |-- codigo_concelho: string (nullable = true)\n",
    "     |-- ano: string (nullable = true)\n",
    "     |-- zona_rqs: string (nullable = true)\n",
    "     |-- saifi_at_num: double (nullable = true)\n",
    "     |-- saidi_at_min: double (nullable = true)\n",
    "     |-- maifi_at_num: double (nullable = true)\n",
    "     |-- tiepi_mt_min: double (nullable = true)\n",
    "     |-- end_mt_mwh: double (nullable = true)\n",
    "     |-- saifi_mt_num: double (nullable = true)\n",
    "     |-- saidi_mt_min: double (nullable = true)\n",
    "     |-- maifi_mt_num: double (nullable = true)\n",
    "     |-- saifi_bt_num: double (nullable = true)\n",
    "     |-- saidi_bt_min: double (nullable = true)"
   ]
  },
  {
   "cell_type": "code",
   "execution_count": null,
   "id": "7158e441",
   "metadata": {},
   "outputs": [],
   "source": [
    "💾 Saving to Gold layer...\n",
    "    ✅ Saved to Gold path: Files/gold/fact_serviceinterruptions.delta\n",
    "    🗃️ Registering as SQL table...\n",
    "    ✅ SQL Table 'fact_serviceinterruptions' registered and ready for Power BI."
   ]
  },
  {
   "cell_type": "code",
   "execution_count": null,
   "id": "c000f16e",
   "metadata": {},
   "outputs": [],
   "source": [
    "fact_energyconsumption_hourly"
   ]
  },
  {
   "cell_type": "code",
   "execution_count": null,
   "id": "063e1ec6",
   "metadata": {},
   "outputs": [],
   "source": [
    "from pyspark.sql import SparkSession\n",
    "    from pyspark.sql.functions import col, to_date"
   ]
  },
  {
   "cell_type": "code",
   "execution_count": null,
   "id": "7315c671",
   "metadata": {},
   "outputs": [],
   "source": [
    "# Start Spark session\n",
    "    spark = SparkSession.builder.getOrCreate()"
   ]
  },
  {
   "cell_type": "code",
   "execution_count": null,
   "id": "6064f7bb",
   "metadata": {},
   "outputs": [],
   "source": [
    "# ============================\n",
    "    # 1. Load Cleaned Silver Tables\n",
    "    # ============================\n",
    "    df_cp = spark.read.format(\"delta\").load(\"Files/silver/consumos_horario_codigo_postal_cleaned.delta\")\n",
    "    dim_date = spark.read.format(\"delta\").load(\"Files/silver/dim_date.delta\")\n",
    "    dim_zip = spark.read.format(\"delta\").load(\"Files/silver/dim_zipcode.delta\")"
   ]
  },
  {
   "cell_type": "code",
   "execution_count": null,
   "id": "39686bec",
   "metadata": {},
   "outputs": [],
   "source": [
    "print(\"✅ Cleaned tables loaded\")"
   ]
  },
  {
   "cell_type": "code",
   "execution_count": null,
   "id": "352364c9",
   "metadata": {},
   "outputs": [],
   "source": [
    "# ============================\n",
    "    # 2. Convert datahora to Date\n",
    "    # ============================\n",
    "    df_cp = df_cp.withColumn(\"date\", to_date(col(\"datahora\")))\n",
    "    print(\"📅 Converted 'datahora' to Date format\")"
   ]
  },
  {
   "cell_type": "code",
   "execution_count": null,
   "id": "b4340669",
   "metadata": {},
   "outputs": [],
   "source": [
    "# ============================\n",
    "    # 3. Join with dim_date\n",
    "    # ============================\n",
    "    df_cp = df_cp.join(\n",
    "        dim_date.select(col(\"date\").alias(\"dim_date\"), \"sk_date\"),\n",
    "        df_cp[\"date\"] == col(\"dim_date\"),\n",
    "        how=\"left\"\n",
    "    )\n",
    "    print(\"🔗 Joined with dim_date\")"
   ]
  },
  {
   "cell_type": "code",
   "execution_count": null,
   "id": "131d97bd",
   "metadata": {},
   "outputs": [],
   "source": [
    "# ============================\n",
    "    # 4. Join with dim_zipcode\n",
    "    # ============================\n",
    "    # Remove any existing duplicate to avoid ambiguity\n",
    "    if \"sk_zipcode\" in df_cp.columns:\n",
    "        df_cp = df_cp.drop(\"sk_zipcode\")"
   ]
  },
  {
   "cell_type": "code",
   "execution_count": null,
   "id": "49712dd3",
   "metadata": {},
   "outputs": [],
   "source": [
    "df_cp = df_cp.join(\n",
    "        dim_zip.select(col(\"zipcode\"), col(\"sk_zipcode\")),\n",
    "        df_cp[\"codigo_postal\"] == col(\"zipcode\"),\n",
    "        how=\"left\"\n",
    "    )\n",
    "    print(\"🔗 Joined with dim_zipcode\")"
   ]
  },
  {
   "cell_type": "code",
   "execution_count": null,
   "id": "1e11161b",
   "metadata": {},
   "outputs": [],
   "source": [
    "# ============================\n",
    "    # 5. Select Final Columns\n",
    "    # ============================\n",
    "    df_fact = df_cp.select(\n",
    "        \"sk_date\",\n",
    "        \"sk_zipcode\",\n",
    "        \"dt_consumo\",\n",
    "        \"hr_consumo\",\n",
    "        \"consumo\",\n",
    "        \"dia_semana\"\n",
    "    )"
   ]
  },
  {
   "cell_type": "code",
   "execution_count": null,
   "id": "80c3ba85",
   "metadata": {},
   "outputs": [],
   "source": [
    "df_fact.show(10, truncate=False)"
   ]
  },
  {
   "cell_type": "code",
   "execution_count": null,
   "id": "37ec6dd4",
   "metadata": {},
   "outputs": [],
   "source": [
    "# ============================\n",
    "    # 6. Save to Gold Layer and SQL Table\n",
    "    # ============================\n",
    "    df_fact.write.mode(\"overwrite\").format(\"delta\").save(\"Files/gold/fact_energyconsumption_horaria.delta\")\n",
    "    print(\"💾 Saved to Gold layer as Delta\")"
   ]
  },
  {
   "cell_type": "code",
   "execution_count": null,
   "id": "133e523f",
   "metadata": {},
   "outputs": [],
   "source": [
    "df_fact.write.mode(\"overwrite\").format(\"delta\").saveAsTable(\"fact_energyconsumption_hourly\")\n",
    "    print(\"✅ fact_energyconsumption_hourly available as SQL table\")"
   ]
  },
  {
   "cell_type": "code",
   "execution_count": null,
   "id": "ab74b310",
   "metadata": {},
   "outputs": [],
   "source": [
    "{\"execution_finish_time\":\"2025-06-16T23:15:30.6397Z\",\"execution_start_time\":\"2025-06-16T23:15:16.2694573Z\",\"livy_statement_state\":\"available\",\"normalized_state\":\"finished\",\"parent_msg_id\":\"3f04db0b-62fc-4b1f-84c8-63621020b40c\",\"queued_time\":\"2025-06-16T23:15:16.268275Z\",\"session_id\":\"62e18c5d-4bd9-4dca-a351-fa5a081ca38c\",\"session_start_time\":null,\"spark_pool\":null,\"state\":\"finished\",\"statement_id\":18,\"statement_ids\":[18]}"
   ]
  },
  {
   "cell_type": "code",
   "execution_count": null,
   "id": "7f43a5b8",
   "metadata": {},
   "outputs": [],
   "source": [
    "✅ Cleaned tables loaded\n",
    "    📅 Converted 'datahora' to Date format\n",
    "    🔗 Joined with DimDate\n",
    "    🔗 Joined with DimZipCode\n",
    "    +--------+----------------------------------------------------------------+----------+----------+------------------+----------+\n",
    "    |sk_date |sk_zipcode                                                      |dt_consumo|hr_consumo|consumo           |dia_semana|\n",
    "    +--------+----------------------------------------------------------------+----------+----------+------------------+----------+\n",
    "    |20230319|44864c96fa1c36602f0d045b268981b6cab638a60fc207c89e3bba235f619450|2023-03-19|18:00     |6282.611569035354 |Domingo   |\n",
    "    |20230201|a025f0314b164d72f92e11bd860ebbc0558addbeb5cf3ae1f06c4eded1d63ddc|2023-02-01|19:00     |8067.177903197795 |Quarta    |\n",
    "    |20230202|6c6ece85b5d6ea8c5b1901b34909d170569478006b74472e49d7535ab4b4a94d|2023-02-02|22:00     |15586.610308574363|Quinta    |\n",
    "    |20230222|8ace90d8ffdf2ee4bcd149c56579f93598080a47502ab616bc7c1c36b37e199f|2023-02-22|08:00     |7482.595338508814 |Quarta    |\n",
    "    |20230203|b3e34e9fe5a79d4e8753d0ad4107d0af969d8faaefb88fbd68316950fa2a9242|2023-02-03|20:00     |17077.941720628023|Sexta     |\n",
    "    |20230225|541eead0d9aecd91a4e591be604dbe311bdebdbf25c85821fabf878018f0504c|2023-02-25|23:00     |16547.202909233984|Sábado    |\n",
    "    |20221222|f338a66d1dc630488f938baf32f8bd95bf6e26fb48e022258e5349c431b618c1|2022-12-22|07:00     |3187.701516925412 |Quinta    |\n",
    "    |20230921|1625f9db144171f78dc64afa00f5f5065f176d05eb8f9dcb11f6c8cd3624aaa6|2023-09-21|20:00     |12066.674853105147|Quinta    |\n",
    "    |20230907|47c04d7995ba767c5024eee3ade65a7aab34ac951c17a3e4265a4a5602e18592|2023-09-07|02:00     |6668.482964061213 |Quinta    |\n",
    "    |20230902|1625f9db144171f78dc64afa00f5f5065f176d05eb8f9dcb11f6c8cd3624aaa6|2023-09-02|04:00     |6095.369720809502 |Sábado    |\n",
    "    +--------+----------------------------------------------------------------+----------+----------+------------------+----------+\n",
    "    only showing top 10 rows"
   ]
  },
  {
   "cell_type": "code",
   "execution_count": null,
   "id": "917b8c39",
   "metadata": {},
   "outputs": [],
   "source": [
    "💾 Saved to Gold layer as Delta\n",
    "    ✅ Fact_EnergyConsumption_Hourly available as SQL table"
   ]
  },
  {
   "cell_type": "code",
   "execution_count": null,
   "id": "5cecac38",
   "metadata": {},
   "outputs": [],
   "source": [
    "fact_energyconsumption_minicipality"
   ]
  },
  {
   "cell_type": "code",
   "execution_count": null,
   "id": "6a8d886d",
   "metadata": {},
   "outputs": [],
   "source": [
    "from pyspark.sql import SparkSession\n",
    "    from pyspark.sql.functions import col, sha2, concat_ws, to_date, expr, upper, trim, last_day, lit\n",
    "    from pyspark.sql.functions import sum as _sum"
   ]
  },
  {
   "cell_type": "code",
   "execution_count": null,
   "id": "b9860bb6",
   "metadata": {},
   "outputs": [],
   "source": [
    "spark = SparkSession.builder.getOrCreate()"
   ]
  },
  {
   "cell_type": "code",
   "execution_count": null,
   "id": "f01ea5fa",
   "metadata": {},
   "outputs": [],
   "source": [
    "# ============================\n",
    "    # 1. Load Cleaned and Dimension Tables\n",
    "    # ============================\n",
    "    df_cleaned = spark.read.format(\"delta\").load(\"Files/silver/3_consumos_faturados_por_municipio-ultimos_10_anos_cleaned.delta\")\n",
    "    df_date = spark.read.format(\"delta\").load(\"Files/silver/dim_date.delta\")\n",
    "    df_muni = spark.read.format(\"delta\").load(\"Files/silver/dim_municipality.delta\")"
   ]
  },
  {
   "cell_type": "code",
   "execution_count": null,
   "id": "c01aff3c",
   "metadata": {},
   "outputs": [],
   "source": [
    "print(\"✅ Cleaned and dimension tables loaded\")"
   ]
  },
  {
   "cell_type": "code",
   "execution_count": null,
   "id": "9f010659",
   "metadata": {},
   "outputs": [],
   "source": [
    "# ============================\n",
    "    # 2. Drop ambiguous SKs if needed\n",
    "    # ============================\n",
    "    if \"sk_municipality\" in df_cleaned.columns:\n",
    "        df_cleaned = df_cleaned.drop(\"sk_municipality\")\n",
    "        print(\"🧹 Dropped existing sk_municipality to avoid ambiguity\")"
   ]
  },
  {
   "cell_type": "code",
   "execution_count": null,
   "id": "cd102a5e",
   "metadata": {},
   "outputs": [],
   "source": [
    "# ============================\n",
    "    # 3. Convert 'data' (yyyy-MM) → último dia do mês\n",
    "    # ============================\n",
    "    df_cleaned = df_cleaned.withColumn(\n",
    "        \"date\", last_day(to_date(concat_ws(\"-\", col(\"data\").cast(\"string\"), lit(\"01\"))))\n",
    "    )\n",
    "    print(\"📅 Converted 'data' to last day of month\")"
   ]
  },
  {
   "cell_type": "code",
   "execution_count": null,
   "id": "e242c8ed",
   "metadata": {},
   "outputs": [],
   "source": [
    "# ============================\n",
    "    # 4. Join with dim_date\n",
    "    # ============================\n",
    "    df_cleaned = df_cleaned.join(\n",
    "        df_date.select(col(\"date\").alias(\"dim_date\"), \"sk_date\"),\n",
    "        df_cleaned[\"date\"] == col(\"dim_date\"),\n",
    "        how=\"left\"\n",
    "    )\n",
    "    print(\"🔗 Joined with dim_date\")"
   ]
  },
  {
   "cell_type": "code",
   "execution_count": null,
   "id": "e096781b",
   "metadata": {},
   "outputs": [],
   "source": [
    "# ============================\n",
    "    # 5. Join with dim_municipality\n",
    "    # ============================\n",
    "    df_cleaned = df_cleaned.join(\n",
    "        df_muni.select(\"sk_municipality\", \"district\", \"municipality\"),\n",
    "        on=[\"district\", \"municipality\"],\n",
    "        how=\"left\"\n",
    "    )\n",
    "    print(\"🔗 Joined with dim_municipality\")"
   ]
  },
  {
   "cell_type": "code",
   "execution_count": null,
   "id": "6d23450b",
   "metadata": {},
   "outputs": [],
   "source": [
    "# ============================\n",
    "    # 6. Cast energia to double\n",
    "    # ============================\n",
    "    df_cleaned = df_cleaned.withColumn(\"energia_ativa_kwh\", col(\"energia_ativa_kwh\").cast(\"double\"))\n",
    "    print(\"⚙️ Converted energia_ativa_kwh to double\")"
   ]
  },
  {
   "cell_type": "code",
   "execution_count": null,
   "id": "f90b7602",
   "metadata": {},
   "outputs": [],
   "source": [
    "# ============================\n",
    "    # 6.1 Filter out \"OUTROS <DISTRITO>\" rows\n",
    "    # ============================\n",
    "    df_cleaned = df_cleaned.filter(\"sk_municipality IS NOT NULL\")\n",
    "    print(\"🧼 Filtered out rows with NULL sk_municipality (e.g. 'OUTROS')\")"
   ]
  },
  {
   "cell_type": "code",
   "execution_count": null,
   "id": "c408efa9",
   "metadata": {},
   "outputs": [],
   "source": [
    "# ============================\n",
    "    # 7. Aggregate by sk_date and sk_municipality\n",
    "    # ============================\n",
    "    df_fact = df_cleaned.groupBy(\"sk_date\", \"sk_municipality\").agg(\n",
    "        _sum(\"energia_ativa_kwh\").alias(\"energia_ativa_kwh\")\n",
    "    )\n",
    "    print(\"📊 Aggregated consumption by sk_date and sk_municipality\")"
   ]
  },
  {
   "cell_type": "code",
   "execution_count": null,
   "id": "19efbf2f",
   "metadata": {},
   "outputs": [],
   "source": [
    "# ============================\n",
    "    # 8. Show sample rows\n",
    "    # ============================\n",
    "    df_fact.show(10, truncate=False)"
   ]
  },
  {
   "cell_type": "code",
   "execution_count": null,
   "id": "38f177c4",
   "metadata": {},
   "outputs": [],
   "source": [
    "# ============================\n",
    "    # 9. Save to Gold and SQL Table\n",
    "    # ============================\n",
    "    df_fact.write.mode(\"overwrite\").format(\"delta\").save(\"Files/gold/fact_energyconsumption_municipio.delta\")\n",
    "    print(\"💾 Saved to Gold layer as Delta\")"
   ]
  },
  {
   "cell_type": "code",
   "execution_count": null,
   "id": "ebaea934",
   "metadata": {},
   "outputs": [],
   "source": [
    "df_fact.write.mode(\"overwrite\").format(\"delta\").saveAsTable(\"fact_energyconsumption_municipality\")\n",
    "    print(\"✅ Fact_EnergyConsumption_Municipality available as SQL table\")"
   ]
  },
  {
   "cell_type": "code",
   "execution_count": null,
   "id": "7176bbda",
   "metadata": {},
   "outputs": [],
   "source": [
    "{\"execution_finish_time\":\"2025-06-16T23:41:39.721698Z\",\"execution_start_time\":\"2025-06-16T23:41:27.5744244Z\",\"livy_statement_state\":\"available\",\"normalized_state\":\"finished\",\"parent_msg_id\":\"b9063a93-3be5-4098-9110-02a91adbe8ad\",\"queued_time\":\"2025-06-16T23:41:27.573229Z\",\"session_id\":\"62e18c5d-4bd9-4dca-a351-fa5a081ca38c\",\"session_start_time\":null,\"spark_pool\":null,\"state\":\"finished\",\"statement_id\":34,\"statement_ids\":[34]}"
   ]
  },
  {
   "cell_type": "code",
   "execution_count": null,
   "id": "692966b2",
   "metadata": {},
   "outputs": [],
   "source": [
    "✅ Cleaned and dimension tables loaded\n",
    "    🧹 Dropped existing sk_municipality to avoid ambiguity\n",
    "    📅 Converted 'data' to last day of month\n",
    "    🔗 Joined with DimDate\n",
    "    🔗 Joined with DimMunicipality\n",
    "    ⚙️ Converted energia_ativa_kwh to double\n",
    "    🧼 Filtered out rows with NULL sk_municipality (e.g. 'OUTROS')\n",
    "    📊 Aggregated consumption by sk_date and sk_municipality\n",
    "    +--------+----------------------------------------------------------------+------------------+\n",
    "    |sk_date |sk_municipality                                                 |energia_ativa_kwh |\n",
    "    +--------+----------------------------------------------------------------+------------------+\n",
    "    |20240131|06600545128a8bbb01061378131699d37862288096b71fd0e8377d976ecec2ed|4944356.75        |\n",
    "    |20240131|f66048b6fc1045622c41beadc3c858869065b30aca36665114de9dd93a932280|1194109.659       |\n",
    "    |20240229|3dc1620ef3ad86c1934f4cd67c43582325ee3746745ef814ac16d60a1434fb7f|574484.786        |\n",
    "    |20231130|df5583e09f57f5b32c4ecb311c686d48d12761ea7bab100caea7b9b81a042109|899644.7540000001 |\n",
    "    |20231231|9621496898bf8bc7cd67d440d56c5e632bc29a0bcce8edd198f4459b17cdedfd|1405899.182       |\n",
    "    |20231231|a79128db844c02483d44e128263c81b0f3067a6ed14246eed583d345bdfdb406|1.1499708989E7    |\n",
    "    |20240131|4664effdfd10c006c69d0d80d7e9218e241cef39fdc2a66e561f34908290c411|5278992.177999999 |\n",
    "    |20230228|ef0692a3fac4ba17f47c1117d319250c838d05c9896f315cf23b67dc8124d13f|1012567.3899999999|\n",
    "    |20230228|849fc1882a0add2cc6f87d9bc4c5fb03ae19f137cf96da61f4cd305e84d86feb|3569264.1029999997|\n",
    "    |20230331|d94ddc3dc7a9a2e97841c518361778856c6935212ad3112c1dde08c40104c0b7|4291827.392999999 |\n",
    "    +--------+----------------------------------------------------------------+------------------+\n",
    "    only showing top 10 rows"
   ]
  },
  {
   "cell_type": "code",
   "execution_count": null,
   "id": "80bfe3cd",
   "metadata": {},
   "outputs": [],
   "source": [
    "💾 Saved to Gold layer as Delta\n",
    "    ✅ Fact_EnergyConsumption_Municipality available as SQL table"
   ]
  },
  {
   "cell_type": "code",
   "execution_count": null,
   "id": "9dccaf3d",
   "metadata": {},
   "outputs": [],
   "source": [
    "fact_energyconsumption_zipcode"
   ]
  },
  {
   "cell_type": "code",
   "execution_count": null,
   "id": "0a86dbb4",
   "metadata": {},
   "outputs": [],
   "source": [
    "from pyspark.sql import SparkSession\n",
    "    from pyspark.sql.functions import col, sha2, concat_ws, to_date, last_day, lit\n",
    "    from pyspark.sql.functions import sum as _sum"
   ]
  },
  {
   "cell_type": "code",
   "execution_count": null,
   "id": "719fb590",
   "metadata": {},
   "outputs": [],
   "source": [
    "spark = SparkSession.builder.getOrCreate()"
   ]
  },
  {
   "cell_type": "code",
   "execution_count": null,
   "id": "40e19e8a",
   "metadata": {},
   "outputs": [],
   "source": [
    "# ============================\n",
    "    # 1. Load Cleaned and Dimension Tables\n",
    "    # ============================\n",
    "    df_cleaned = spark.read.format(\"delta\").load(\"Files/silver/02_consumos_faturados_por_codigo_postal_ultimos_5_anos_cleaned.delta\")\n",
    "    df_date = spark.read.format(\"delta\").load(\"Files/silver/dim_date.delta\")\n",
    "    df_zip = spark.read.format(\"delta\").load(\"Files/silver/dim_zipcode.delta\")"
   ]
  },
  {
   "cell_type": "code",
   "execution_count": null,
   "id": "1e2de505",
   "metadata": {},
   "outputs": [],
   "source": [
    "print(\"✅ Cleaned and dimension tables loaded\")"
   ]
  },
  {
   "cell_type": "code",
   "execution_count": null,
   "id": "1bae5a3c",
   "metadata": {},
   "outputs": [],
   "source": [
    "# ============================\n",
    "    # 2. Drop ambiguous SKs if needed\n",
    "    # ============================\n",
    "    if \"sk_zipcode\" in df_cleaned.columns:\n",
    "        df_cleaned = df_cleaned.drop(\"sk_zipcode\")\n",
    "        print(\"🧹 Dropped existing sk_zipcode to avoid ambiguity\")"
   ]
  },
  {
   "cell_type": "code",
   "execution_count": null,
   "id": "eb1f6bfe",
   "metadata": {},
   "outputs": [],
   "source": [
    "# ============================\n",
    "    # 3. Convert 'date' (yyyy-MM) → último dia do mês\n",
    "    # ============================\n",
    "    df_cleaned = df_cleaned.withColumn(\n",
    "        \"date\", last_day(to_date(concat_ws(\"-\", col(\"date\").cast(\"string\"), lit(\"01\"))))\n",
    "    )\n",
    "    print(\"📅 Converted 'date' to last day of month\")"
   ]
  },
  {
   "cell_type": "code",
   "execution_count": null,
   "id": "e0c91dfd",
   "metadata": {},
   "outputs": [],
   "source": [
    "# ============================\n",
    "    # 4. Join with dim_date\n",
    "    # ============================\n",
    "    df_cleaned = df_cleaned.join(\n",
    "        df_date.select(col(\"date\").alias(\"dim_date\"), \"sk_date\"),\n",
    "        df_cleaned[\"date\"] == col(\"dim_date\"),\n",
    "        how=\"left\"\n",
    "    )\n",
    "    print(\"🔗 Joined with dim_date\")"
   ]
  },
  {
   "cell_type": "code",
   "execution_count": null,
   "id": "e338f061",
   "metadata": {},
   "outputs": [],
   "source": [
    "# ============================\n",
    "    # 5. Join with dim_zipcode\n",
    "    # ============================\n",
    "    df_cleaned = df_cleaned.join(\n",
    "        df_zip.select(\"sk_zipcode\", \"zipcode\"),\n",
    "        on=\"zipcode\",\n",
    "        how=\"left\"\n",
    "    )\n",
    "    print(\"🔗 Joined with dim_zipcode\")"
   ]
  },
  {
   "cell_type": "code",
   "execution_count": null,
   "id": "0b1aa7a2",
   "metadata": {},
   "outputs": [],
   "source": [
    "# ============================\n",
    "    # 6. Cast energia to double\n",
    "    # ============================\n",
    "    df_cleaned = df_cleaned.withColumn(\"energia_ativa_kwh\", col(\"energia_ativa_kwh\").cast(\"double\"))\n",
    "    print(\"⚙️ Converted energia_ativa_kwh to double\")"
   ]
  },
  {
   "cell_type": "code",
   "execution_count": null,
   "id": "69d7bd45",
   "metadata": {},
   "outputs": [],
   "source": [
    "# ============================\n",
    "    # 7. Filter out NULLs (if any)\n",
    "    # ============================\n",
    "    df_cleaned = df_cleaned.filter(\"sk_date IS NOT NULL AND sk_zipcode IS NOT NULL\")\n",
    "    print(\"🧼 Filtered out rows with NULL sk_date or sk_zipcode\")"
   ]
  },
  {
   "cell_type": "code",
   "execution_count": null,
   "id": "4fb58fce",
   "metadata": {},
   "outputs": [],
   "source": [
    "# ============================\n",
    "    # 8. Aggregate\n",
    "    # ============================\n",
    "    df_fact = df_cleaned.groupBy(\"sk_date\", \"sk_zipcode\").agg(\n",
    "        _sum(\"energia_ativa_kwh\").alias(\"energia_ativa_kwh\")\n",
    "    )\n",
    "    print(\"📊 Aggregated consumption by sk_date and sk_zipcode\")"
   ]
  },
  {
   "cell_type": "code",
   "execution_count": null,
   "id": "4344827b",
   "metadata": {},
   "outputs": [],
   "source": [
    "# ============================\n",
    "    # 9. Show sample\n",
    "    # ============================\n",
    "    df_fact.show(10, truncate=False)"
   ]
  },
  {
   "cell_type": "code",
   "execution_count": null,
   "id": "a0c478a3",
   "metadata": {},
   "outputs": [],
   "source": [
    "# ============================\n",
    "    # 10. Save to Gold\n",
    "    # ============================\n",
    "    df_fact.write.mode(\"overwrite\").format(\"delta\").save(\"Files/gold/fact_energyconsumption_zipcode.delta\")\n",
    "    print(\"💾 Saved to Gold layer as Delta\")"
   ]
  },
  {
   "cell_type": "code",
   "execution_count": null,
   "id": "5188c654",
   "metadata": {},
   "outputs": [],
   "source": [
    "df_fact.write.mode(\"overwrite\").format(\"delta\").saveAsTable(\"fact_energyconsumption_zipcode\")\n",
    "    print(\"✅ fact_energyconsumption_zipcode available as SQL table\")"
   ]
  },
  {
   "cell_type": "code",
   "execution_count": null,
   "id": "6ad07aa3",
   "metadata": {},
   "outputs": [],
   "source": [
    "{\"execution_finish_time\":\"2025-06-17T00:28:51.7832189Z\",\"execution_start_time\":\"2025-06-17T00:28:29.0879167Z\",\"livy_statement_state\":\"available\",\"normalized_state\":\"finished\",\"parent_msg_id\":\"0219ecc8-72e2-4e62-baea-c28d0d81b5f9\",\"queued_time\":\"2025-06-17T00:28:29.0867472Z\",\"session_id\":\"51dd5d37-4239-4b07-afa9-5612272f5a0a\",\"session_start_time\":null,\"spark_pool\":null,\"state\":\"finished\",\"statement_id\":4,\"statement_ids\":[4]}"
   ]
  },
  {
   "cell_type": "code",
   "execution_count": null,
   "id": "d203d438",
   "metadata": {},
   "outputs": [],
   "source": [
    "✅ Cleaned and dimension tables loaded\n",
    "    🧹 Dropped existing sk_zipcode to avoid ambiguity\n",
    "    📅 Converted 'date' to last day of month\n",
    "    🔗 Joined with DimDate\n",
    "    🔗 Joined with DimZipCode\n",
    "    ⚙️ Converted energia_ativa_kwh to double\n",
    "    🧼 Filtered out rows with NULL sk_date or sk_zipcode\n",
    "    📊 Aggregated consumption by sk_date and sk_zipcode\n",
    "    +--------+----------------------------------------------------------------+-----------------+\n",
    "    |sk_date |sk_zipcode                                                      |energia_ativa_kwh|\n",
    "    +--------+----------------------------------------------------------------+-----------------+\n",
    "    |20240531|cead18006a4de84ec2152071abe3deaf2bb386a00070f29f69c6e534c3d386f0|868439.882       |\n",
    "    |20241031|5616b00748424b555643e35b623f2e82430dc57e936b0da684c5e64b295f00b8|7.2211463208E7   |\n",
    "    |20241130|0ec89b31a9f42decb7bad3c678c0994266ae6382435ec44c7ed3144b0f3dae2a|9939904.535      |\n",
    "    |20241130|41ac9f4b6edb4de8be1a0542d145603d7f2dc2aa8d878691d750860653647eeb|5624319.718      |\n",
    "    |20250131|7b3087f7c84638235f3faf074627cde9c39a713dbe6a6c9984e84f2242df4fca|3959730.366      |\n",
    "    |20250131|90c246a812e634906611787f035b1d4841b162d62aa6a4145b1b2e32e526d54e|2056531.85       |\n",
    "    |20221031|327e892542e0f4097f90d914962a75ddbe9cb0577007d7b7d45dea310086bb97|11632.249        |\n",
    "    |20230331|dea1ae8613ee2a5ef5504d98bd969bd46b4c75e9c898341f497c74684599030c|9357594.054      |\n",
    "    |20230430|7263af08814e11782e313d81492e2c644c3152b0f42deeff9c0efa80667b5094|749567.829       |\n",
    "    |20230531|620e9c1f98e4730c1968dd7e14627cdff6689e377fa8ff7d5be4fd3540b57543|4211069.218      |\n",
    "    +--------+----------------------------------------------------------------+-----------------+\n",
    "    only showing top 10 rows"
   ]
  },
  {
   "cell_type": "code",
   "execution_count": null,
   "id": "8ad8d8e1",
   "metadata": {},
   "outputs": [],
   "source": [
    "💾 Saved to Gold layer as Delta\n",
    "    ✅ Fact_EnergyConsumption_ZipCode available as SQL table"
   ]
  },
  {
   "cell_type": "code",
   "execution_count": null,
   "id": "994724e0",
   "metadata": {},
   "outputs": [],
   "source": [
    "fact_gridcapacity"
   ]
  },
  {
   "cell_type": "code",
   "execution_count": null,
   "id": "8af25cc7",
   "metadata": {},
   "outputs": [],
   "source": [
    "from pyspark.sql import SparkSession\n",
    "    from pyspark.sql.functions import col, trim, upper"
   ]
  },
  {
   "cell_type": "code",
   "execution_count": null,
   "id": "0fbf8279",
   "metadata": {},
   "outputs": [],
   "source": [
    "spark = SparkSession.builder.getOrCreate()"
   ]
  },
  {
   "cell_type": "code",
   "execution_count": null,
   "id": "54e92136",
   "metadata": {},
   "outputs": [],
   "source": [
    "# --------------------------\n",
    "    # STEP 1: Load Cleaned Data & dim_municipality\n",
    "    # --------------------------\n",
    "    df_cleaned = spark.read.format(\"delta\").load(\"Files/silver/carga_na_subestacao_cleaned.delta\")\n",
    "    dim_municipality = spark.read.format(\"delta\").load(\"Files/silver/dim_municipality.delta\")"
   ]
  },
  {
   "cell_type": "code",
   "execution_count": null,
   "id": "a6ef0286",
   "metadata": {},
   "outputs": [],
   "source": [
    "print(\"✅ Cleaned and dimension tables loaded\")"
   ]
  },
  {
   "cell_type": "code",
   "execution_count": null,
   "id": "8bff8acb",
   "metadata": {},
   "outputs": [],
   "source": [
    "# --------------------------\n",
    "    # STEP 2: Normalize 'municipality' for join\n",
    "    # --------------------------\n",
    "    df_cleaned = df_cleaned.withColumn(\"municipality\", upper(trim(col(\"nome\"))))\n",
    "    dim_municipality = dim_municipality.withColumn(\"municipality\", upper(trim(col(\"municipality\"))))"
   ]
  },
  {
   "cell_type": "code",
   "execution_count": null,
   "id": "da1d17b7",
   "metadata": {},
   "outputs": [],
   "source": [
    "print(\"🧼 Normalized 'municipality' for both tables\")"
   ]
  },
  {
   "cell_type": "code",
   "execution_count": null,
   "id": "9695796b",
   "metadata": {},
   "outputs": [],
   "source": [
    "# --------------------------\n",
    "    # STEP 3: Join on 'municipality' and project required columns only\n",
    "    # --------------------------\n",
    "    df_joined = (\n",
    "        df_cleaned.alias(\"fact\")\n",
    "        .join(\n",
    "            dim_municipality.select(\"municipality\", \"sk_municipality\").alias(\"dim\"),\n",
    "            on=\"municipality\",\n",
    "            how=\"inner\"\n",
    "        )\n",
    "        .select(\n",
    "            col(\"fact.ano\").cast(\"int\").alias(\"year\"),\n",
    "            col(\"dim.sk_municipality\"),\n",
    "            col(\"fact.potencia_instalada\").cast(\"double\"),\n",
    "            col(\"fact.potencia_garantida\").cast(\"double\"),\n",
    "            col(\"fact.potencia_nao_garantida\").cast(\"double\"),\n",
    "            col(\"fact.disponibilidade\").cast(\"double\"),\n",
    "            col(\"fact.carga_natural\").cast(\"double\")\n",
    "        )\n",
    "    )"
   ]
  },
  {
   "cell_type": "code",
   "execution_count": null,
   "id": "a2ffe424",
   "metadata": {},
   "outputs": [],
   "source": [
    "print(\"🔗 Joined with dim_municipality on 'municipality'\")\n",
    "    print(\"⚙️ Selected and casted relevant columns\")"
   ]
  },
  {
   "cell_type": "code",
   "execution_count": null,
   "id": "a6169d2f",
   "metadata": {},
   "outputs": [],
   "source": [
    "# --------------------------\n",
    "    # STEP 4: Preview result\n",
    "    # --------------------------\n",
    "    df_joined.show(10, truncate=False)"
   ]
  },
  {
   "cell_type": "code",
   "execution_count": null,
   "id": "ff362041",
   "metadata": {},
   "outputs": [],
   "source": [
    "# --------------------------\n",
    "    # STEP 5: Save to Gold layer\n",
    "    # --------------------------\n",
    "    df_joined.write.mode(\"overwrite\").format(\"delta\").save(\"Files/gold/fact_gridcapacity.delta\")"
   ]
  },
  {
   "cell_type": "code",
   "execution_count": null,
   "id": "964a0324",
   "metadata": {},
   "outputs": [],
   "source": [
    "print(\"💾 Saved to Gold layer as Delta\")\n",
    "    print(\"✅ fact_gridcapacity available as SQL table\")"
   ]
  },
  {
   "cell_type": "code",
   "execution_count": null,
   "id": "adec1a03",
   "metadata": {},
   "outputs": [],
   "source": [
    "{\"execution_finish_time\":\"2025-06-23T12:31:56.1455814Z\",\"execution_start_time\":\"2025-06-23T12:31:40.9423121Z\",\"livy_statement_state\":\"available\",\"normalized_state\":\"finished\",\"parent_msg_id\":\"698816d5-6117-4c13-8024-d9ea5d09f223\",\"queued_time\":\"2025-06-23T12:31:27.4853332Z\",\"session_id\":\"052e33ea-c3bb-4caa-aaa2-7d12adc733ae\",\"session_start_time\":\"2025-06-23T12:31:27.4863849Z\",\"spark_pool\":null,\"state\":\"finished\",\"statement_id\":3,\"statement_ids\":[3]}"
   ]
  },
  {
   "cell_type": "code",
   "execution_count": null,
   "id": "17fd85c1",
   "metadata": {},
   "outputs": [],
   "source": [
    "✅ Cleaned and dimension tables loaded\n",
    "    🧼 Normalized 'municipality' for both tables\n",
    "    🔗 Joined with DimMunicipality on 'municipality'\n",
    "    ⚙️ Selected and casted relevant columns\n",
    "    +----+----------------------------------------------------------------+------------------+------------------+----------------------+------------------+-------------+\n",
    "    |year|sk_municipality                                                 |potencia_instalada|potencia_garantida|potencia_nao_garantida|disponibilidade   |carga_natural|\n",
    "    +----+----------------------------------------------------------------+------------------+------------------+----------------------+------------------+-------------+\n",
    "    |2024|c993313f3f271be73c32fef0d16b407c5db50f996287f460f76245e6a38392d2|63.0              |57.8              |5.200000000000003     |25.578            |32.222       |\n",
    "    |2024|24e9ceba453a0004de633b3adcd7a6c845dc4b243243f8d60c7493ca868b1641|20.0              |10.0              |10.0                  |0.0               |12.38        |\n",
    "    |2024|3b8e3b30f3a250edd309725c9c4a435c23f26c537550e12a2f6c765c3a3e30df|40.0              |34.0              |6.0                   |4.4830000000000005|29.517       |\n",
    "    |2024|c022c4305a1cd5ae9eb424345f4fa01c4d6f5959e87892eaaf1324cbabb021fd|5.0               |2.5               |2.5                   |0.0               |2.938        |\n",
    "    |2024|cf3e9b4d86caddfd970f15eebcd0340e4b2d181e7a0b7c9b32235ba2b846aedb|20.0              |10.0              |10.0                  |2.333             |7.667        |\n",
    "    |2024|fcb15ff47cd962e2519b117d25b2f62a6d44b995ac77812e86980e53ec2c0f56|20.0              |10.0              |10.0                  |0.0               |10.082       |\n",
    "    |2024|fcb15ff47cd962e2519b117d25b2f62a6d44b995ac77812e86980e53ec2c0f56|20.0              |10.0              |10.0                  |4.764             |5.236        |\n",
    "    |2024|8777f2fd9d0308ec352295a83e91921396dbd46778730ed87c241c1e98d765d3|63.0              |48.825            |14.174999999999995    |16.919000000000004|31.906       |\n",
    "    |2024|fdc6ce3cd22852873d4e9695772d68785b8d30c8c1f48fbcc88ef605833cf61a|20.0              |16.0              |4.0                   |3.4030000000000005|12.597       |\n",
    "    |2024|fdc6ce3cd22852873d4e9695772d68785b8d30c8c1f48fbcc88ef605833cf61a|20.0              |16.0              |4.0                   |0.0               |16.099       |\n",
    "    +----+----------------------------------------------------------------+------------------+------------------+----------------------+------------------+-------------+\n",
    "    only showing top 10 rows"
   ]
  },
  {
   "cell_type": "code",
   "execution_count": null,
   "id": "90cc6ed2",
   "metadata": {},
   "outputs": [],
   "source": [
    "💾 Saved to Gold layer as Delta\n",
    "    ✅ Fact_GridCapacity available as SQL table"
   ]
  },
  {
   "cell_type": "code",
   "execution_count": null,
   "id": "bf49b998",
   "metadata": {},
   "outputs": [],
   "source": [
    "fact_renewableadoption"
   ]
  },
  {
   "cell_type": "code",
   "execution_count": null,
   "id": "90821a5b",
   "metadata": {},
   "outputs": [],
   "source": [
    "from pyspark.sql import SparkSession\n",
    "    from pyspark.sql.functions import col, lit, to_date, date_format, sha2, concat_ws, when\n",
    "    from pyspark.sql import DataFrame\n",
    "    from functools import reduce"
   ]
  },
  {
   "cell_type": "code",
   "execution_count": null,
   "id": "d19d5383",
   "metadata": {},
   "outputs": [],
   "source": [
    "# Iniciar sessão Spark\n",
    "    spark = SparkSession.builder.getOrCreate()"
   ]
  },
  {
   "cell_type": "code",
   "execution_count": null,
   "id": "b9b56e30",
   "metadata": {},
   "outputs": [],
   "source": [
    "# ============================\n",
    "    # 1. Load Silver Cleaned Datasets\n",
    "    # ============================\n",
    "    print(\"📥 Loading Silver cleaned datasets...\")\n",
    "    df_plr = spark.read.format(\"delta\").load(\"Files/silver/25_plr_producao_renovavel_cleaned.delta\")\n",
    "    df_centrais = spark.read.format(\"delta\").load(\"Files/silver/26_centrais_cleaned.delta\")\n",
    "    df_injection = spark.read.format(\"delta\").load(\"Files/silver/energia_injetada_na_rede_de_distribuicao_cleaned.delta\")\n",
    "    print(\"✅ Silver datasets loaded\")"
   ]
  },
  {
   "cell_type": "code",
   "execution_count": null,
   "id": "e74df82b",
   "metadata": {},
   "outputs": [],
   "source": [
    "# ============================\n",
    "    # 2. Normalize Dates and sk_date\n",
    "    # ============================\n",
    "    def add_sk_date_from_semester(df):\n",
    "        df = df.withColumn(\n",
    "            \"date\",\n",
    "            when(col(\"semestre\") == \"1\", concat_ws(\"-\", col(\"ano\"), lit(\"06\"), lit(\"30\")))\n",
    "            .when(col(\"semestre\") == \"2\", concat_ws(\"-\", col(\"ano\"), lit(\"12\"), lit(\"31\")))\n",
    "        )\n",
    "        return df.withColumn(\"date\", to_date(\"date\", \"yyyy-MM-dd\")) \\\n",
    "                 .withColumn(\"sk_date\", date_format(\"date\", \"yyyyMMdd\").cast(\"int\"))"
   ]
  },
  {
   "cell_type": "code",
   "execution_count": null,
   "id": "d93b00c1",
   "metadata": {},
   "outputs": [],
   "source": [
    "df_plr = add_sk_date_from_semester(df_plr)\n",
    "    df_centrais = add_sk_date_from_semester(df_centrais)"
   ]
  },
  {
   "cell_type": "code",
   "execution_count": null,
   "id": "592bb4c6",
   "metadata": {},
   "outputs": [],
   "source": [
    "# ============================\n",
    "    # 3. Select & Rename Columns\n",
    "    # ============================\n",
    "    df_plr_sel = df_plr.select(\n",
    "        \"sk_date\",\n",
    "        \"sk_municipality\",\n",
    "        lit(\"e182f788feafe6f93dac5016ff45d88df5ee9def3dff67a9357999715a736803\").alias(\"sk_policy\"),\n",
    "        col(\"pedidos_de_ligacao_a_rede_executados\").cast(\"int\").alias(\"num_installations\"),\n",
    "        col(\"potencia_de_ligacao\").cast(\"double\").alias(\"total_power_kw\"),\n",
    "        lit(None).cast(\"double\").alias(\"national_production_gwh\"),\n",
    "        lit(None).cast(\"string\").alias(\"sk_technology\")\n",
    "    )"
   ]
  },
  {
   "cell_type": "code",
   "execution_count": null,
   "id": "e06c5ee1",
   "metadata": {},
   "outputs": [],
   "source": [
    "df_centrais_sel = df_centrais.select(\n",
    "        \"sk_date\",\n",
    "        \"sk_municipality\",\n",
    "        lit(None).cast(\"string\").alias(\"sk_policy\"),\n",
    "        col(\"processos_concluidos\").cast(\"int\").alias(\"num_installations\"),\n",
    "        col(\"potencia_de_ligacao\").cast(\"double\").alias(\"total_power_kw\"),\n",
    "        lit(None).cast(\"double\").alias(\"national_production_gwh\"),\n",
    "        lit(None).cast(\"string\").alias(\"sk_technology\")\n",
    "    )"
   ]
  },
  {
   "cell_type": "code",
   "execution_count": null,
   "id": "86bcedb1",
   "metadata": {},
   "outputs": [],
   "source": [
    "# ============================\n",
    "    # 4. Expand Renewable Injection by Technology\n",
    "    # ============================\n",
    "    df_injection = df_injection.withColumn(\"sk_date\", date_format(col(\"date\").cast(\"date\"), \"yyyyMMdd\").cast(\"int\"))"
   ]
  },
  {
   "cell_type": "code",
   "execution_count": null,
   "id": "c1a460e5",
   "metadata": {},
   "outputs": [],
   "source": [
    "df_wind = df_injection.select(\n",
    "        \"sk_date\",\n",
    "        lit(None).cast(\"string\").alias(\"sk_municipality\"),\n",
    "        lit(None).cast(\"string\").alias(\"sk_policy\"),\n",
    "        lit(None).cast(\"int\").alias(\"num_installations\"),\n",
    "        lit(None).cast(\"double\").alias(\"total_power_kw\"),\n",
    "        (col(\"wind_kwh\") / 1e6).alias(\"national_production_gwh\"),\n",
    "        sha2(lit(\"Eólica\"), 256).alias(\"sk_technology\")\n",
    "    )"
   ]
  },
  {
   "cell_type": "code",
   "execution_count": null,
   "id": "665faa0f",
   "metadata": {},
   "outputs": [],
   "source": [
    "df_solar = df_injection.select(\n",
    "        \"sk_date\",\n",
    "        lit(None).cast(\"string\").alias(\"sk_municipality\"),\n",
    "        lit(None).cast(\"string\").alias(\"sk_policy\"),\n",
    "        lit(None).cast(\"int\").alias(\"num_installations\"),\n",
    "        lit(None).cast(\"double\").alias(\"total_power_kw\"),\n",
    "        (col(\"solar_kwh\") / 1e6).alias(\"national_production_gwh\"),\n",
    "        sha2(lit(\"Solar Fotovoltaica\"), 256).alias(\"sk_technology\")\n",
    "    )"
   ]
  },
  {
   "cell_type": "code",
   "execution_count": null,
   "id": "350ea414",
   "metadata": {},
   "outputs": [],
   "source": [
    "df_hydro = df_injection.select(\n",
    "        \"sk_date\",\n",
    "        lit(None).cast(\"string\").alias(\"sk_municipality\"),\n",
    "        lit(None).cast(\"string\").alias(\"sk_policy\"),\n",
    "        lit(None).cast(\"int\").alias(\"num_installations\"),\n",
    "        lit(None).cast(\"double\").alias(\"total_power_kw\"),\n",
    "        (col(\"hydro_kwh\") / 1e6).alias(\"national_production_gwh\"),\n",
    "        sha2(lit(\"Hídrica\"), 256).alias(\"sk_technology\")\n",
    "    )"
   ]
  },
  {
   "cell_type": "code",
   "execution_count": null,
   "id": "f06a65a0",
   "metadata": {},
   "outputs": [],
   "source": [
    "# ============================\n",
    "    # 5. Final Union & Save\n",
    "    # ============================\n",
    "    df_final = df_wind.unionByName(df_solar).unionByName(df_hydro)"
   ]
  },
  {
   "cell_type": "code",
   "execution_count": null,
   "id": "c5a3d5ac",
   "metadata": {},
   "outputs": [],
   "source": [
    "print(\"✅ Loaded cleaned Silver datasets.\")"
   ]
  },
  {
   "cell_type": "code",
   "execution_count": null,
   "id": "dd1732f9",
   "metadata": {},
   "outputs": [],
   "source": [
    "print(\"📊 Preview final de fact_renewableadoption (por tecnologia):\")\n",
    "    df_final.show(10, truncate=False)"
   ]
  },
  {
   "cell_type": "code",
   "execution_count": null,
   "id": "7aab4cd2",
   "metadata": {},
   "outputs": [],
   "source": [
    "# ============================\n",
    "    # 6. Save to Gold Layer\n",
    "    # ============================\n",
    "    path_gold = \"Files/gold/fact_renewableadoption.delta\"\n",
    "    print(f\"💾 Saving fact_renewableadoption to Gold at {path_gold}\")\n",
    "    df_final.write.mode(\"append\").format(\"delta\").save(path_gold)"
   ]
  },
  {
   "cell_type": "code",
   "execution_count": null,
   "id": "55216c93",
   "metadata": {},
   "outputs": [],
   "source": [
    "# ============================\n",
    "    # 7. Register as SQL Table\n",
    "    # ============================\n",
    "    print(\"🗃️ Registering as SQL Table...\")\n",
    "    spark.sql(\"DROP TABLE IF EXISTS fact_renewableadoption\")\n",
    "    df_final.write.mode(\"overwrite\").format(\"delta\").saveAsTable(\"fact_renewableadoption\")"
   ]
  },
  {
   "cell_type": "code",
   "execution_count": null,
   "id": "05b2ac4c",
   "metadata": {},
   "outputs": [],
   "source": [
    "print(\"✅ SQL Table 'fact_renewableadoption' registada com sucesso no metastore Fabric ⚡\")"
   ]
  },
  {
   "cell_type": "code",
   "execution_count": null,
   "id": "18c60037",
   "metadata": {},
   "outputs": [],
   "source": [
    "{\"execution_finish_time\":\"2025-06-27T23:20:10.6789386Z\",\"execution_start_time\":\"2025-06-27T23:20:02.7262892Z\",\"livy_statement_state\":\"available\",\"normalized_state\":\"finished\",\"parent_msg_id\":\"48b06731-7d58-42ab-9d96-96c21ffd76ac\",\"queued_time\":\"2025-06-27T23:20:02.7250978Z\",\"session_id\":\"62f3a26e-05ae-4dde-b7d2-bf31a7a8f0f0\",\"session_start_time\":null,\"spark_pool\":null,\"state\":\"finished\",\"statement_id\":6,\"statement_ids\":[6]}"
   ]
  },
  {
   "cell_type": "code",
   "execution_count": null,
   "id": "c3f2aec0",
   "metadata": {},
   "outputs": [],
   "source": [
    "📥 Loading Silver cleaned datasets...\n",
    "    ✅ Silver datasets loaded\n",
    "    ✅ Loaded cleaned Silver datasets.\n",
    "    📊 Preview final de Fact_RenewableAdoption (por tecnologia):\n",
    "    +--------+---------------+---------+-----------------+--------------+-----------------------+----------------------------------------------------------------+\n",
    "    |sk_date |sk_municipality|sk_policy|num_installations|total_power_kw|national_production_gwh|sk_technology                                                   |\n",
    "    +--------+---------------+---------+-----------------+--------------+-----------------------+----------------------------------------------------------------+\n",
    "    |20240320|NULL           |NULL     |NULL             |NULL          |18.90736               |0be31780f5366cf93147741ef3f7d09c30269fa4541af88b555e9edf54e461b9|\n",
    "    |20240726|NULL           |NULL     |NULL             |NULL          |40.9059485             |0be31780f5366cf93147741ef3f7d09c30269fa4541af88b555e9edf54e461b9|\n",
    "    |20230209|NULL           |NULL     |NULL             |NULL          |59.339387              |0be31780f5366cf93147741ef3f7d09c30269fa4541af88b555e9edf54e461b9|\n",
    "    |20240522|NULL           |NULL     |NULL             |NULL          |27.10476025            |0be31780f5366cf93147741ef3f7d09c30269fa4541af88b555e9edf54e461b9|\n",
    "    |20250403|NULL           |NULL     |NULL             |NULL          |66.34277475            |0be31780f5366cf93147741ef3f7d09c30269fa4541af88b555e9edf54e461b9|\n",
    "    |20250106|NULL           |NULL     |NULL             |NULL          |58.8671175             |0be31780f5366cf93147741ef3f7d09c30269fa4541af88b555e9edf54e461b9|\n",
    "    |20240630|NULL           |NULL     |NULL             |NULL          |11.89018475            |0be31780f5366cf93147741ef3f7d09c30269fa4541af88b555e9edf54e461b9|\n",
    "    |20240926|NULL           |NULL     |NULL             |NULL          |81.78380925            |0be31780f5366cf93147741ef3f7d09c30269fa4541af88b555e9edf54e461b9|\n",
    "    |20230917|NULL           |NULL     |NULL             |NULL          |73.36303325            |0be31780f5366cf93147741ef3f7d09c30269fa4541af88b555e9edf54e461b9|\n",
    "    |20250425|NULL           |NULL     |NULL             |NULL          |38.499208              |0be31780f5366cf93147741ef3f7d09c30269fa4541af88b555e9edf54e461b9|\n",
    "    +--------+---------------+---------+-----------------+--------------+-----------------------+----------------------------------------------------------------+\n",
    "    only showing top 10 rows"
   ]
  },
  {
   "cell_type": "code",
   "execution_count": null,
   "id": "8c142c9f",
   "metadata": {},
   "outputs": [],
   "source": [
    "💾 Saving Fact_RenewableAdoption to Gold at Files/gold/Fact_RenewableAdoption.delta\n",
    "    🗃️ Registering as SQL Table...\n",
    "    ✅ SQL Table 'Fact_RenewableAdoption' registada com sucesso no metastore Fabric ⚡"
   ]
  },
  {
   "cell_type": "code",
   "execution_count": null,
   "id": "1a9e3338",
   "metadata": {},
   "outputs": [],
   "source": [
    "dim_installationtype"
   ]
  },
  {
   "cell_type": "code",
   "execution_count": null,
   "id": "b20154ff",
   "metadata": {},
   "outputs": [],
   "source": [
    "from pyspark.sql import SparkSession\n",
    "    from pyspark.sql.functions import sha2, col"
   ]
  },
  {
   "cell_type": "code",
   "execution_count": null,
   "id": "f1ab207d",
   "metadata": {},
   "outputs": [],
   "source": [
    "# Iniciar sessão Spark\n",
    "    spark = SparkSession.builder.getOrCreate()"
   ]
  },
  {
   "cell_type": "code",
   "execution_count": null,
   "id": "f13d474e",
   "metadata": {},
   "outputs": [],
   "source": [
    "# ============================\n",
    "    # STEP 1: Definir os tipos de instalação\n",
    "    # ============================\n",
    "    df_dim_installation = spark.createDataFrame([\n",
    "        (\"PLR_RenewableConnection\", \"Ligação de produção renovável à rede (PLR)\"),\n",
    "        (\"Central\", \"Central elétrica existente\"),\n",
    "        (\"NationalTotal\", \"Produção total nacional\"),\n",
    "        (\"RenewableInjection\", \"Energia renovável injetada na rede de distribuição\")\n",
    "    ], [\"installation_type\", \"description\"])"
   ]
  },
  {
   "cell_type": "code",
   "execution_count": null,
   "id": "bd2e67f1",
   "metadata": {},
   "outputs": [],
   "source": [
    "# ============================\n",
    "    # STEP 2: Gerar surrogate key\n",
    "    # ============================\n",
    "    df_dim_installation = df_dim_installation.withColumn(\n",
    "        \"sk_installation_type\", sha2(col(\"installation_type\"), 256)\n",
    "    ).select(\"sk_installation_type\", \"installation_type\", \"description\")"
   ]
  },
  {
   "cell_type": "code",
   "execution_count": null,
   "id": "02d8a728",
   "metadata": {},
   "outputs": [],
   "source": [
    "# ============================\n",
    "    # STEP 3: Guardar e Registar como SQL Table\n",
    "    # ============================\n",
    "    table_name = \"dim_installationtype\"\n",
    "    path_gold = f\"Files/gold/{table_name}.delta\""
   ]
  },
  {
   "cell_type": "code",
   "execution_count": null,
   "id": "b67073f1",
   "metadata": {},
   "outputs": [],
   "source": [
    "# Guardar como Delta\n",
    "    df_dim_installation.write \\\n",
    "        .option(\"overwriteSchema\", \"true\") \\\n",
    "        .mode(\"overwrite\") \\\n",
    "        .format(\"delta\") \\\n",
    "        .save(path_gold)"
   ]
  },
  {
   "cell_type": "code",
   "execution_count": null,
   "id": "6b310bee",
   "metadata": {},
   "outputs": [],
   "source": [
    "print(f\"💾 Saved {table_name} to Gold at {path_gold}\")"
   ]
  },
  {
   "cell_type": "code",
   "execution_count": null,
   "id": "dc351664",
   "metadata": {},
   "outputs": [],
   "source": [
    "# Registar como tabela SQL\n",
    "    spark.sql(f\"DROP TABLE IF EXISTS {table_name}\")\n",
    "    df_dim_installation.write \\\n",
    "        .option(\"overwriteSchema\", \"true\") \\\n",
    "        .mode(\"overwrite\") \\\n",
    "        .format(\"delta\") \\\n",
    "        .saveAsTable(table_name)"
   ]
  },
  {
   "cell_type": "code",
   "execution_count": null,
   "id": "3bee8cc6",
   "metadata": {},
   "outputs": [],
   "source": [
    "print(f\"✅ SQL Table '{table_name}' registada com sucesso no Fabric\")"
   ]
  },
  {
   "cell_type": "code",
   "execution_count": null,
   "id": "3d83321c",
   "metadata": {},
   "outputs": [],
   "source": [
    "# ============================\n",
    "    # STEP 4: Preview\n",
    "    # ============================\n",
    "    print(\"📑 Schema da tabela dim_installationtype:\")\n",
    "    df_dim_installation.printSchema()"
   ]
  },
  {
   "cell_type": "code",
   "execution_count": null,
   "id": "6f99a218",
   "metadata": {},
   "outputs": [],
   "source": [
    "print(\"🔍 Preview da dimensão:\")\n",
    "    df_dim_installation.show(truncate=False)"
   ]
  },
  {
   "cell_type": "code",
   "execution_count": null,
   "id": "10fc21b2",
   "metadata": {},
   "outputs": [],
   "source": [
    "{\"execution_finish_time\":\"2025-06-27T21:40:06.9901685Z\",\"execution_start_time\":\"2025-06-27T21:39:41.8624192Z\",\"livy_statement_state\":\"available\",\"normalized_state\":\"finished\",\"parent_msg_id\":\"630ec00f-93f2-4dc1-a96d-6c60f4d248b3\",\"queued_time\":\"2025-06-27T21:39:41.8610708Z\",\"session_id\":\"1d5d1861-c930-4e10-8f88-13fdeacc0d7e\",\"session_start_time\":null,\"spark_pool\":null,\"state\":\"finished\",\"statement_id\":7,\"statement_ids\":[7]}"
   ]
  },
  {
   "cell_type": "code",
   "execution_count": null,
   "id": "39160d8d",
   "metadata": {},
   "outputs": [],
   "source": [
    "💾 Saved Dim_InstallationType to Gold at Files/gold/Dim_InstallationType.delta\n",
    "    ✅ SQL Table 'Dim_InstallationType' registada com sucesso no Fabric\n",
    "    📑 Schema da tabela Dim_InstallationType:\n",
    "    root\n",
    "     |-- sk_installation_type: string (nullable = true)\n",
    "     |-- installation_type: string (nullable = true)\n",
    "     |-- description: string (nullable = true)"
   ]
  },
  {
   "cell_type": "code",
   "execution_count": null,
   "id": "7d8260c1",
   "metadata": {},
   "outputs": [],
   "source": [
    "🔍 Preview da dimensão:\n",
    "    +----------------------------------------------------------------+-----------------------+--------------------------------------------------+\n",
    "    |sk_installation_type                                            |installation_type      |description                                       |\n",
    "    +----------------------------------------------------------------+-----------------------+--------------------------------------------------+\n",
    "    |cd812bd96766b63f054062a53f1d66fd82c06f800ca614ab1264e9e2d80f50c7|PLR_RenewableConnection|Ligação de produção renovável à rede (PLR)        |\n",
    "    |0200f0d078fcfa701ae188a25bfb1809c9488d72ad1bfdeba59b85c6935690fa|Central                |Central elétrica existente                        |\n",
    "    |db467ee9772b1be4a61a986d036176888251eb523b860c85a770fec36093074e|NationalTotal          |Produção total nacional                           |\n",
    "    |4042252ffaec354c5883c68e32386e962c3e83d685b7e579953cb75052511f35|RenewableInjection     |Energia renovável injetada na rede de distribuição|\n",
    "    +----------------------------------------------------------------+-----------------------+--------------------------------------------------+"
   ]
  },
  {
   "cell_type": "code",
   "execution_count": null,
   "id": "06408a53",
   "metadata": {},
   "outputs": [],
   "source": [
    "fact_gridoperations"
   ]
  },
  {
   "cell_type": "code",
   "execution_count": null,
   "id": "b6fbe41c",
   "metadata": {},
   "outputs": [],
   "source": [
    "from pyspark.sql import SparkSession \n",
    "    from pyspark.sql.functions import (\n",
    "        concat_ws, lit, lpad, to_date, last_day, col,\n",
    "        sum, count, split, date_format, regexp_extract, when, length\n",
    "    )"
   ]
  },
  {
   "cell_type": "code",
   "execution_count": null,
   "id": "94fb2bc0",
   "metadata": {},
   "outputs": [],
   "source": [
    "# Iniciar sessão Spark\n",
    "    spark = SparkSession.builder.getOrCreate()"
   ]
  },
  {
   "cell_type": "code",
   "execution_count": null,
   "id": "e8083045",
   "metadata": {},
   "outputs": [],
   "source": [
    "# ============================\n",
    "    # 1. Load Cleaned Silver Datasets\n",
    "    # ============================\n",
    "    df_reads_raw = spark.read.format(\"delta\").load(\"Files/silver/23_leituras_recolhidas_remotamente_cleaned.delta\")\n",
    "    df_orders_raw = spark.read.format(\"delta\").load(\"Files/silver/16_pedidos_concluidos_plrs_cleaned.delta\")\n",
    "    print(\"✅ Loaded cleaned Silver datasets.\")"
   ]
  },
  {
   "cell_type": "code",
   "execution_count": null,
   "id": "7fb14e24",
   "metadata": {},
   "outputs": [],
   "source": [
    "# ============================\n",
    "    # 2. Clean df_reads\n",
    "    # ============================\n",
    "    df_reads = df_reads_raw \\\n",
    "        .filter(col(\"data\").isNotNull()) \\\n",
    "        .withColumn(\n",
    "            \"date\",\n",
    "            when(length(col(\"data\")) == 10, to_date(col(\"data\"), \"yyyy-MM-dd\"))\n",
    "            .when(length(col(\"data\")) == 7, last_day(to_date(col(\"data\"), \"yyyy-MM\")))\n",
    "        ) \\\n",
    "        .filter(col(\"date\").isNotNull()) \\\n",
    "        .withColumn(\"sk_date\", date_format(\"date\", \"yyyyMMdd\").cast(\"int\")) \\\n",
    "        .filter((col(\"sk_date\").isNotNull()) & (col(\"sk_date\") > 19000000))"
   ]
  },
  {
   "cell_type": "code",
   "execution_count": null,
   "id": "076373a9",
   "metadata": {},
   "outputs": [],
   "source": [
    "# ============================\n",
    "    # 3. Clean df_orders (já tem date e sk_date)\n",
    "    # ============================\n",
    "    df_orders = df_orders_raw \\\n",
    "        .filter(col(\"sk_date\").isNotNull()) \\\n",
    "        .filter(col(\"sk_municipality\").isNotNull()) \\\n",
    "        .select(\"sk_date\", \"sk_municipality\", \"pedidos\")  # já está limpo"
   ]
  },
  {
   "cell_type": "code",
   "execution_count": null,
   "id": "54149649",
   "metadata": {},
   "outputs": [],
   "source": [
    "# ============================\n",
    "    # 4. Aggregations\n",
    "    # ============================\n",
    "    reads_agg = df_reads.groupBy(\"sk_date\", \"sk_municipality\").agg(\n",
    "        sum(col(\"cpes_com_leituras\").cast(\"int\")).alias(\"RemoteReads_Count\")\n",
    "    )"
   ]
  },
  {
   "cell_type": "code",
   "execution_count": null,
   "id": "b210afcc",
   "metadata": {},
   "outputs": [],
   "source": [
    "orders_agg = df_orders.groupBy(\"sk_date\", \"sk_municipality\").agg(\n",
    "        sum(\"pedidos\").alias(\"ServiceOrders_Count\")\n",
    "    )"
   ]
  },
  {
   "cell_type": "code",
   "execution_count": null,
   "id": "d9caab10",
   "metadata": {},
   "outputs": [],
   "source": [
    "print(\"✅ Aggregations concluídas com sucesso.\")"
   ]
  },
  {
   "cell_type": "code",
   "execution_count": null,
   "id": "ea54b519",
   "metadata": {},
   "outputs": [],
   "source": [
    "# ============================\n",
    "    # 5. Join Aggregates\n",
    "    # ============================\n",
    "    df_fact = reads_agg.join(orders_agg, on=[\"sk_date\", \"sk_municipality\"], how=\"outer\").na.fill(0)\n",
    "    print(\"✅ Preview da Fact Table combinada:\")\n",
    "    df_fact.show(10, truncate=False)"
   ]
  },
  {
   "cell_type": "code",
   "execution_count": null,
   "id": "4b0469cf",
   "metadata": {},
   "outputs": [],
   "source": [
    "# ============================\n",
    "    # 6. Save and Register SQL Table\n",
    "    # ============================\n",
    "    table_name = \"fact_gridoperations\"\n",
    "    path_gold = f\"Files/gold/{table_name}.delta\""
   ]
  },
  {
   "cell_type": "code",
   "execution_count": null,
   "id": "6fa03744",
   "metadata": {},
   "outputs": [],
   "source": [
    "# Guardar como Delta na Gold Layer\n",
    "    df_fact.write \\\n",
    "        .option(\"overwriteSchema\", \"true\") \\\n",
    "        .mode(\"overwrite\") \\\n",
    "        .format(\"delta\") \\\n",
    "        .save(path_gold)\n",
    "    print(f\"💾 Saved {table_name} to Gold at {path_gold}\")"
   ]
  },
  {
   "cell_type": "code",
   "execution_count": null,
   "id": "e0f9940e",
   "metadata": {},
   "outputs": [],
   "source": [
    "# Registar como SQL Table visível no Power BI\n",
    "    spark.sql(f\"DROP TABLE IF EXISTS {table_name}\")\n",
    "    df_fact.write \\\n",
    "        .option(\"overwriteSchema\", \"true\") \\\n",
    "        .mode(\"overwrite\") \\\n",
    "        .format(\"delta\") \\\n",
    "        .saveAsTable(table_name)\n",
    "    print(f\"✅ SQL Table '{table_name}' registada com sucesso no metastore Fabric 🎯\")"
   ]
  },
  {
   "cell_type": "code",
   "execution_count": null,
   "id": "823d73e9",
   "metadata": {},
   "outputs": [],
   "source": [
    "{\"execution_finish_time\":\"2025-06-28T18:27:04.567095Z\",\"execution_start_time\":\"2025-06-28T18:26:52.6623609Z\",\"livy_statement_state\":\"available\",\"normalized_state\":\"finished\",\"parent_msg_id\":\"090e6207-e9ca-48fd-bafc-e41200529789\",\"queued_time\":\"2025-06-28T18:26:52.6610708Z\",\"session_id\":\"8afc2853-d9fe-4fe7-b578-be998f39163a\",\"session_start_time\":null,\"spark_pool\":null,\"state\":\"finished\",\"statement_id\":7,\"statement_ids\":[7]}"
   ]
  },
  {
   "cell_type": "code",
   "execution_count": null,
   "id": "cfc3bf82",
   "metadata": {},
   "outputs": [],
   "source": [
    "✅ Loaded cleaned Silver datasets.\n",
    "    ✅ Aggregations concluídas com sucesso.\n",
    "    ✅ Preview da Fact Table combinada:\n",
    "    +--------+----------------------------------------------------------------+-----------------+-------------------+\n",
    "    |sk_date |sk_municipality                                                 |RemoteReads_Count|ServiceOrders_Count|\n",
    "    +--------+----------------------------------------------------------------+-----------------+-------------------+\n",
    "    |20210630|009f8ca79b63c5ed54e3c65b39302529954949020538da5209f6c993ee3e3385|0                |173                |\n",
    "    |20210630|00ed80ce99753ed4d66f64d1ff3a9faad0fb2f23f5a2f934a98f2923083b9995|0                |222                |\n",
    "    |20210630|0164dacb1b33e8ecedd9262db9316baece6b500d6ed6aa9707282a65b3b4db8c|0                |53                 |\n",
    "    |20210630|01f8f6eb536c2ec47db6bf08999db978076d19ad04d234e7be4886d6fa52531d|0                |47                 |\n",
    "    |20210630|032fa22e7767c6ef9718b55865ddce365f7537415568a2ca45f7b0ee67710d88|0                |213                |\n",
    "    |20210630|03449b54a14c4ab8c119fe03278c208dc98f861fa43b76151c0c2a17f4fa7cc1|0                |71                 |\n",
    "    |20210630|04051e189e0d70b955ffd7ed5831954e882b8f11d6cc8fb0e773ef28191dc2fd|0                |34                 |\n",
    "    |20210630|042c9b16bf8dae32d4185a651112f6d7852e254fcfe38f6a91b62a828bfd45bd|0                |14                 |\n",
    "    |20210630|04588e08c0ec8e61a0216e391351760cf60dae18d39e1db14ba3e9a8d220a323|0                |43                 |\n",
    "    |20210630|05a0c565eb5f30c69360c1e74ddab325e04057f38a9c71457158d0a8dd2703ec|0                |81                 |\n",
    "    +--------+----------------------------------------------------------------+-----------------+-------------------+\n",
    "    only showing top 10 rows"
   ]
  },
  {
   "cell_type": "code",
   "execution_count": null,
   "id": "65c7fc29",
   "metadata": {},
   "outputs": [],
   "source": [
    "💾 Saved Fact_GridOperations to Gold at Files/gold/Fact_GridOperations.delta\n",
    "    ✅ SQL Table 'Fact_GridOperations' registada com sucesso no metastore Fabric 🎯"
   ]
  },
  {
   "cell_type": "code",
   "execution_count": null,
   "id": "38af4a21",
   "metadata": {},
   "outputs": [],
   "source": [
    "fact_serviceinterruptions"
   ]
  },
  {
   "cell_type": "code",
   "execution_count": null,
   "id": "98d562b0",
   "metadata": {},
   "outputs": [],
   "source": [
    "from pyspark.sql.functions import sha2, col, to_timestamp, to_date, concat_ws, lit, lpad"
   ]
  },
  {
   "cell_type": "code",
   "execution_count": null,
   "id": "95ebb4e8",
   "metadata": {},
   "outputs": [],
   "source": [
    "print(\"🧼 Cleaning and transforming outages_per_geography...\")\n",
    "    df_cleaned = df_outages \\\n",
    "        .withColumn(\"date\", to_date(to_timestamp(\"extractiondatetime\"))) \\\n",
    "        .withColumn(\"zipcode4\", col(\"zipcode\").substr(1, 4)) \\\n",
    "        .withColumn(\"sk_date\", sha2(col(\"date\").cast(\"string\"), 256)) \\\n",
    "        .withColumn(\"sk_zipcode\", sha2(col(\"zipcode4\"), 256)) \\\n",
    "        .withColumn(\"sk_municipality\", sha2(concat_ws(\"-\", lit(\"Lisboa\"), col(\"municipality\")), 256)) \\\n",
    "        .withColumn(\"interruption_flag\", col(\"interrupcao_ativa\").cast(\"int\"))"
   ]
  },
  {
   "cell_type": "code",
   "execution_count": null,
   "id": "7f9379a8",
   "metadata": {},
   "outputs": [],
   "source": [
    "print(\"📊 Selecting final fields for fact_serviceinterruptions...\")\n",
    "    fact_serviceinterruptions = df_cleaned.select(\n",
    "        \"sk_date\",\n",
    "        \"sk_zipcode\",\n",
    "        \"sk_municipality\",\n",
    "        \"interruption_flag\"\n",
    "    )"
   ]
  },
  {
   "cell_type": "code",
   "execution_count": null,
   "id": "beeced81",
   "metadata": {},
   "outputs": [],
   "source": [
    "# Guardar como tabela Delta Gold\n",
    "    fact_serviceinterruptions.write \\\n",
    "        .format(\"delta\") \\\n",
    "        .mode(\"overwrite\") \\\n",
    "        .option(\"overwriteSchema\", \"true\") \\\n",
    "        .save(\"Files/gold/fact_serviceinterruptions.delta\")"
   ]
  },
  {
   "cell_type": "code",
   "execution_count": null,
   "id": "be2ee993",
   "metadata": {},
   "outputs": [],
   "source": [
    "# Registar como tabela SQL\n",
    "    spark.sql(\"DROP TABLE IF EXISTS fact_serviceinterruptions\")\n",
    "    spark.sql(\"\"\"\n",
    "        CREATE TABLE fact_serviceinterruptions\n",
    "        USING DELTA\n",
    "        LOCATION 'Files/gold/fact_serviceinterruptions.delta'\n",
    "    \"\"\")"
   ]
  },
  {
   "cell_type": "code",
   "execution_count": null,
   "id": "4067416d",
   "metadata": {},
   "outputs": [],
   "source": [
    "print(\"✅ fact_serviceinterruptions criada com sucesso.\")"
   ]
  },
  {
   "cell_type": "code",
   "execution_count": null,
   "id": "de43f7b3",
   "metadata": {},
   "outputs": [],
   "source": [
    "{\"execution_finish_time\":\"2025-06-18T20:56:24.7737157Z\",\"execution_start_time\":\"2025-06-18T20:55:28.0815251Z\",\"livy_statement_state\":\"available\",\"normalized_state\":\"finished\",\"parent_msg_id\":\"c2307957-79d6-4a3d-993b-c95dd8c13b94\",\"queued_time\":\"2025-06-18T20:55:28.0801451Z\",\"session_id\":\"886920ea-a949-4033-81d6-cca974ac4db8\",\"session_start_time\":null,\"spark_pool\":null,\"state\":\"finished\",\"statement_id\":8,\"statement_ids\":[8]}"
   ]
  },
  {
   "cell_type": "code",
   "execution_count": null,
   "id": "395115fd",
   "metadata": {},
   "outputs": [],
   "source": [
    "🧼 Cleaning and transforming outages_per_geography...\n",
    "    📊 Selecting final fields for Fact_ServiceInterruptions...\n",
    "    ✅ Fact_ServiceInterruptions criada com sucesso."
   ]
  },
  {
   "cell_type": "code",
   "execution_count": null,
   "id": "b1b025b3",
   "metadata": {},
   "outputs": [],
   "source": [
    "fact_electricmobility"
   ]
  },
  {
   "cell_type": "code",
   "execution_count": null,
   "id": "184906cc",
   "metadata": {},
   "outputs": [],
   "source": [
    "from pyspark.sql import SparkSession\n",
    "    from pyspark.sql.functions import (\n",
    "        col, upper, trim, regexp_extract, sum as _sum, when,\n",
    "        concat_ws, lit, to_date, date_format\n",
    "    )"
   ]
  },
  {
   "cell_type": "code",
   "execution_count": null,
   "id": "71c40e01",
   "metadata": {},
   "outputs": [],
   "source": [
    "# Iniciar sessão Spark\n",
    "    spark = SparkSession.builder.getOrCreate()"
   ]
  },
  {
   "cell_type": "code",
   "execution_count": null,
   "id": "ee85ccbe",
   "metadata": {},
   "outputs": [],
   "source": [
    "# ============================\n",
    "    # 1. Load Cleaned Silver Tables\n",
    "    # ============================\n",
    "    df_ves = spark.read.format(\"delta\").load(\"Files/silver/postos_carregamento_ves_cleaned.delta\")\n",
    "    df_plr = spark.read.format(\"delta\").load(\"Files/silver/9_plr_mobilidade_eletrica_cleaned.delta\")\n",
    "    dim_muni = spark.read.format(\"delta\").load(\"Files/silver/dim_municipality.delta\")"
   ]
  },
  {
   "cell_type": "code",
   "execution_count": null,
   "id": "5d20aa51",
   "metadata": {},
   "outputs": [],
   "source": [
    "# ============================\n",
    "    # 2. Normalize & Extract Year\n",
    "    # ============================\n",
    "    df_ves = df_ves.withColumn(\"municipality\", upper(trim(col(\"municipality\"))))\n",
    "    df_ves = df_ves.withColumn(\"ano\", regexp_extract(\"trimestre\", r\"(\\d{4})\", 1))"
   ]
  },
  {
   "cell_type": "code",
   "execution_count": null,
   "id": "9a741d28",
   "metadata": {},
   "outputs": [],
   "source": [
    "df_ves = df_ves.withColumn(\n",
    "        \"date\",\n",
    "        when(col(\"trimestre\").contains(\"T1\"), concat_ws(\"-\", col(\"ano\"), lit(\"03\"), lit(\"31\")))\n",
    "        .when(col(\"trimestre\").contains(\"T2\"), concat_ws(\"-\", col(\"ano\"), lit(\"06\"), lit(\"30\")))\n",
    "        .when(col(\"trimestre\").contains(\"T3\"), concat_ws(\"-\", col(\"ano\"), lit(\"09\"), lit(\"30\")))\n",
    "        .when(col(\"trimestre\").contains(\"T4\"), concat_ws(\"-\", col(\"ano\"), lit(\"12\"), lit(\"31\")))\n",
    "    )\n",
    "    df_ves = df_ves.withColumn(\"date\", to_date(\"date\", \"yyyy-MM-dd\"))\n",
    "    df_ves = df_ves.withColumn(\"sk_date\", date_format(\"date\", \"yyyyMMdd\").cast(\"int\"))"
   ]
  },
  {
   "cell_type": "code",
   "execution_count": null,
   "id": "d1e48648",
   "metadata": {},
   "outputs": [],
   "source": [
    "# ============================\n",
    "    # 3. Normalize PLR and Aggregate\n",
    "    # ============================\n",
    "    df_plr = df_plr.withColumn(\"municipality\", upper(trim(col(\"municipality\"))))\n",
    "    df_plr = df_plr.withColumn(\"ano\", col(\"ano\").cast(\"string\"))"
   ]
  },
  {
   "cell_type": "code",
   "execution_count": null,
   "id": "7e45bc4f",
   "metadata": {},
   "outputs": [],
   "source": [
    "df_plr_agg = df_plr.groupBy(\"municipality\", \"ano\") \\\n",
    "        .agg(_sum(\"pedidos_de_ligacao_a_rede_executados\").alias(\"pedidos_total\"))"
   ]
  },
  {
   "cell_type": "code",
   "execution_count": null,
   "id": "d4291329",
   "metadata": {},
   "outputs": [],
   "source": [
    "# ============================\n",
    "    # 4. Join VES with PLR\n",
    "    # ============================\n",
    "    df_fact = df_ves.join(\n",
    "        df_plr_agg,\n",
    "        on=[\"municipality\", \"ano\"],\n",
    "        how=\"left\"\n",
    "    )"
   ]
  },
  {
   "cell_type": "code",
   "execution_count": null,
   "id": "898612aa",
   "metadata": {},
   "outputs": [],
   "source": [
    "# ============================\n",
    "    # 5. Join with dim_municipality\n",
    "    # ============================\n",
    "    if \"sk_municipality\" in df_fact.columns:\n",
    "        df_fact = df_fact.drop(\"sk_municipality\")"
   ]
  },
  {
   "cell_type": "code",
   "execution_count": null,
   "id": "160b9cb2",
   "metadata": {},
   "outputs": [],
   "source": [
    "df_fact = df_fact.join(\n",
    "        dim_muni.select(\"municipality\", \"sk_municipality\"),\n",
    "        on=\"municipality\",\n",
    "        how=\"left\"\n",
    "    )"
   ]
  },
  {
   "cell_type": "code",
   "execution_count": null,
   "id": "9a2a5a4f",
   "metadata": {},
   "outputs": [],
   "source": [
    "# ============================\n",
    "    # 6. Select Final Columns\n",
    "    # ============================\n",
    "    df_fact_final = df_fact.select(\n",
    "        \"sk_date\",\n",
    "        \"sk_municipality\",\n",
    "        \"potencia_maxima_admissivel\",\n",
    "        \"num_instalacoes\",\n",
    "        \"pedidos_total\"\n",
    "    )"
   ]
  },
  {
   "cell_type": "code",
   "execution_count": null,
   "id": "22270e15",
   "metadata": {},
   "outputs": [],
   "source": [
    "df_fact_final.show(15, truncate=False)"
   ]
  },
  {
   "cell_type": "code",
   "execution_count": null,
   "id": "6c157f71",
   "metadata": {},
   "outputs": [],
   "source": [
    "# ============================\n",
    "    # 7. Save to Gold Layer and Register as SQL Table\n",
    "    # ============================"
   ]
  },
  {
   "cell_type": "code",
   "execution_count": null,
   "id": "c01ff9a6",
   "metadata": {},
   "outputs": [],
   "source": [
    "# ⚠️ Nome canónico para SQL (sem espaços, camel case consistente)\n",
    "    table_name = \"fact_electricmobility\"\n",
    "    path_gold = f\"Files/gold/{table_name}.delta\""
   ]
  },
  {
   "cell_type": "code",
   "execution_count": null,
   "id": "b103cb8f",
   "metadata": {},
   "outputs": [],
   "source": [
    "# Guardar como Delta (Gold)\n",
    "    df_fact_final.write \\\n",
    "        .option(\"overwriteSchema\", \"true\") \\\n",
    "        .mode(\"overwrite\") \\\n",
    "        .format(\"delta\") \\\n",
    "        .save(path_gold)\n",
    "    print(f\"💾 Saved {table_name} to {path_gold}\")"
   ]
  },
  {
   "cell_type": "code",
   "execution_count": null,
   "id": "acec8dbf",
   "metadata": {},
   "outputs": [],
   "source": [
    "# Apagar versão anterior da tabela SQL (segurança extra opcional)\n",
    "    spark.sql(f\"DROP TABLE IF EXISTS {table_name}\")"
   ]
  },
  {
   "cell_type": "code",
   "execution_count": null,
   "id": "9c5ea154",
   "metadata": {},
   "outputs": [],
   "source": [
    "# Registar como SQL Table\n",
    "    df_fact_final.write \\\n",
    "        .option(\"overwriteSchema\", \"true\") \\\n",
    "        .mode(\"overwrite\") \\\n",
    "        .format(\"delta\") \\\n",
    "        .saveAsTable(table_name)\n",
    "    print(f\"✅ SQL Table '{table_name}' registada com sucesso no metastore!\")"
   ]
  },
  {
   "cell_type": "code",
   "execution_count": null,
   "id": "049757d9",
   "metadata": {},
   "outputs": [],
   "source": [
    "{\"execution_finish_time\":\"2025-06-24T20:17:03.6622356Z\",\"execution_start_time\":\"2025-06-24T20:16:19.7431325Z\",\"livy_statement_state\":\"available\",\"normalized_state\":\"finished\",\"parent_msg_id\":\"36ebc6a3-c330-4cd2-9ea5-23ecd2c6ccab\",\"queued_time\":\"2025-06-24T20:16:09.3956008Z\",\"session_id\":\"d80b9515-da52-44ad-b2ce-38e88a008065\",\"session_start_time\":\"2025-06-24T20:16:09.39655Z\",\"spark_pool\":null,\"state\":\"finished\",\"statement_id\":3,\"statement_ids\":[3]}"
   ]
  },
  {
   "cell_type": "code",
   "execution_count": null,
   "id": "087c2b42",
   "metadata": {},
   "outputs": [],
   "source": [
    "+--------+----------------------------------------------------------------+--------------------------+---------------+-------------+\n",
    "    |sk_date |sk_municipality                                                 |potencia_maxima_admissivel|num_instalacoes|pedidos_total|\n",
    "    +--------+----------------------------------------------------------------+--------------------------+---------------+-------------+\n",
    "    |20240630|53c6caee2474904a0b99435a547b095a6b6e1d8965f9308ace7bf60ea1ede6a7|10.35                     |2              |2.0          |\n",
    "    |20240630|6a16057303e5690a879a6d4e7dee74184379aa5376d4f089a1583285df5087d7|20.7                      |1              |1.0          |\n",
    "    |20240630|ab6064b5ad9c7d201a6d673c065dbf14f0b3e68a5dc14372b5fb919696046e9e|400.0                     |3              |12.0         |\n",
    "    |20240630|76517a9e1e8a26395c34dbc7666d1171b14ab32b78bcac8c21eb191757f7859f|20.7                      |4              |1.0          |\n",
    "    |20240630|3ea0d7cb8c59962370b69b2632ea1f292154407b07cec4c98368410a45beb661|10.35                     |1              |1.0          |\n",
    "    |20240630|ab6064b5ad9c7d201a6d673c065dbf14f0b3e68a5dc14372b5fb919696046e9e|6.9                       |2              |12.0         |\n",
    "    |20240630|5921083550017b761ae29ffb4fdf39cdb3da6c19c98c62a3bb31f43d7eafd767|62.62                     |1              |1.0          |\n",
    "    |20240630|e930b8b50b364f34be9068634cc655b89c3f3bea0272e44892559e326badddff|400.0                     |1              |7.0          |\n",
    "    |20240630|a7fb70c3249a24ed593850d297538b59b0bcfa5caa21851acb7f910df87fb9fc|200.0                     |1              |NULL         |\n",
    "    |20240630|a0abb5721879d137f6bc7f13c80866b0ed61e90aef56e39a39ed64a431158ef0|110.0                     |2              |1.0          |\n",
    "    |20240630|d5f9d748e5f950ffc4a1cd0303b19e1d47e0d3e143067f7a0b1c38f4af9d3f99|13.8                      |1              |3.0          |\n",
    "    |20240630|01f8f6eb536c2ec47db6bf08999db978076d19ad04d234e7be4886d6fa52531d|10.35                     |5              |NULL         |\n",
    "    |20240630|92168b946d847a6d96b631ace7968ea84dd70b533e3ec5e6bafe241e8680b7ac|2000.0                    |1              |21.0         |\n",
    "    |20240630|b14c6347f8bbc7219d389217ee34c9fbb50379fe491382176c6fc0f3f506bbca|6.9                       |1              |4.0          |\n",
    "    |20240630|89368e7c0071377ace472e98f8f1b717864091a7c2c9aaaadad6c77296cd63dc|140.0                     |2              |19.0         |\n",
    "    +--------+----------------------------------------------------------------+--------------------------+---------------+-------------+\n",
    "    only showing top 15 rows"
   ]
  },
  {
   "cell_type": "code",
   "execution_count": null,
   "id": "91aca307",
   "metadata": {},
   "outputs": [],
   "source": [
    "💾 Saved Fact_ElectricMobility to Files/gold/Fact_ElectricMobility.delta\n",
    "    ✅ SQL Table 'Fact_ElectricMobility' registada com sucesso no metastore!"
   ]
  },
  {
   "cell_type": "code",
   "execution_count": null,
   "id": "a9908a9e",
   "metadata": {},
   "outputs": [],
   "source": [
    "fact_serviceorders"
   ]
  },
  {
   "cell_type": "code",
   "execution_count": null,
   "id": "1ee2891d",
   "metadata": {},
   "outputs": [],
   "source": [
    "from pyspark.sql import SparkSession\n",
    "    from pyspark.sql.functions import (\n",
    "        col, sha2, concat_ws, to_date, sum as _sum\n",
    "    )"
   ]
  },
  {
   "cell_type": "code",
   "execution_count": null,
   "id": "6fccbab8",
   "metadata": {},
   "outputs": [],
   "source": [
    "# Iniciar Spark session\n",
    "    spark = SparkSession.builder.getOrCreate()"
   ]
  },
  {
   "cell_type": "code",
   "execution_count": null,
   "id": "be3d940f",
   "metadata": {},
   "outputs": [],
   "source": [
    "# =============================\n",
    "    # 1. Load Cleaned Silver Dataset\n",
    "    # =============================\n",
    "    print(\"📥 Loading Silver cleaned dataset...\")\n",
    "    df_orders = spark.read.format(\"delta\").load(\"Files/silver/15_ordens_de_servico_cleaned.delta\")\n",
    "    print(\"✅ Dataset loaded:\")\n",
    "    df_orders.printSchema()"
   ]
  },
  {
   "cell_type": "code",
   "execution_count": null,
   "id": "12380b91",
   "metadata": {},
   "outputs": [],
   "source": [
    "# =============================\n",
    "    # 2. Generate sk_date\n",
    "    # =============================\n",
    "    print(\"📅 Generating sk_date from 'data' column...\")\n",
    "    df_orders = df_orders.withColumn(\"sk_date\", sha2(col(\"data\").cast(\"string\"), 256))"
   ]
  },
  {
   "cell_type": "code",
   "execution_count": null,
   "id": "cb09c374",
   "metadata": {},
   "outputs": [],
   "source": [
    "# =============================\n",
    "    # 3. Join with dim_servicetype\n",
    "    # =============================\n",
    "    print(\"🔗 Joining with dim_servicetype...\")\n",
    "    dim_service = spark.read.table(\"dim_servicetype\")"
   ]
  },
  {
   "cell_type": "code",
   "execution_count": null,
   "id": "9f4a50e5",
   "metadata": {},
   "outputs": [],
   "source": [
    "df_orders = df_orders.join(\n",
    "        dim_service,\n",
    "        df_orders[\"tipo_de_servico\"] == dim_service[\"service_type\"],\n",
    "        how=\"left\"\n",
    "    ).drop(\"service_type\")"
   ]
  },
  {
   "cell_type": "code",
   "execution_count": null,
   "id": "008e62dd",
   "metadata": {},
   "outputs": [],
   "source": [
    "# =============================\n",
    "    # 4. Clean and Cast\n",
    "    # =============================\n",
    "    print(\"🧼 Filtering non-null keys and casting column...\")\n",
    "    df_orders = df_orders.filter(\n",
    "        col(\"sk_date\").isNotNull() &\n",
    "        col(\"sk_municipality\").isNotNull() &\n",
    "        col(\"sk_service_type\").isNotNull()\n",
    "    )"
   ]
  },
  {
   "cell_type": "code",
   "execution_count": null,
   "id": "5c1614f2",
   "metadata": {},
   "outputs": [],
   "source": [
    "df_orders = df_orders.withColumn(\"service_orders\", col(\"ordens_servico_realizadas\").cast(\"int\"))"
   ]
  },
  {
   "cell_type": "code",
   "execution_count": null,
   "id": "6c7567f4",
   "metadata": {},
   "outputs": [],
   "source": [
    "# =============================\n",
    "    # 5. Aggregate\n",
    "    # =============================\n",
    "    print(\"📊 Aggregating by sk_date, sk_municipality, sk_service_type...\")\n",
    "    fact_df = df_orders.groupBy(\n",
    "        \"sk_date\", \"sk_municipality\", \"sk_service_type\"\n",
    "    ).agg(\n",
    "        _sum(\"service_orders\").alias(\"service_orders\")\n",
    "    )"
   ]
  },
  {
   "cell_type": "code",
   "execution_count": null,
   "id": "6068a459",
   "metadata": {},
   "outputs": [],
   "source": [
    "# =============================\n",
    "    # 6. Preview\n",
    "    # =============================\n",
    "    print(\"📋 Preview of fact_serviceorders:\")\n",
    "    fact_df.printSchema()\n",
    "    fact_df.show(10, truncate=False)"
   ]
  },
  {
   "cell_type": "code",
   "execution_count": null,
   "id": "77650fc8",
   "metadata": {},
   "outputs": [],
   "source": [
    "# =============================\n",
    "    # 7. Save and Register as SQL Table\n",
    "    # =============================\n",
    "    table_name = \"fact_serviceorders\"\n",
    "    path_gold = f\"Files/gold/{table_name}.delta\""
   ]
  },
  {
   "cell_type": "code",
   "execution_count": null,
   "id": "fc600c23",
   "metadata": {},
   "outputs": [],
   "source": [
    "print(f\"💾 Saving to Gold: {path_gold}\")\n",
    "    fact_df.write.format(\"delta\").mode(\"overwrite\").option(\"overwriteSchema\", \"true\").save(path_gold)"
   ]
  },
  {
   "cell_type": "code",
   "execution_count": null,
   "id": "de38e4a6",
   "metadata": {},
   "outputs": [],
   "source": [
    "spark.sql(f\"DROP TABLE IF EXISTS {table_name}\")\n",
    "    fact_df.write.format(\"delta\").mode(\"overwrite\").option(\"overwriteSchema\", \"true\").saveAsTable(table_name)\n",
    "    print(f\"✅ SQL Table '{table_name}' registered and ready for Power BI.\")"
   ]
  },
  {
   "cell_type": "code",
   "execution_count": null,
   "id": "3513f767",
   "metadata": {},
   "outputs": [],
   "source": [
    "{\"execution_finish_time\":\"2025-06-24T20:33:23.9452703Z\",\"execution_start_time\":\"2025-06-24T20:33:09.7380561Z\",\"livy_statement_state\":\"available\",\"normalized_state\":\"finished\",\"parent_msg_id\":\"e18e0de6-2b9b-4a45-8190-4d779610a53b\",\"queued_time\":\"2025-06-24T20:33:09.7368166Z\",\"session_id\":\"d80b9515-da52-44ad-b2ce-38e88a008065\",\"session_start_time\":null,\"spark_pool\":null,\"state\":\"finished\",\"statement_id\":11,\"statement_ids\":[11]}"
   ]
  },
  {
   "cell_type": "code",
   "execution_count": null,
   "id": "3c9e52cc",
   "metadata": {},
   "outputs": [],
   "source": [
    "📥 Loading Silver cleaned dataset...\n",
    "    ✅ Dataset loaded:\n",
    "    root\n",
    "     |-- ano: string (nullable = true)\n",
    "     |-- mes: string (nullable = true)\n",
    "     |-- data: string (nullable = true)\n",
    "     |-- distrito: string (nullable = true)\n",
    "     |-- concelho: string (nullable = true)\n",
    "     |-- freguesia: string (nullable = true)\n",
    "     |-- tipo_de_servico: string (nullable = true)\n",
    "     |-- ordens_servico_realizadas: string (nullable = true)\n",
    "     |-- coddistrito: string (nullable = true)\n",
    "     |-- coddistritoconcelho: string (nullable = true)\n",
    "     |-- coddistritoconcelhofreguesia: string (nullable = true)\n",
    "     |-- district: string (nullable = true)\n",
    "     |-- municipality: string (nullable = true)\n",
    "     |-- parish: string (nullable = true)\n",
    "     |-- sk_district: string (nullable = true)\n",
    "     |-- sk_municipality: string (nullable = true)\n",
    "     |-- sk_parish: string (nullable = true)"
   ]
  },
  {
   "cell_type": "code",
   "execution_count": null,
   "id": "33446741",
   "metadata": {},
   "outputs": [],
   "source": [
    "📅 Generating sk_date from 'data' column...\n",
    "    🔗 Joining with Dim_ServiceType...\n",
    "    🧼 Filtering non-null keys and casting column...\n",
    "    📊 Aggregating by sk_date, sk_municipality, sk_service_type...\n",
    "    📋 Preview of Fact_ServiceOrders:\n",
    "    root\n",
    "     |-- sk_date: string (nullable = true)\n",
    "     |-- sk_municipality: string (nullable = true)\n",
    "     |-- sk_service_type: string (nullable = true)\n",
    "     |-- service_orders: long (nullable = true)"
   ]
  },
  {
   "cell_type": "code",
   "execution_count": null,
   "id": "7e60a3ea",
   "metadata": {},
   "outputs": [],
   "source": [
    "+----------------------------------------------------------------+----------------------------------------------------------------+----------------------------------------------------------------+--------------+\n",
    "    |sk_date                                                         |sk_municipality                                                 |sk_service_type                                                 |service_orders|\n",
    "    +----------------------------------------------------------------+----------------------------------------------------------------+----------------------------------------------------------------+--------------+\n",
    "    |6cd8ddf7f7a4fc382af87d16f49e88bf58064ea01591ff6a92938a4e95ccf402|2b2d28eb3a01571f11049359e9fd47db8adb5ef6884c4dbed4cf5b8abce60019|94e04b4fc48c1b318c8b370e1d593ba3bc1aebfae7cdc1bf0e0724dd6a0b1e0d|17            |\n",
    "    |bef719459537b739566cb2fe1f0f24582c87e21d88e765ca3c50c1291358e83c|16e003285eccfe5f9ee211c782d705bad241f04726cf6c03511dc337d3dbaafb|d6af5440a41f096431c0bd98734177aa19d8caa2c312302359ff2b0577cd8833|38            |\n",
    "    |049cebe321997964fecde9133bfd81abeb4dd400666d74c9d00c646d3d80d99c|4f15f22f7f1817e152a723dbd734589656ab000098a9a14e8c37a5677a09fc33|b5b2e21052959a7facd75e38a8ef0b007af04d19b43ebed464a7790004ef8a92|192           |\n",
    "    |cb4aa8fc5c0c032127baadde1a3200d56b3f9218072e7692abc35fb987e4113e|8d24b48f7084913dd59bc8d6001b71f3c194122cf0dbab5ae46e7e28e1bf787a|816fd6b3076b7ce629cfcad5c1ab9a9100fd6b5def8134c333bbc66e6324efab|127           |\n",
    "    |bddf8a632f93747c50673f53cc770ff2b18e3729e5af3182a1aa1b5cb17fa033|c2f60e07f6b618749f21a498803929582f2aa416685c1257641a572142fa65a5|94e04b4fc48c1b318c8b370e1d593ba3bc1aebfae7cdc1bf0e0724dd6a0b1e0d|384           |\n",
    "    |97ad1ea819fcf2b8876537bd8d56e98183629212cc595846fe2fb581e1e94282|32d3cce444a89db60920aa196e93215f613116d8d0a82f2ed0304c93a4c44150|b5b2e21052959a7facd75e38a8ef0b007af04d19b43ebed464a7790004ef8a92|10            |\n",
    "    |55f2d845ac24cbff201ee7f4e3ca5b67e36ed179a833c2b19b1df35242d7cb7f|2cb7224de4a596c18698e77d9610087ef55e30150733274c36a6604f8ca78989|b5b2e21052959a7facd75e38a8ef0b007af04d19b43ebed464a7790004ef8a92|126           |\n",
    "    |76d94d353572d4f2ec20eeb9a871590f4450e7594ba5e456414dcdfdb8a3a2fe|eb7cee3260c054e88dfffbd05d02aa3fadb0e75474488a57627f49c30ca87cd9|94e04b4fc48c1b318c8b370e1d593ba3bc1aebfae7cdc1bf0e0724dd6a0b1e0d|18            |\n",
    "    |bddf8a632f93747c50673f53cc770ff2b18e3729e5af3182a1aa1b5cb17fa033|2c6a017fa6912d22c7edbbc2c74423d5d471dc7b6fce9ab45543f4dda713e6df|0c283ec723be22c4e1375efe100a8f3ef9a9c47b64f79dc6a19e9dde91eed560|64            |\n",
    "    |4e3d7e6e2a00e6b03010854139265f7143cab652ab02c6bb2fe2319f3ee359f4|a0abb5721879d137f6bc7f13c80866b0ed61e90aef56e39a39ed64a431158ef0|612e12fbebae460b3c5ef70845bcbe74c6eadf3e1d4a701649de7241f28f57f3|221           |\n",
    "    +----------------------------------------------------------------+----------------------------------------------------------------+----------------------------------------------------------------+--------------+\n",
    "    only showing top 10 rows"
   ]
  },
  {
   "cell_type": "code",
   "execution_count": null,
   "id": "8fdb5ebe",
   "metadata": {},
   "outputs": [],
   "source": [
    "💾 Saving to Gold: Files/gold/Fact_ServiceOrders.delta\n",
    "    ✅ SQL Table 'Fact_ServiceOrders' registered and ready for Power BI."
   ]
  },
  {
   "cell_type": "code",
   "execution_count": null,
   "id": "703b9505",
   "metadata": {},
   "outputs": [],
   "source": [
    "fact_energyproduction"
   ]
  },
  {
   "cell_type": "code",
   "execution_count": null,
   "id": "1df557bc",
   "metadata": {},
   "outputs": [],
   "source": [
    "from pyspark.sql import SparkSession\n",
    "    from pyspark.sql.functions import col, sum as _sum"
   ]
  },
  {
   "cell_type": "code",
   "execution_count": null,
   "id": "9dfabd37",
   "metadata": {},
   "outputs": [],
   "source": [
    "# Iniciar sessão Spark\n",
    "    spark = SparkSession.builder.getOrCreate()"
   ]
  },
  {
   "cell_type": "code",
   "execution_count": null,
   "id": "deacda35",
   "metadata": {},
   "outputs": [],
   "source": [
    "# ============================\n",
    "    # 1. Load Cleaned Silver Table\n",
    "    # ============================\n",
    "    df_silver = spark.read.format(\"delta\").load(\"Files/silver/energia_produzida_total_nacional_cleaned.delta\")\n",
    "    print(\"✅ Loaded cleaned Silver table: energia_produzida_total_nacional_cleaned\")"
   ]
  },
  {
   "cell_type": "code",
   "execution_count": null,
   "id": "9ba28508",
   "metadata": {},
   "outputs": [],
   "source": [
    "# ============================\n",
    "    # 2. Aggregate by sk_date\n",
    "    # ============================\n",
    "    df_gold = df_silver.groupBy(\"sk_date\").agg(\n",
    "        _sum(\"energy_production\").alias(\"total_energy_production\")\n",
    "    )\n",
    "    print(\"🔢 Aggregated total energy production per day\")"
   ]
  },
  {
   "cell_type": "code",
   "execution_count": null,
   "id": "8da85b45",
   "metadata": {},
   "outputs": [],
   "source": [
    "# ============================\n",
    "    # 3. Preview Result\n",
    "    # ============================\n",
    "    df_gold.show(10, truncate=False)"
   ]
  },
  {
   "cell_type": "code",
   "execution_count": null,
   "id": "0e288f3e",
   "metadata": {},
   "outputs": [],
   "source": [
    "# ============================\n",
    "    # 4. Save to Gold and Register SQL Table\n",
    "    # ============================\n",
    "    table_name = \"fact_energyproduction\"\n",
    "    path_gold = f\"Files/gold/{table_name}.delta\""
   ]
  },
  {
   "cell_type": "code",
   "execution_count": null,
   "id": "44180cf5",
   "metadata": {},
   "outputs": [],
   "source": [
    "# Guardar como Delta na Gold\n",
    "    df_gold.write \\\n",
    "        .option(\"overwriteSchema\", \"true\") \\\n",
    "        .mode(\"overwrite\") \\\n",
    "        .format(\"delta\") \\\n",
    "        .save(path_gold)\n",
    "    print(f\"💾 Saved {table_name} to Gold path: {path_gold}\")"
   ]
  },
  {
   "cell_type": "code",
   "execution_count": null,
   "id": "0ec31d2f",
   "metadata": {},
   "outputs": [],
   "source": [
    "# Registar como SQL Table visível\n",
    "    spark.sql(f\"DROP TABLE IF EXISTS {table_name}\")\n",
    "    df_gold.write \\\n",
    "        .option(\"overwriteSchema\", \"true\") \\\n",
    "        .mode(\"overwrite\") \\\n",
    "        .format(\"delta\") \\\n",
    "        .saveAsTable(table_name)\n",
    "    print(f\"✅ SQL Table '{table_name}' registada com sucesso!\")"
   ]
  },
  {
   "cell_type": "code",
   "execution_count": null,
   "id": "705d1dbc",
   "metadata": {},
   "outputs": [],
   "source": [
    "{\"execution_finish_time\":\"2025-06-24T20:20:21.8696445Z\",\"execution_start_time\":\"2025-06-24T20:19:41.8614995Z\",\"livy_statement_state\":\"available\",\"normalized_state\":\"finished\",\"parent_msg_id\":\"fb28a030-bb23-4b9b-80d2-e09876027325\",\"queued_time\":\"2025-06-24T20:19:41.8602862Z\",\"session_id\":\"d80b9515-da52-44ad-b2ce-38e88a008065\",\"session_start_time\":null,\"spark_pool\":null,\"state\":\"finished\",\"statement_id\":4,\"statement_ids\":[4]}"
   ]
  },
  {
   "cell_type": "code",
   "execution_count": null,
   "id": "0fae5f60",
   "metadata": {},
   "outputs": [],
   "source": [
    "✅ Loaded cleaned Silver table: energia_produzida_total_nacional_cleaned\n",
    "    🔢 Aggregated total energy production per day\n",
    "    +--------+-----------------------+\n",
    "    |sk_date |total_energy_production|\n",
    "    +--------+-----------------------+\n",
    "    |20240118|1.647197995E8          |\n",
    "    |20240212|1.4300477801000002E8   |\n",
    "    |20240908|1.15137369456E8        |\n",
    "    |20250528|1.4107877587699997E8   |\n",
    "    |20230530|1.3733759175E8         |\n",
    "    |20240710|1.4506698552599996E8   |\n",
    "    |20240406|1.2918431175E8         |\n",
    "    |20240904|1.40679526868E8        |\n",
    "    |20241025|1.4176189584099996E8   |\n",
    "    |20250201|1.5216408574699998E8   |\n",
    "    +--------+-----------------------+\n",
    "    only showing top 10 rows"
   ]
  },
  {
   "cell_type": "code",
   "execution_count": null,
   "id": "5b6e5bd5",
   "metadata": {},
   "outputs": [],
   "source": [
    "💾 Saved Fact_EnergyProduction to Gold path: Files/gold/Fact_EnergyProduction.delta\n",
    "    ✅ SQL Table 'Fact_EnergyProduction' registada com sucesso!"
   ]
  },
  {
   "cell_type": "code",
   "execution_count": null,
   "id": "fcddab15",
   "metadata": {},
   "outputs": [],
   "source": [
    "dim_zipcode"
   ]
  },
  {
   "cell_type": "code",
   "execution_count": null,
   "id": "efd5813a",
   "metadata": {},
   "outputs": [],
   "source": [
    "from pyspark.sql import SparkSession\n",
    "    from pyspark.sql.functions import col, sha2, trim"
   ]
  },
  {
   "cell_type": "code",
   "execution_count": null,
   "id": "8b9934e3",
   "metadata": {},
   "outputs": [],
   "source": [
    "# ============================\n",
    "    # 0. Start Spark session\n",
    "    # ============================\n",
    "    spark = SparkSession.builder.getOrCreate()"
   ]
  },
  {
   "cell_type": "code",
   "execution_count": null,
   "id": "600ba916",
   "metadata": {},
   "outputs": [],
   "source": [
    "# ============================\n",
    "    # 1. Read Raw CTT Dataset\n",
    "    # ============================\n",
    "    print(\"📥 Reading CTT base file...\")\n",
    "    ctt_path = \"Files/bronze/CTT/todos_cp.txt\"\n",
    "    df_ctt = spark.read.option(\"delimiter\", \";\").csv(ctt_path)"
   ]
  },
  {
   "cell_type": "code",
   "execution_count": null,
   "id": "5c8ebd54",
   "metadata": {},
   "outputs": [],
   "source": [
    "print(\"✅ Raw dataset loaded:\")\n",
    "    df_ctt.printSchema()"
   ]
  },
  {
   "cell_type": "code",
   "execution_count": null,
   "id": "da1eeaf8",
   "metadata": {},
   "outputs": [],
   "source": [
    "# ============================\n",
    "    # 2. Select and Rename Columns\n",
    "    # ============================\n",
    "    print(\"🧾 Selecting and renaming columns...\")\n",
    "    zipcodes_df = (\n",
    "        df_ctt.select(\n",
    "            col(\"_c14\").alias(\"zipcode\"),\n",
    "            col(\"_c16\").alias(\"postal_label\")\n",
    "        )\n",
    "        .filter(col(\"zipcode\").isNotNull())\n",
    "        .withColumn(\"zipcode\", trim(col(\"zipcode\")))\n",
    "    )"
   ]
  },
  {
   "cell_type": "code",
   "execution_count": null,
   "id": "a8f2d962",
   "metadata": {},
   "outputs": [],
   "source": [
    "# ============================\n",
    "    # 3. Generate Surrogate Key\n",
    "    # ============================\n",
    "    print(\"🔐 Generating surrogate key 'sk_zipcode'...\")\n",
    "    zipcodes_df = zipcodes_df.withColumn(\"sk_zipcode\", sha2(col(\"zipcode\"), 256))"
   ]
  },
  {
   "cell_type": "code",
   "execution_count": null,
   "id": "cf153ff2",
   "metadata": {},
   "outputs": [],
   "source": [
    "# ============================\n",
    "    # 4. Drop Duplicates\n",
    "    # ============================\n",
    "    print(\"🧼 Removing duplicate zipcodes...\")\n",
    "    zipcodes_df = zipcodes_df.dropDuplicates([\"zipcode\"])"
   ]
  },
  {
   "cell_type": "code",
   "execution_count": null,
   "id": "89ff47ce",
   "metadata": {},
   "outputs": [],
   "source": [
    "# ============================\n",
    "    # 5. Preview Result\n",
    "    # ============================\n",
    "    print(\"✅ Preview of dim_zipcode:\")\n",
    "    zipcodes_df.show(10, truncate=False)"
   ]
  },
  {
   "cell_type": "code",
   "execution_count": null,
   "id": "22963016",
   "metadata": {},
   "outputs": [],
   "source": [
    "# ============================\n",
    "    # 6. Save as Delta and SQL Table\n",
    "    # ============================\n",
    "    print(\"💾 Saving dim_zipcode as Delta file and SQL table...\")\n",
    "    zipcodes_df.write.mode(\"overwrite\").format(\"delta\").save(\"Files/silver/dim_zipcode.delta\")"
   ]
  },
  {
   "cell_type": "code",
   "execution_count": null,
   "id": "730a157c",
   "metadata": {},
   "outputs": [],
   "source": [
    "spark.sql(\"DROP TABLE IF EXISTS dim_zipcode\")\n",
    "    zipcodes_df.write.mode(\"overwrite\").format(\"delta\").saveAsTable(\"dim_zipcode\")"
   ]
  },
  {
   "cell_type": "code",
   "execution_count": null,
   "id": "37761128",
   "metadata": {},
   "outputs": [],
   "source": [
    "print(\"✅ dim_zipcode created and saved successfully.\")"
   ]
  },
  {
   "cell_type": "code",
   "execution_count": null,
   "id": "fdb7f820",
   "metadata": {},
   "outputs": [],
   "source": [
    "{\"execution_finish_time\":\"2025-06-25T10:53:04.7276204Z\",\"execution_start_time\":\"2025-06-25T10:52:11.236289Z\",\"livy_statement_state\":\"available\",\"normalized_state\":\"finished\",\"parent_msg_id\":\"ae501429-d430-4489-9956-c90892914264\",\"queued_time\":\"2025-06-25T10:51:58.0888143Z\",\"session_id\":\"ba50ac19-23fd-4b0a-8146-282a48c20351\",\"session_start_time\":\"2025-06-25T10:51:58.0898915Z\",\"spark_pool\":null,\"state\":\"finished\",\"statement_id\":3,\"statement_ids\":[3]}"
   ]
  },
  {
   "cell_type": "code",
   "execution_count": null,
   "id": "44e713ae",
   "metadata": {},
   "outputs": [],
   "source": [
    "📥 Reading CTT base file...\n",
    "    ✅ Raw dataset loaded:\n",
    "    root\n",
    "     |-- _c0: string (nullable = true)\n",
    "     |-- _c1: string (nullable = true)\n",
    "     |-- _c2: string (nullable = true)\n",
    "     |-- _c3: string (nullable = true)\n",
    "     |-- _c4: string (nullable = true)\n",
    "     |-- _c5: string (nullable = true)\n",
    "     |-- _c6: string (nullable = true)\n",
    "     |-- _c7: string (nullable = true)\n",
    "     |-- _c8: string (nullable = true)\n",
    "     |-- _c9: string (nullable = true)\n",
    "     |-- _c10: string (nullable = true)\n",
    "     |-- _c11: string (nullable = true)\n",
    "     |-- _c12: string (nullable = true)\n",
    "     |-- _c13: string (nullable = true)\n",
    "     |-- _c14: string (nullable = true)\n",
    "     |-- _c15: string (nullable = true)\n",
    "     |-- _c16: string (nullable = true)"
   ]
  },
  {
   "cell_type": "code",
   "execution_count": null,
   "id": "ab4864f1",
   "metadata": {},
   "outputs": [],
   "source": [
    "🧾 Selecting and renaming columns...\n",
    "    🔐 Generating surrogate key 'sk_zipcode'...\n",
    "    🧼 Removing duplicate zipcodes...\n",
    "    ✅ Preview of DimZipCode:\n",
    "    +-------+------------+----------------------------------------------------------------+\n",
    "    |zipcode|postal_label|sk_zipcode                                                      |\n",
    "    +-------+------------+----------------------------------------------------------------+\n",
    "    |1000   |LISBOA      |40510175845988f13f6162ed8526f0b09f73384467fa855e1e79b44a56562a58|\n",
    "    |1003   |LISBOA      |8c9a013ab70c0434313e3e881c310b9ff24aff1075255ceede3f2c239c231623|\n",
    "    |1049   |LISBOA      |0c62cc42d6479a691f03083654ab6a7a84229ab156c948ba8d3b6c79ddd95536|\n",
    "    |1050   |LISBOA      |ffa6059b954a4602a9fa1518d10ca6163bce3f9d4bd3ee51c860eb6c2da16675|\n",
    "    |1053   |LISBOA      |285b71922aaa01d870483d3b4f59e4a61c2057e1476854a810f387a1d2317806|\n",
    "    |1067   |LISBOA      |f48280c0107726b99afcbd3cd0a46a2bac5f1ddb44e8768f232ac4da562eb166|\n",
    "    |1068   |LISBOA      |0f0b82fae280ae9fec1905f029b6ee9a9c85bb6cc5151da6dafe38a7902a4a53|\n",
    "    |1069   |LISBOA      |2ff2a721fab172f1ab7e77774978c698899249076747675c872eaa9b2f6780b8|\n",
    "    |1070   |LISBOA      |d0f451801443fa1478e1cf080e8d63dead650c9712b2631edf7e1658a98967d9|\n",
    "    |1073   |LISBOA      |be1722b1d104ffb2753260682954754d9757b986013823c5df20f28e0f74e655|\n",
    "    +-------+------------+----------------------------------------------------------------+\n",
    "    only showing top 10 rows"
   ]
  },
  {
   "cell_type": "code",
   "execution_count": null,
   "id": "48343f13",
   "metadata": {},
   "outputs": [],
   "source": [
    "💾 Saving DimZipCode as Delta file and SQL table...\n",
    "    ✅ DimZipCode created and saved successfully."
   ]
  },
  {
   "cell_type": "code",
   "execution_count": null,
   "id": "fa40c344",
   "metadata": {},
   "outputs": [],
   "source": [
    "dim_district, dim_municipality and dim_parish"
   ]
  },
  {
   "cell_type": "code",
   "execution_count": null,
   "id": "61ae0ce3",
   "metadata": {},
   "outputs": [],
   "source": [
    "from pyspark.sql import SparkSession\n",
    "    from pyspark.sql.functions import col, sha2, concat_ws, upper, trim"
   ]
  },
  {
   "cell_type": "code",
   "execution_count": null,
   "id": "3cd9a3b3",
   "metadata": {},
   "outputs": [],
   "source": [
    "# Iniciar sessão Spark\n",
    "    spark = SparkSession.builder.getOrCreate()"
   ]
  },
  {
   "cell_type": "code",
   "execution_count": null,
   "id": "99ca47ab",
   "metadata": {},
   "outputs": [],
   "source": [
    "# ============================\n",
    "    # 🔧 Função auxiliar\n",
    "    # ============================\n",
    "    def normalize_str(c):\n",
    "        return upper(trim(col(c)))"
   ]
  },
  {
   "cell_type": "code",
   "execution_count": null,
   "id": "c2c75de6",
   "metadata": {},
   "outputs": [],
   "source": [
    "# ============================\n",
    "    # 📍 dim_district\n",
    "    # ============================\n",
    "    print(\"\\n📥 Carregando dados para dim_district...\")"
   ]
  },
  {
   "cell_type": "code",
   "execution_count": null,
   "id": "b55d6e50",
   "metadata": {},
   "outputs": [],
   "source": [
    "df_dist = (\n",
    "        spark.read.option(\"header\", True).csv(\"Files/bronze/CAOP/Areas_Distritos_CAOP2024.csv\")\n",
    "             .withColumn(\"district\", normalize_str(\"distrito_ilha_dsg\"))\n",
    "             .withColumn(\"sk_district\", sha2(col(\"district\"), 256))\n",
    "             .select(\"sk_district\", \"district\", \"area_ha\", \"area_km2\")\n",
    "    )"
   ]
  },
  {
   "cell_type": "code",
   "execution_count": null,
   "id": "1b24130d",
   "metadata": {},
   "outputs": [],
   "source": [
    "print(\"📋 Preview dim_district:\")\n",
    "    df_dist.show(10, truncate=False)"
   ]
  },
  {
   "cell_type": "code",
   "execution_count": null,
   "id": "9406c4ad",
   "metadata": {},
   "outputs": [],
   "source": [
    "# Guardar e registar\n",
    "    gold_path_dist = \"Files/gold/dim_district.delta\"\n",
    "    df_dist.write.mode(\"overwrite\").format(\"delta\").option(\"overwriteSchema\", \"true\").save(gold_path_dist)"
   ]
  },
  {
   "cell_type": "code",
   "execution_count": null,
   "id": "9f33868e",
   "metadata": {},
   "outputs": [],
   "source": [
    "spark.sql(\"DROP TABLE IF EXISTS dim_district\")\n",
    "    df_dist.write.mode(\"overwrite\").format(\"delta\").option(\"overwriteSchema\", \"true\").saveAsTable(\"dim_district\")\n",
    "    print(\"✅ dim_district registada e visível no Power BI.\\n\")"
   ]
  },
  {
   "cell_type": "code",
   "execution_count": null,
   "id": "f761510a",
   "metadata": {},
   "outputs": [],
   "source": [
    "# ============================\n",
    "    # 🏙️ dim_municipality\n",
    "    # ============================\n",
    "    print(\"📥 Carregando dados para dim_municipality...\")"
   ]
  },
  {
   "cell_type": "code",
   "execution_count": null,
   "id": "2e4a9c39",
   "metadata": {},
   "outputs": [],
   "source": [
    "df_muni_base = (\n",
    "        spark.read.option(\"header\", True)\n",
    "                  .csv(\"Files/bronze/CAOP/Areas_Municipios_CAOP2024.csv\")\n",
    "                  .withColumn(\"district\", normalize_str(\"distrito_ilha_dsg\"))\n",
    "                  .withColumn(\"municipality\", normalize_str(\"município_dsg\"))\n",
    "                  .withColumn(\"sk_municipality\", sha2(concat_ws(\"-\", \"district\", \"municipality\"), 256))\n",
    "    )"
   ]
  },
  {
   "cell_type": "code",
   "execution_count": null,
   "id": "5ebb77ec",
   "metadata": {},
   "outputs": [],
   "source": [
    "df_muni = df_muni_base.select(\"sk_municipality\", \"district\", \"municipality\", \"area_ha\", \"area_km2\")"
   ]
  },
  {
   "cell_type": "code",
   "execution_count": null,
   "id": "b1fe9df4",
   "metadata": {},
   "outputs": [],
   "source": [
    "df_codconcelho = spark.read.format(\"delta\").load(\"Files/silver/dim_codconcelho.delta\")"
   ]
  },
  {
   "cell_type": "code",
   "execution_count": null,
   "id": "4c1e7be1",
   "metadata": {},
   "outputs": [],
   "source": [
    "df_muni_joined = (\n",
    "        df_muni.alias(\"m\")\n",
    "        .join(df_codconcelho.select(\"sk_municipality\", \"cod_concelho\").alias(\"c\"), on=\"sk_municipality\", how=\"left\")\n",
    "    )"
   ]
  },
  {
   "cell_type": "code",
   "execution_count": null,
   "id": "4916d803",
   "metadata": {},
   "outputs": [],
   "source": [
    "print(\"📋 Preview dim_municipality:\")\n",
    "    df_muni_joined.show(10, truncate=False)"
   ]
  },
  {
   "cell_type": "code",
   "execution_count": null,
   "id": "264ad2c7",
   "metadata": {},
   "outputs": [],
   "source": [
    "# Guardar e registar\n",
    "    gold_path_muni = \"Files/gold/dim_municipality.delta\"\n",
    "    df_muni_joined.write.mode(\"overwrite\").format(\"delta\").option(\"overwriteSchema\", \"true\").save(gold_path_muni)"
   ]
  },
  {
   "cell_type": "code",
   "execution_count": null,
   "id": "7a7386ae",
   "metadata": {},
   "outputs": [],
   "source": [
    "spark.sql(\"DROP TABLE IF EXISTS dim_municipality\")\n",
    "    df_muni_joined.write.mode(\"overwrite\").format(\"delta\").option(\"overwriteSchema\", \"true\").saveAsTable(\"dim_municipality\")\n",
    "    print(\"✅ dim_municipality registada com cod_concelho e visível no Power BI.\\n\")"
   ]
  },
  {
   "cell_type": "code",
   "execution_count": null,
   "id": "9e9056a4",
   "metadata": {},
   "outputs": [],
   "source": [
    "# ============================\n",
    "    # 🏡 dim_parish (com sk_municipality)\n",
    "    # ============================\n",
    "    print(\"📥 Carregando dados para dim_parish (com sk_municipality)...\")"
   ]
  },
  {
   "cell_type": "code",
   "execution_count": null,
   "id": "39c9d4a2",
   "metadata": {},
   "outputs": [],
   "source": [
    "df_freg = (\n",
    "        spark.read.option(\"header\", True).csv(\"Files/bronze/CAOP/Areas_Freguesias_CAOP2024.csv\")\n",
    "             .withColumn(\"district\", normalize_str(\"distrito_ilha_dsg\"))\n",
    "             .withColumn(\"municipality\", normalize_str(\"município_dsg\"))\n",
    "             .withColumn(\"parish\", normalize_str(\"freguesia_dsg\"))\n",
    "             .withColumn(\"sk_parish\", sha2(concat_ws(\"-\", \"district\", \"municipality\", \"parish\"), 256))\n",
    "             .withColumn(\"sk_municipality\", sha2(concat_ws(\"-\", \"district\", \"municipality\"), 256))\n",
    "             .select(\"sk_parish\", \"sk_municipality\", \"district\", \"municipality\", \"parish\", \"area_ha\", \"area_km2\")\n",
    "    )"
   ]
  },
  {
   "cell_type": "code",
   "execution_count": null,
   "id": "da49befe",
   "metadata": {},
   "outputs": [],
   "source": [
    "print(\"📋 Preview dim_parish:\")\n",
    "    df_freg.show(10, truncate=False)"
   ]
  },
  {
   "cell_type": "code",
   "execution_count": null,
   "id": "049690b0",
   "metadata": {},
   "outputs": [],
   "source": [
    "# Guardar e registar\n",
    "    gold_path_parish = \"Files/gold/dim_parish.delta\"\n",
    "    df_freg.write.mode(\"overwrite\").format(\"delta\").option(\"overwriteSchema\", \"true\").save(gold_path_parish)"
   ]
  },
  {
   "cell_type": "code",
   "execution_count": null,
   "id": "6b66722d",
   "metadata": {},
   "outputs": [],
   "source": [
    "spark.sql(\"DROP TABLE IF EXISTS dim_parish\")\n",
    "    df_freg.write.mode(\"overwrite\").format(\"delta\").option(\"overwriteSchema\", \"true\").saveAsTable(\"dim_parish\")\n",
    "    print(\"✅ dim_parish registada com sucesso e visível no Power BI.\\n\")"
   ]
  },
  {
   "cell_type": "code",
   "execution_count": null,
   "id": "b4c88db8",
   "metadata": {},
   "outputs": [],
   "source": [
    "{\"execution_finish_time\":\"2025-06-28T14:04:22.6237978Z\",\"execution_start_time\":\"2025-06-28T14:04:01.1429421Z\",\"livy_statement_state\":\"available\",\"normalized_state\":\"finished\",\"parent_msg_id\":\"748c0154-5472-4ad8-8915-6274f4920861\",\"queued_time\":\"2025-06-28T14:04:01.1416238Z\",\"session_id\":\"ccfaf4ac-d020-4f44-a99a-588f8e59ebfd\",\"session_start_time\":null,\"spark_pool\":null,\"state\":\"finished\",\"statement_id\":16,\"statement_ids\":[16]}"
   ]
  },
  {
   "cell_type": "code",
   "execution_count": null,
   "id": "5b794c9e",
   "metadata": {},
   "outputs": [],
   "source": [
    "📥 Carregando dados para DimDistrict...\n",
    "    📋 Preview DimDistrict:\n",
    "    +----------------------------------------------------------------+--------------+----------+--------+\n",
    "    |sk_district                                                     |district      |area_ha   |area_km2|\n",
    "    +----------------------------------------------------------------+--------------+----------+--------+\n",
    "    |a68e0baf3c58a0820839e02c76c0053269760def8fd8877f80a70aa50e04bdde|AVEIRO        |280094.16 |2800.94 |\n",
    "    |bbe2c7e9b65b8a141abd7922b9ca4bb7f1686bb434f84d752b87ec39b438b74d|BEJA          |1026332.49|10263.32|\n",
    "    |f90f638e94c8765dd28e203431c619e4c44d9a0b2d46deeb8b30ab72a66fb7de|BRAGA         |270615.05 |2706.15 |\n",
    "    |d117c8c3e1cf3e067a547c6ec93d367785d5902d7e28701a2f237fdaa48930fd|BRAGANÇA      |659853.71 |6598.54 |\n",
    "    |c622b2c708ecbf758535fcce1d476cfa38da23e6467db558ac4268b4474793b5|CASTELO BRANCO|662747.31 |6627.47 |\n",
    "    |12922d39abe57f8d849198e4c1dde253dee2efca3750e8a4b5235135b76b16c2|COIMBRA       |397373.28 |3973.73 |\n",
    "    |5f94947f0692a8fd51d364b3f306a0ec5301c5938a7065f5de9b35403373e9d0|ÉVORA         |739346.41 |7393.46 |\n",
    "    |b2013a67571ea967907a2dda89fc05dd540ec1c6a9a964b1c64ab3128ad6fd12|FARO          |499679.49 |4996.79 |\n",
    "    |27bc243bbf1a34e65201a4c56ff081936979bbcffaafec9f48bc3afb98cf367f|GUARDA        |553530.81 |5535.31 |\n",
    "    |5f480a0ac8af6bdb3830d6231ab99bedb0dbec8048f8b48088af5b37f1f78f14|LEIRIA        |350578.68 |3505.79 |\n",
    "    +----------------------------------------------------------------+--------------+----------+--------+\n",
    "    only showing top 10 rows"
   ]
  },
  {
   "cell_type": "code",
   "execution_count": null,
   "id": "c7962969",
   "metadata": {},
   "outputs": [],
   "source": [
    "✅ DimDistrict registada e visível no Power BI."
   ]
  },
  {
   "cell_type": "code",
   "execution_count": null,
   "id": "89804c14",
   "metadata": {},
   "outputs": [],
   "source": [
    "📥 Carregando dados para DimMunicipality...\n",
    "    📋 Preview DimMunicipality:\n",
    "    +----------------------------------------------------------------+--------+--------------------+--------+--------+------------+\n",
    "    |sk_municipality                                                 |district|municipality        |area_ha |area_km2|cod_concelho|\n",
    "    +----------------------------------------------------------------+--------+--------------------+--------+--------+------------+\n",
    "    |3b9f26ab28a1892f70d247bcd5287927a7fd8fb0540ad98f3facad472933c77b|AVEIRO  |ÁGUEDA              |33527.44|335.27  |0101        |\n",
    "    |4664effdfd10c006c69d0d80d7e9218e241cef39fdc2a66e561f34908290c411|AVEIRO  |ALBERGARIA-A-VELHA  |15882.50|158.83  |0102        |\n",
    "    |f60534b5361a3a29fc1b35985d4dba70acb42e4b65f7315c82aacc2e79b59792|AVEIRO  |ANADIA              |21663.48|216.63  |0103        |\n",
    "    |bc4ac87787cff7c77c67b55a4f041a511d82bcd8093306ff54432e7d904a88e6|AVEIRO  |AROUCA              |32910.52|329.11  |0104        |\n",
    "    |771924b54dc8ac992fb02ac943590380e9a44aa62e6612bc27143db13de44667|AVEIRO  |AVEIRO              |19757.57|197.58  |0105        |\n",
    "    |d6b3689721792c1365db9604e7ab5f2b6caef54fb6bb940da8c7fc98f4dbe11b|AVEIRO  |CASTELO DE PAIVA    |11500.53|115.01  |0106        |\n",
    "    |892ee65acf52aa7de0ad5699e05575ca01bf0add6c7cb74695ac4c4f70346d49|AVEIRO  |ESPINHO             |2105.68 |21.06   |0107        |\n",
    "    |a3a217cf4b1ae10a1e9033bd9e6064bee158dca3163fb3789601cd11bb073eb1|AVEIRO  |ESTARREJA           |10817.33|108.17  |0108        |\n",
    "    |9e5efd0dd2f50c33247e2d56ff8f3b2025cdb275201aeae7d36a5e4ca77af074|AVEIRO  |SANTA MARIA DA FEIRA|21587.65|215.88  |0109        |\n",
    "    |484bfffc86381b0ba75a7e9335f316ff2abeca62605979e34fb9c76b296f5f2e|AVEIRO  |ÍLHAVO              |7347.55 |73.48   |0110        |\n",
    "    +----------------------------------------------------------------+--------+--------------------+--------+--------+------------+\n",
    "    only showing top 10 rows"
   ]
  },
  {
   "cell_type": "code",
   "execution_count": null,
   "id": "21cf8de5",
   "metadata": {},
   "outputs": [],
   "source": [
    "✅ DimMunicipality registada com cod_concelho e visível no Power BI."
   ]
  },
  {
   "cell_type": "code",
   "execution_count": null,
   "id": "d2cce4ef",
   "metadata": {},
   "outputs": [],
   "source": [
    "📥 Carregando dados para DimParish (com sk_municipality)...\n",
    "    📋 Preview DimParish:\n",
    "    +----------------------------------------------------------------+----------------------------------------------------------------+--------+------------+------------------------------------------------------------------------+-------+--------+\n",
    "    |sk_parish                                                       |sk_municipality                                                 |district|municipality|parish                                                                  |area_ha|area_km2|\n",
    "    +----------------------------------------------------------------+----------------------------------------------------------------+--------+------------+------------------------------------------------------------------------+-------+--------+\n",
    "    |b17a6d4d8ffa115b8eb27d40d3c066e8dd3b81bc5d27ccc1f8ef576437ba868e|3b9f26ab28a1892f70d247bcd5287927a7fd8fb0540ad98f3facad472933c77b|AVEIRO  |ÁGUEDA      |AGUADA DE CIMA                                                          |2839.31|28.39   |\n",
    "    |1962f0904f21f8d7fedee020a8b8cc292ec1ccc2d724c665b3bbcb0275bbb359|3b9f26ab28a1892f70d247bcd5287927a7fd8fb0540ad98f3facad472933c77b|AVEIRO  |ÁGUEDA      |FERMENTELOS                                                             |858.20 |8.58    |\n",
    "    |0ccb08873e78309e306f745ee37b6f592478f3317fdb242b69881f7ec6485b29|3b9f26ab28a1892f70d247bcd5287927a7fd8fb0540ad98f3facad472933c77b|AVEIRO  |ÁGUEDA      |MACINHATA DO VOUGA                                                      |3195.44|31.95   |\n",
    "    |706112d2497e98a124f0581edfe4175b30390392a9a4371e07ac1fe3914b640a|3b9f26ab28a1892f70d247bcd5287927a7fd8fb0540ad98f3facad472933c77b|AVEIRO  |ÁGUEDA      |VALONGO DO VOUGA                                                        |4340.48|43.40   |\n",
    "    |b0c603c37d447c952b341520db07b410e26b69d1671603c80641c10c1bea6954|3b9f26ab28a1892f70d247bcd5287927a7fd8fb0540ad98f3facad472933c77b|AVEIRO  |ÁGUEDA      |UNIÃO DAS FREGUESIAS DE ÁGUEDA E BORRALHA                               |3602.93|36.03   |\n",
    "    |abb4d9885fc4ccc423ff4e8a572a9678c6e710ca451ecf885c3adf96d724c347|3b9f26ab28a1892f70d247bcd5287927a7fd8fb0540ad98f3facad472933c77b|AVEIRO  |ÁGUEDA      |UNIÃO DAS FREGUESIAS DE BARRÔ E AGUADA DE BAIXO                         |1019.01|10.19   |\n",
    "    |27047c9eeaeb54353fb7900fb192868e9b9d372dcd2404d031492b5b0f4d8677|3b9f26ab28a1892f70d247bcd5287927a7fd8fb0540ad98f3facad472933c77b|AVEIRO  |ÁGUEDA      |UNIÃO DAS FREGUESIAS DE BELAZAIMA DO CHÃO, CASTANHEIRA DO VOUGA E AGADÃO|8809.03|88.09   |\n",
    "    |60a0be2f5841bc1723ff9bb4a431a0acd9293352d277ba77a1ebe27dfc063c09|3b9f26ab28a1892f70d247bcd5287927a7fd8fb0540ad98f3facad472933c77b|AVEIRO  |ÁGUEDA      |UNIÃO DAS FREGUESIAS DE RECARDÃES E ESPINHEL                            |1991.78|19.92   |\n",
    "    |53d6eb86d61c1da9d1feee46d992f2ff6d22584ce79fb98840a665c2bf55ccab|3b9f26ab28a1892f70d247bcd5287927a7fd8fb0540ad98f3facad472933c77b|AVEIRO  |ÁGUEDA      |UNIÃO DAS FREGUESIAS DE TRAVASSÔ E ÓIS DA RIBEIRA                       |1112.19|11.12   |\n",
    "    |689e230e020c86dc1f4729957fdba6d4c9ebcd190577bf998a9e8848f0d31b30|3b9f26ab28a1892f70d247bcd5287927a7fd8fb0540ad98f3facad472933c77b|AVEIRO  |ÁGUEDA      |UNIÃO DAS FREGUESIAS DE TROFA, SEGADÃES E LAMAS DO VOUGA                |1586.43|15.86   |\n",
    "    +----------------------------------------------------------------+----------------------------------------------------------------+--------+------------+------------------------------------------------------------------------+-------+--------+\n",
    "    only showing top 10 rows"
   ]
  },
  {
   "cell_type": "code",
   "execution_count": null,
   "id": "df69574e",
   "metadata": {},
   "outputs": [],
   "source": [
    "✅ DimParish registada com sucesso e visível no Power BI."
   ]
  },
  {
   "cell_type": "code",
   "execution_count": null,
   "id": "6964d2d2",
   "metadata": {},
   "outputs": [],
   "source": [
    "dim_servicetype"
   ]
  },
  {
   "cell_type": "code",
   "execution_count": null,
   "id": "512d75ac",
   "metadata": {},
   "outputs": [],
   "source": [
    "from pyspark.sql import SparkSession\n",
    "    from pyspark.sql.functions import sha2, upper, trim, col"
   ]
  },
  {
   "cell_type": "code",
   "execution_count": null,
   "id": "fdc5e8e7",
   "metadata": {},
   "outputs": [],
   "source": [
    "# Iniciar sessão Spark\n",
    "    spark = SparkSession.builder.getOrCreate()"
   ]
  },
  {
   "cell_type": "code",
   "execution_count": null,
   "id": "45ea14ea",
   "metadata": {},
   "outputs": [],
   "source": [
    "print(\"📥 Loading and preparing service types from Silver cleaned dataset...\")"
   ]
  },
  {
   "cell_type": "code",
   "execution_count": null,
   "id": "fcfe04bd",
   "metadata": {},
   "outputs": [],
   "source": [
    "# Lê o dataset Silver limpo\n",
    "    df_cleaned = spark.read.table(\"15_ordens_de_servico_cleaned\")"
   ]
  },
  {
   "cell_type": "code",
   "execution_count": null,
   "id": "5e890fa2",
   "metadata": {},
   "outputs": [],
   "source": [
    "# Prepara a dimensão\n",
    "    dim_service_type = (\n",
    "        df_cleaned\n",
    "        .select(\"tipo_de_servico\")\n",
    "        .filter(col(\"tipo_de_servico\").isNotNull() & (col(\"tipo_de_servico\") != \"\"))\n",
    "        .withColumn(\"service_type\", upper(trim(col(\"tipo_de_servico\"))))\n",
    "        .select(\"service_type\")\n",
    "        .distinct()\n",
    "        .withColumn(\"sk_service_type\", sha2(col(\"service_type\"), 256))\n",
    "        .select(\"sk_service_type\", \"service_type\")\n",
    "    )"
   ]
  },
  {
   "cell_type": "code",
   "execution_count": null,
   "id": "0544e99d",
   "metadata": {},
   "outputs": [],
   "source": [
    "# ============================\n",
    "    # Guardar em Delta e Registar como Tabela SQL\n",
    "    # ============================\n",
    "    table_name = \"dim_servicetype\"\n",
    "    gold_path = f\"Files/gold/{table_name}.delta\""
   ]
  },
  {
   "cell_type": "code",
   "execution_count": null,
   "id": "1cae92d8",
   "metadata": {},
   "outputs": [],
   "source": [
    "# Guardar camada Gold\n",
    "    print(\"💾 Saving to Gold layer...\")\n",
    "    dim_service_type.write \\\n",
    "        .mode(\"overwrite\") \\\n",
    "        .format(\"delta\") \\\n",
    "        .option(\"overwriteSchema\", \"true\") \\\n",
    "        .save(gold_path)"
   ]
  },
  {
   "cell_type": "code",
   "execution_count": null,
   "id": "3095fee9",
   "metadata": {},
   "outputs": [],
   "source": [
    "# Registar como tabela SQL (usando saveAsTable)\n",
    "    print(\"🗃️ Registering as SQL table...\")\n",
    "    spark.sql(f\"DROP TABLE IF EXISTS {table_name}\")\n",
    "    dim_service_type.write \\\n",
    "        .mode(\"overwrite\") \\\n",
    "        .format(\"delta\") \\\n",
    "        .option(\"overwriteSchema\", \"true\") \\\n",
    "        .saveAsTable(table_name)"
   ]
  },
  {
   "cell_type": "code",
   "execution_count": null,
   "id": "55d9bd13",
   "metadata": {},
   "outputs": [],
   "source": [
    "print(f\"✅ SQL Table '{table_name}' created and registered successfully.\")"
   ]
  },
  {
   "cell_type": "code",
   "execution_count": null,
   "id": "3cbbab45",
   "metadata": {},
   "outputs": [],
   "source": [
    "# ============================\n",
    "    # Visualizar resultado\n",
    "    # ============================\n",
    "    print(\"📑 Schema da dim_servicetype:\")\n",
    "    dim_service_type.printSchema()"
   ]
  },
  {
   "cell_type": "code",
   "execution_count": null,
   "id": "c4734811",
   "metadata": {},
   "outputs": [],
   "source": [
    "print(\"🔍 Preview da Dimensão:\")\n",
    "    dim_service_type.show(truncate=False)"
   ]
  },
  {
   "cell_type": "code",
   "execution_count": null,
   "id": "2156f77b",
   "metadata": {},
   "outputs": [],
   "source": [
    "{\"execution_finish_time\":\"2025-06-24T21:24:21.1491132Z\",\"execution_start_time\":\"2025-06-24T21:24:11.4444518Z\",\"livy_statement_state\":\"available\",\"normalized_state\":\"finished\",\"parent_msg_id\":\"7a67c614-ae90-468b-9344-23988fd925a9\",\"queued_time\":\"2025-06-24T21:24:11.4431872Z\",\"session_id\":\"ca3fa664-6974-488f-9f07-58f4d85e0164\",\"session_start_time\":null,\"spark_pool\":null,\"state\":\"finished\",\"statement_id\":7,\"statement_ids\":[7]}"
   ]
  },
  {
   "cell_type": "code",
   "execution_count": null,
   "id": "2915d94d",
   "metadata": {},
   "outputs": [],
   "source": [
    "📥 Loading and preparing service types from Silver cleaned dataset...\n",
    "    💾 Saving to Gold layer...\n",
    "    🗃️ Registering as SQL table...\n",
    "    ✅ SQL Table 'Dim_ServiceType' created and registered successfully.\n",
    "    📑 Schema da Dim_ServiceType:\n",
    "    root\n",
    "     |-- sk_service_type: string (nullable = true)\n",
    "     |-- service_type: string (nullable = true)"
   ]
  },
  {
   "cell_type": "code",
   "execution_count": null,
   "id": "4e62e9d8",
   "metadata": {},
   "outputs": [],
   "source": [
    "🔍 Preview da Dimensão:\n",
    "    +----------------------------------------------------------------+----------------------------------------+\n",
    "    |sk_service_type                                                 |service_type                            |\n",
    "    +----------------------------------------------------------------+----------------------------------------+\n",
    "    |612e12fbebae460b3c5ef70845bcbe74c6eadf3e1d4a701649de7241f28f57f3|ALTERAÇÃO CONTRATUAL                    |\n",
    "    |2e54232b6f68fc950759a11226d25ba051691934c07c4a09d8ba82b68391a9d9|ASSISTÊNCIA A CLIENTES                  |\n",
    "    |f4cb9bfa9d112858221c5bebd458316732ca5464c13c0732df6a85fa2cb6e886|RESTABELECIMENTOS                       |\n",
    "    |94e04b4fc48c1b318c8b370e1d593ba3bc1aebfae7cdc1bf0e0724dd6a0b1e0d|REDUÇÕES TEMPORÁRIAS POTÊNCIA CONTRATADA|\n",
    "    |b5b2e21052959a7facd75e38a8ef0b007af04d19b43ebed464a7790004ef8a92|REPOSIÇÕES POTÊNCIA CONTRATADA          |\n",
    "    |0c283ec723be22c4e1375efe100a8f3ef9a9c47b64f79dc6a19e9dde91eed560|ATIVAÇÕES                               |\n",
    "    |ce6cd494327fdb42d173a9cf312294b6415501484b214f345834e824c6e91a17|SERVIÇOS DIVERSOS                       |\n",
    "    |23812a933d8075c9164e0626adaca493ab14056323e81f304506aaad4bad571b|DESATIVAÇÕES                            |\n",
    "    |816fd6b3076b7ce629cfcad5c1ab9a9100fd6b5def8134c333bbc66e6324efab|MANUTENÇÃO                              |\n",
    "    |d6af5440a41f096431c0bd98734177aa19d8caa2c312302359ff2b0577cd8833|INTERRUPÇÕES                            |\n",
    "    +----------------------------------------------------------------+----------------------------------------+"
   ]
  },
  {
   "cell_type": "code",
   "execution_count": null,
   "id": "e13eb7a9",
   "metadata": {},
   "outputs": [],
   "source": [
    "dim_servicetype"
   ]
  },
  {
   "cell_type": "code",
   "execution_count": null,
   "id": "d7cf33f6",
   "metadata": {},
   "outputs": [],
   "source": [
    "from pyspark.sql import SparkSession\n",
    "    from pyspark.sql.functions import sha2, upper, trim, col"
   ]
  },
  {
   "cell_type": "code",
   "execution_count": null,
   "id": "90172723",
   "metadata": {},
   "outputs": [],
   "source": [
    "# Iniciar sessão Spark\n",
    "    spark = SparkSession.builder.getOrCreate()"
   ]
  },
  {
   "cell_type": "code",
   "execution_count": null,
   "id": "75e48b73",
   "metadata": {},
   "outputs": [],
   "source": [
    "# ============================\n",
    "    # 1. Load Silver Cleaned Dataset\n",
    "    # ============================\n",
    "    df_cleaned = spark.read.table(\"15_ordens_de_servico_cleaned\")\n",
    "    print(\"📥 Loaded Silver cleaned dataset: 15_ordens_de_servico_cleaned\")"
   ]
  },
  {
   "cell_type": "code",
   "execution_count": null,
   "id": "535235e4",
   "metadata": {},
   "outputs": [],
   "source": [
    "# ============================\n",
    "    # 2. Gerar valores únicos e normalizados\n",
    "    # ============================\n",
    "    dim_service_type = (\n",
    "        df_cleaned\n",
    "        .select(\"tipo_de_servico\")\n",
    "        .filter(col(\"tipo_de_servico\").isNotNull() & (col(\"tipo_de_servico\") != \"\"))\n",
    "        .withColumn(\"service_type\", upper(trim(col(\"tipo_de_servico\"))))\n",
    "        .select(\"service_type\")\n",
    "        .distinct()\n",
    "        .withColumn(\"sk_service_type\", sha2(col(\"service_type\"), 256))\n",
    "        .select(\"sk_service_type\", \"service_type\")\n",
    "    )"
   ]
  },
  {
   "cell_type": "code",
   "execution_count": null,
   "id": "3a5f234e",
   "metadata": {},
   "outputs": [],
   "source": [
    "# ============================\n",
    "    # 3. Preview da Tabela\n",
    "    # ============================\n",
    "    print(\"🔍 Preview da dim_servicetype:\")\n",
    "    dim_service_type.show(10, truncate=False)"
   ]
  },
  {
   "cell_type": "code",
   "execution_count": null,
   "id": "b2784ce1",
   "metadata": {},
   "outputs": [],
   "source": [
    "# ============================\n",
    "    # 4. Guardar e Registar SQL Table\n",
    "    # ============================\n",
    "    table_name = \"dim_servicetype\"\n",
    "    path_gold = f\"Files/gold/{table_name}.delta\""
   ]
  },
  {
   "cell_type": "code",
   "execution_count": null,
   "id": "55e6da30",
   "metadata": {},
   "outputs": [],
   "source": [
    "# Guardar como Delta (Gold Layer)\n",
    "    dim_service_type.write \\\n",
    "        .option(\"overwriteSchema\", \"true\") \\\n",
    "        .mode(\"overwrite\") \\\n",
    "        .format(\"delta\") \\\n",
    "        .save(path_gold)"
   ]
  },
  {
   "cell_type": "code",
   "execution_count": null,
   "id": "58a7d547",
   "metadata": {},
   "outputs": [],
   "source": [
    "print(f\"💾 Saved {table_name} to Gold at {path_gold}\")"
   ]
  },
  {
   "cell_type": "code",
   "execution_count": null,
   "id": "7a624200",
   "metadata": {},
   "outputs": [],
   "source": [
    "# Registar como SQL Table no Fabric\n",
    "    spark.sql(f\"DROP TABLE IF EXISTS {table_name}\")"
   ]
  },
  {
   "cell_type": "code",
   "execution_count": null,
   "id": "2b4967e7",
   "metadata": {},
   "outputs": [],
   "source": [
    "dim_service_type.write \\\n",
    "        .option(\"overwriteSchema\", \"true\") \\\n",
    "        .mode(\"overwrite\") \\\n",
    "        .format(\"delta\") \\\n",
    "        .saveAsTable(table_name)"
   ]
  },
  {
   "cell_type": "code",
   "execution_count": null,
   "id": "95110e90",
   "metadata": {},
   "outputs": [],
   "source": [
    "print(f\"✅ SQL Table '{table_name}' registada com sucesso no Fabric\")"
   ]
  },
  {
   "cell_type": "code",
   "execution_count": null,
   "id": "0f81d1fa",
   "metadata": {},
   "outputs": [],
   "source": [
    "{\"execution_finish_time\":\"2025-06-24T21:17:16.6513271Z\",\"execution_start_time\":\"2025-06-24T21:17:04.1301502Z\",\"livy_statement_state\":\"available\",\"normalized_state\":\"finished\",\"parent_msg_id\":\"6c36d03b-30bb-4182-8319-f3abe7571cba\",\"queued_time\":\"2025-06-24T21:17:04.1289447Z\",\"session_id\":\"ca3fa664-6974-488f-9f07-58f4d85e0164\",\"session_start_time\":null,\"spark_pool\":null,\"state\":\"finished\",\"statement_id\":4,\"statement_ids\":[4]}"
   ]
  },
  {
   "cell_type": "code",
   "execution_count": null,
   "id": "68ec0682",
   "metadata": {},
   "outputs": [],
   "source": [
    "📥 Loaded Silver cleaned dataset: 15_ordens_de_servico_cleaned\n",
    "    🔍 Preview da Dim_ServiceType:\n",
    "    +----------------------------------------------------------------+----------------------------------------+\n",
    "    |sk_service_type                                                 |service_type                            |\n",
    "    +----------------------------------------------------------------+----------------------------------------+\n",
    "    |612e12fbebae460b3c5ef70845bcbe74c6eadf3e1d4a701649de7241f28f57f3|ALTERAÇÃO CONTRATUAL                    |\n",
    "    |2e54232b6f68fc950759a11226d25ba051691934c07c4a09d8ba82b68391a9d9|ASSISTÊNCIA A CLIENTES                  |\n",
    "    |f4cb9bfa9d112858221c5bebd458316732ca5464c13c0732df6a85fa2cb6e886|RESTABELECIMENTOS                       |\n",
    "    |94e04b4fc48c1b318c8b370e1d593ba3bc1aebfae7cdc1bf0e0724dd6a0b1e0d|REDUÇÕES TEMPORÁRIAS POTÊNCIA CONTRATADA|\n",
    "    |b5b2e21052959a7facd75e38a8ef0b007af04d19b43ebed464a7790004ef8a92|REPOSIÇÕES POTÊNCIA CONTRATADA          |\n",
    "    |0c283ec723be22c4e1375efe100a8f3ef9a9c47b64f79dc6a19e9dde91eed560|ATIVAÇÕES                               |\n",
    "    |ce6cd494327fdb42d173a9cf312294b6415501484b214f345834e824c6e91a17|SERVIÇOS DIVERSOS                       |\n",
    "    |23812a933d8075c9164e0626adaca493ab14056323e81f304506aaad4bad571b|DESATIVAÇÕES                            |\n",
    "    |816fd6b3076b7ce629cfcad5c1ab9a9100fd6b5def8134c333bbc66e6324efab|MANUTENÇÃO                              |\n",
    "    |d6af5440a41f096431c0bd98734177aa19d8caa2c312302359ff2b0577cd8833|INTERRUPÇÕES                            |\n",
    "    +----------------------------------------------------------------+----------------------------------------+"
   ]
  },
  {
   "cell_type": "code",
   "execution_count": null,
   "id": "9fac422b",
   "metadata": {},
   "outputs": [],
   "source": [
    "💾 Saved Dim_ServiceType to Gold at Files/gold/Dim_ServiceType.delta\n",
    "    ✅ SQL Table 'Dim_ServiceType' registada com sucesso no Fabric"
   ]
  },
  {
   "cell_type": "code",
   "execution_count": null,
   "id": "318112fb",
   "metadata": {},
   "outputs": [],
   "source": [
    "dim_policy"
   ]
  },
  {
   "cell_type": "code",
   "execution_count": null,
   "id": "4f97f07b",
   "metadata": {},
   "outputs": [],
   "source": [
    "from pyspark.sql import SparkSession\n",
    "    from pyspark.sql.functions import sha2, col, to_date\n",
    "    from pyspark.sql.types import StructType, StructField, StringType"
   ]
  },
  {
   "cell_type": "code",
   "execution_count": null,
   "id": "bd41e001",
   "metadata": {},
   "outputs": [],
   "source": [
    "# Iniciar sessão Spark\n",
    "    spark = SparkSession.builder.getOrCreate()"
   ]
  },
  {
   "cell_type": "code",
   "execution_count": null,
   "id": "3523c443",
   "metadata": {},
   "outputs": [],
   "source": [
    "# ============================\n",
    "    # STEP 1: Define static policies (inclui nova política)\n",
    "    # ============================\n",
    "    data = [\n",
    "        {\n",
    "            \"policy_name\": \"Plano Nacional de Mobilidade Elétrica 2023\",\n",
    "            \"policy_type\": \"Mobilidade Elétrica\",\n",
    "            \"description\": \"Plano para acelerar a instalação de postos de carregamento EV.\",\n",
    "            \"scope\": \"Nacional\",\n",
    "            \"start_date\": \"2023-01-01\",\n",
    "            \"end_date\": \"2025-12-31\",\n",
    "            \"source_url\": \"https://www.fundoambiental.pt\"\n",
    "        },\n",
    "        {\n",
    "            \"policy_name\": \"Incentivo ao Autoconsumo 2022\",\n",
    "            \"policy_type\": \"Energia Renovável\",\n",
    "            \"description\": \"Incentivo para instalações de produção fotovoltaica doméstica.\",\n",
    "            \"scope\": \"Nacional\",\n",
    "            \"start_date\": \"2022-04-01\",\n",
    "            \"end_date\": \"2024-12-31\",\n",
    "            \"source_url\": \"https://www.dgeg.gov.pt\"\n",
    "        },\n",
    "        {\n",
    "            \"policy_name\": \"Plano E-REDES Smart Metering\",\n",
    "            \"policy_type\": \"Digitalização\",\n",
    "            \"description\": \"Plano para massificação de contadores inteligentes na rede.\",\n",
    "            \"scope\": \"E-REDES\",\n",
    "            \"start_date\": \"2021-01-01\",\n",
    "            \"end_date\": \"2025-12-31\",\n",
    "            \"source_url\": \"https://www.e-redes.pt\"\n",
    "        },\n",
    "        {\n",
    "            \"policy_name\": \"Injeção Nacional Renovável\",\n",
    "            \"policy_type\": \"Energia Renovável\",\n",
    "            \"description\": \"Medida transversal de produção renovável injetada na rede nacional.\",\n",
    "            \"scope\": \"Nacional\",\n",
    "            \"start_date\": \"2020-01-01\",\n",
    "            \"end_date\": \"2025-12-31\",\n",
    "            \"source_url\": \"https://www.erse.pt\"\n",
    "        }\n",
    "    ]"
   ]
  },
  {
   "cell_type": "code",
   "execution_count": null,
   "id": "3cd91099",
   "metadata": {},
   "outputs": [],
   "source": [
    "schema = StructType([\n",
    "        StructField(\"policy_name\", StringType(), False),\n",
    "        StructField(\"policy_type\", StringType(), False),\n",
    "        StructField(\"description\", StringType(), True),\n",
    "        StructField(\"scope\", StringType(), True),\n",
    "        StructField(\"start_date\", StringType(), True),\n",
    "        StructField(\"end_date\", StringType(), True),\n",
    "        StructField(\"source_url\", StringType(), True),\n",
    "    ])"
   ]
  },
  {
   "cell_type": "code",
   "execution_count": null,
   "id": "df4bf584",
   "metadata": {},
   "outputs": [],
   "source": [
    "# ============================\n",
    "    # STEP 2: Create DataFrame & Generate SK\n",
    "    # ============================\n",
    "    df_policy = spark.createDataFrame(data, schema) \\\n",
    "        .withColumn(\"start_date\", to_date(col(\"start_date\"), \"yyyy-MM-dd\")) \\\n",
    "        .withColumn(\"end_date\", to_date(col(\"end_date\"), \"yyyy-MM-dd\")) \\\n",
    "        .withColumn(\"sk_policy\", sha2(col(\"policy_name\"), 256)) \\\n",
    "        .select(\"sk_policy\", \"policy_name\", \"policy_type\", \"description\", \"scope\", \"start_date\", \"end_date\", \"source_url\")"
   ]
  },
  {
   "cell_type": "code",
   "execution_count": null,
   "id": "3af8e8d0",
   "metadata": {},
   "outputs": [],
   "source": [
    "# ============================\n",
    "    # STEP 3: Preview\n",
    "    # ============================\n",
    "    print(\"📑 Schema da dim_policy:\")\n",
    "    df_policy.printSchema()"
   ]
  },
  {
   "cell_type": "code",
   "execution_count": null,
   "id": "df11b3b8",
   "metadata": {},
   "outputs": [],
   "source": [
    "print(\"🔍 Preview da dimensão:\")\n",
    "    df_policy.show(truncate=False)"
   ]
  },
  {
   "cell_type": "code",
   "execution_count": null,
   "id": "c62fb0d6",
   "metadata": {},
   "outputs": [],
   "source": [
    "# ============================\n",
    "    # STEP 4: Save as Delta (Gold)\n",
    "    # ============================\n",
    "    path_gold = \"Files/gold/dim_policy.delta\"\n",
    "    print(\"💾 Saving as Delta in Gold layer...\")\n",
    "    df_policy.write.mode(\"overwrite\").format(\"delta\").option(\"overwriteSchema\", \"true\").save(path_gold)"
   ]
  },
  {
   "cell_type": "code",
   "execution_count": null,
   "id": "a055b2a0",
   "metadata": {},
   "outputs": [],
   "source": [
    "# ============================\n",
    "    # STEP 5: Register SQL Table\n",
    "    # ============================\n",
    "    print(\"🗃️ Registering as SQL Table...\")\n",
    "    spark.sql(\"DROP TABLE IF EXISTS dim_policy\")\n",
    "    df_policy.write.mode(\"overwrite\").format(\"delta\").saveAsTable(\"dim_policy\")"
   ]
  },
  {
   "cell_type": "code",
   "execution_count": null,
   "id": "404d1e0e",
   "metadata": {},
   "outputs": [],
   "source": [
    "print(\"✅ SQL Table 'dim_policy' created and registered with success.\")"
   ]
  },
  {
   "cell_type": "code",
   "execution_count": null,
   "id": "8caa70ff",
   "metadata": {},
   "outputs": [],
   "source": [
    "{\"execution_finish_time\":\"2025-06-27T23:11:26.2876313Z\",\"execution_start_time\":\"2025-06-27T23:10:53.3670272Z\",\"livy_statement_state\":\"available\",\"normalized_state\":\"finished\",\"parent_msg_id\":\"a7b33f76-50e6-4ebc-8f46-e5b3168084f5\",\"queued_time\":\"2025-06-27T23:10:43.3235589Z\",\"session_id\":\"62f3a26e-05ae-4dde-b7d2-bf31a7a8f0f0\",\"session_start_time\":\"2025-06-27T23:10:43.3247944Z\",\"spark_pool\":null,\"state\":\"finished\",\"statement_id\":3,\"statement_ids\":[3]}"
   ]
  },
  {
   "cell_type": "code",
   "execution_count": null,
   "id": "6a5d03e7",
   "metadata": {},
   "outputs": [],
   "source": [
    "📑 Schema da Dim_Policy:\n",
    "    root\n",
    "     |-- sk_policy: string (nullable = true)\n",
    "     |-- policy_name: string (nullable = false)\n",
    "     |-- policy_type: string (nullable = false)\n",
    "     |-- description: string (nullable = true)\n",
    "     |-- scope: string (nullable = true)\n",
    "     |-- start_date: date (nullable = true)\n",
    "     |-- end_date: date (nullable = true)\n",
    "     |-- source_url: string (nullable = true)"
   ]
  },
  {
   "cell_type": "code",
   "execution_count": null,
   "id": "3c836cbf",
   "metadata": {},
   "outputs": [],
   "source": [
    "🔍 Preview da dimensão:\n",
    "    +----------------------------------------------------------------+------------------------------------------+-------------------+-------------------------------------------------------------------+--------+----------+----------+-----------------------------+\n",
    "    |sk_policy                                                       |policy_name                               |policy_type        |description                                                        |scope   |start_date|end_date  |source_url                   |\n",
    "    +----------------------------------------------------------------+------------------------------------------+-------------------+-------------------------------------------------------------------+--------+----------+----------+-----------------------------+\n",
    "    |fcd5b4d28d1e267faddf3e3b3ca82f886813b6d486b5dfc17d781318c8509bc8|Plano Nacional de Mobilidade Elétrica 2023|Mobilidade Elétrica|Plano para acelerar a instalação de postos de carregamento EV.     |Nacional|2023-01-01|2025-12-31|https://www.fundoambiental.pt|\n",
    "    |8d6b66ba1ccc5da17fccf12f5fe5187cc4f428634eb1d0554fa36c27c7ddb0a6|Incentivo ao Autoconsumo 2022             |Energia Renovável  |Incentivo para instalações de produção fotovoltaica doméstica.     |Nacional|2022-04-01|2024-12-31|https://www.dgeg.gov.pt      |\n",
    "    |e182f788feafe6f93dac5016ff45d88df5ee9def3dff67a9357999715a736803|Plano E-REDES Smart Metering              |Digitalização      |Plano para massificação de contadores inteligentes na rede.        |E-REDES |2021-01-01|2025-12-31|https://www.e-redes.pt       |\n",
    "    |e7c3284a07784ac6412231e7f317d403c3600a3c98e65e6bccbab8276e495683|Injeção Nacional Renovável                |Energia Renovável  |Medida transversal de produção renovável injetada na rede nacional.|Nacional|2020-01-01|2025-12-31|https://www.erse.pt          |\n",
    "    +----------------------------------------------------------------+------------------------------------------+-------------------+-------------------------------------------------------------------+--------+----------+----------+-----------------------------+"
   ]
  },
  {
   "cell_type": "code",
   "execution_count": null,
   "id": "782e1e52",
   "metadata": {},
   "outputs": [],
   "source": [
    "💾 Saving as Delta in Gold layer...\n",
    "    🗃️ Registering as SQL Table...\n",
    "    ✅ SQL Table 'Dim_Policy' created and registered with success."
   ]
  },
  {
   "cell_type": "code",
   "execution_count": null,
   "id": "0b4ed0c9",
   "metadata": {},
   "outputs": [],
   "source": [
    "dim_technology"
   ]
  },
  {
   "cell_type": "code",
   "execution_count": null,
   "id": "2f41bb84",
   "metadata": {},
   "outputs": [],
   "source": [
    "from pyspark.sql import SparkSession\n",
    "    from pyspark.sql.functions import sha2, col\n",
    "    from pyspark.sql.types import StructType, StructField, StringType, BooleanType"
   ]
  },
  {
   "cell_type": "code",
   "execution_count": null,
   "id": "4521ae03",
   "metadata": {},
   "outputs": [],
   "source": [
    "# Start Spark session\n",
    "    spark = SparkSession.builder.getOrCreate()"
   ]
  },
  {
   "cell_type": "code",
   "execution_count": null,
   "id": "b284c691",
   "metadata": {},
   "outputs": [],
   "source": [
    "print(\"📥 Criar dim_technology...\")"
   ]
  },
  {
   "cell_type": "code",
   "execution_count": null,
   "id": "c9f7ee95",
   "metadata": {},
   "outputs": [],
   "source": [
    "# STEP 1 – Definir lista de tecnologias\n",
    "    technologies = [\n",
    "        {\n",
    "            \"technology_type\": \"Solar Fotovoltaica\",\n",
    "            \"source\": \"Renovável\",\n",
    "            \"description\": \"Conversão direta da luz solar em eletricidade.\",\n",
    "            \"is_renewable\": True\n",
    "        },\n",
    "        {\n",
    "            \"technology_type\": \"Eólica\",\n",
    "            \"source\": \"Renovável\",\n",
    "            \"description\": \"Geração de energia a partir do vento.\",\n",
    "            \"is_renewable\": True\n",
    "        },\n",
    "        {\n",
    "            \"technology_type\": \"Hídrica\",\n",
    "            \"source\": \"Renovável\",\n",
    "            \"description\": \"Energia gerada por barragens e correntes de água.\",\n",
    "            \"is_renewable\": True\n",
    "        },\n",
    "        {\n",
    "            \"technology_type\": \"Biomassa\",\n",
    "            \"source\": \"Renovável\",\n",
    "            \"description\": \"Conversão de matéria orgânica em energia.\",\n",
    "            \"is_renewable\": True\n",
    "        },\n",
    "        {\n",
    "            \"technology_type\": \"Cogeração\",\n",
    "            \"source\": \"Mista\",\n",
    "            \"description\": \"Produção simultânea de eletricidade e calor.\",\n",
    "            \"is_renewable\": False\n",
    "        },\n",
    "        {\n",
    "            \"technology_type\": \"Combustíveis Fósseis\",\n",
    "            \"source\": \"Fóssil\",\n",
    "            \"description\": \"Carvão, gás natural ou derivados do petróleo.\",\n",
    "            \"is_renewable\": False\n",
    "        }\n",
    "    ]"
   ]
  },
  {
   "cell_type": "code",
   "execution_count": null,
   "id": "1d627e89",
   "metadata": {},
   "outputs": [],
   "source": [
    "schema = StructType([\n",
    "        StructField(\"technology_type\", StringType(), False),\n",
    "        StructField(\"source\", StringType(), False),\n",
    "        StructField(\"description\", StringType(), True),\n",
    "        StructField(\"is_renewable\", BooleanType(), True)\n",
    "    ])"
   ]
  },
  {
   "cell_type": "code",
   "execution_count": null,
   "id": "514500af",
   "metadata": {},
   "outputs": [],
   "source": [
    "# STEP 2 – Criar DataFrame e adicionar SK\n",
    "    df_tech = (\n",
    "        spark.createDataFrame(technologies, schema)\n",
    "        .withColumn(\"sk_technology\", sha2(col(\"technology_type\"), 256))\n",
    "        .select(\"sk_technology\", \"technology_type\", \"source\", \"description\", \"is_renewable\")\n",
    "    )"
   ]
  },
  {
   "cell_type": "code",
   "execution_count": null,
   "id": "a7b65dde",
   "metadata": {},
   "outputs": [],
   "source": [
    "# STEP 3 – Preview\n",
    "    print(\"🔍 Preview da dim_technology:\")\n",
    "    df_tech.show(truncate=False)"
   ]
  },
  {
   "cell_type": "code",
   "execution_count": null,
   "id": "acfb2b99",
   "metadata": {},
   "outputs": [],
   "source": [
    "# STEP 4 – Guardar como Delta Table na camada Gold\n",
    "    path_gold = \"Files/gold/dim_technology.delta\"\n",
    "    print(f\"💾 Guardar dim_technology como Delta em: {path_gold}\")\n",
    "    df_tech.write.mode(\"overwrite\").format(\"delta\").option(\"overwriteSchema\", \"true\").save(path_gold)"
   ]
  },
  {
   "cell_type": "code",
   "execution_count": null,
   "id": "8740e386",
   "metadata": {},
   "outputs": [],
   "source": [
    "# STEP 5 – Registar como tabela SQL\n",
    "    print(\"🗃️ Registar como SQL Table...\")\n",
    "    spark.sql(\"DROP TABLE IF EXISTS dim_technology\")\n",
    "    df_tech.write.mode(\"overwrite\").format(\"delta\").saveAsTable(\"dim_technology\")"
   ]
  },
  {
   "cell_type": "code",
   "execution_count": null,
   "id": "a4b3d597",
   "metadata": {},
   "outputs": [],
   "source": [
    "print(\"✅ SQL Table 'dim_technology' criada com sucesso 🎯\")"
   ]
  },
  {
   "cell_type": "code",
   "execution_count": null,
   "id": "7f917794",
   "metadata": {},
   "outputs": [],
   "source": [
    "{\"execution_finish_time\":\"2025-06-27T23:27:51.5863524Z\",\"execution_start_time\":\"2025-06-27T23:27:43.0025756Z\",\"livy_statement_state\":\"available\",\"normalized_state\":\"finished\",\"parent_msg_id\":\"df7c761d-79c6-4350-9ccc-0c617317a063\",\"queued_time\":\"2025-06-27T23:27:43.0012415Z\",\"session_id\":\"62f3a26e-05ae-4dde-b7d2-bf31a7a8f0f0\",\"session_start_time\":null,\"spark_pool\":null,\"state\":\"finished\",\"statement_id\":9,\"statement_ids\":[9]}"
   ]
  },
  {
   "cell_type": "code",
   "execution_count": null,
   "id": "b2f863ac",
   "metadata": {},
   "outputs": [],
   "source": [
    "📥 Criar DimTechnology...\n",
    "    🔍 Preview da DimTechnology:\n",
    "    +----------------------------------------------------------------+--------------------+---------+-------------------------------------------------+------------+\n",
    "    |sk_technology                                                   |technology_type     |source   |description                                      |is_renewable|\n",
    "    +----------------------------------------------------------------+--------------------+---------+-------------------------------------------------+------------+\n",
    "    |4e60407d375426868dd4c8d3bf48142e906dd5e11cf1328333ee195f9a641550|Solar Fotovoltaica  |Renovável|Conversão direta da luz solar em eletricidade.   |true        |\n",
    "    |0be31780f5366cf93147741ef3f7d09c30269fa4541af88b555e9edf54e461b9|Eólica              |Renovável|Geração de energia a partir do vento.            |true        |\n",
    "    |a017e3647e916a8ad0ebbde21a66bc96cbc45a58a1c532a36398df5d438a9bc3|Hídrica             |Renovável|Energia gerada por barragens e correntes de água.|true        |\n",
    "    |d82cb98ae38b67daa1d854ac7b5ffa831b776956c9972af6818ebdc0312955ba|Biomassa            |Renovável|Conversão de matéria orgânica em energia.        |true        |\n",
    "    |dab835bcd413d860b8cfb4a7d265f6f4ff67d9bb0810c07e552c5eaff1583257|Cogeração           |Mista    |Produção simultânea de eletricidade e calor.     |false       |\n",
    "    |8f66f6856dca1369bd016292484b8e4b80ee3dee156b160a00de0bcb7f1076ff|Combustíveis Fósseis|Fóssil   |Carvão, gás natural ou derivados do petróleo.    |false       |\n",
    "    +----------------------------------------------------------------+--------------------+---------+-------------------------------------------------+------------+"
   ]
  },
  {
   "cell_type": "code",
   "execution_count": null,
   "id": "50be08b0",
   "metadata": {},
   "outputs": [],
   "source": [
    "💾 Guardar DimTechnology como Delta em: Files/gold/DimTechnology.delta\n",
    "    🗃️ Registar como SQL Table...\n",
    "    ✅ SQL Table 'DimTechnology' criada com sucesso 🎯"
   ]
  },
  {
   "cell_type": "code",
   "execution_count": null,
   "id": "92501eaf",
   "metadata": {},
   "outputs": [],
   "source": [
    "fact_evimpact"
   ]
  },
  {
   "cell_type": "code",
   "execution_count": null,
   "id": "e7b7a8bd",
   "metadata": {},
   "outputs": [],
   "source": [
    "from pyspark.sql import SparkSession\n",
    "    from pyspark.sql.functions import (\n",
    "        col, when, concat_ws, lit, to_date, date_format,\n",
    "        sum as _sum, count\n",
    "    )"
   ]
  },
  {
   "cell_type": "code",
   "execution_count": null,
   "id": "cdff7f0e",
   "metadata": {},
   "outputs": [],
   "source": [
    "# Iniciar sessão Spark\n",
    "    spark = SparkSession.builder.getOrCreate()"
   ]
  },
  {
   "cell_type": "code",
   "execution_count": null,
   "id": "2db72d17",
   "metadata": {},
   "outputs": [],
   "source": [
    "# ============================\n",
    "    # 1. Load Silver Cleaned Dataset\n",
    "    # ============================\n",
    "    df_ev = spark.read.format(\"delta\").load(\"Files/silver/postos_carregamento_ves_cleaned.delta\")\n",
    "    print(\"📥 Loaded cleaned Silver dataset: postos_carregamento_ves_cleaned\")"
   ]
  },
  {
   "cell_type": "code",
   "execution_count": null,
   "id": "90537701",
   "metadata": {},
   "outputs": [],
   "source": [
    "# ============================\n",
    "    # 2. Create sk_date from 'trimestre'\n",
    "    # ============================\n",
    "    df_ev = df_ev.withColumn(\n",
    "        \"date\",\n",
    "        when(col(\"trimestre\").contains(\"T1\"), concat_ws(\"-\", col(\"trimestre\").substr(1, 4), lit(\"03\"), lit(\"31\")))\n",
    "        .when(col(\"trimestre\").contains(\"T2\"), concat_ws(\"-\", col(\"trimestre\").substr(1, 4), lit(\"06\"), lit(\"30\")))\n",
    "        .when(col(\"trimestre\").contains(\"T3\"), concat_ws(\"-\", col(\"trimestre\").substr(1, 4), lit(\"09\"), lit(\"30\")))\n",
    "        .when(col(\"trimestre\").contains(\"T4\"), concat_ws(\"-\", col(\"trimestre\").substr(1, 4), lit(\"12\"), lit(\"31\")))\n",
    "    )"
   ]
  },
  {
   "cell_type": "code",
   "execution_count": null,
   "id": "29e8145f",
   "metadata": {},
   "outputs": [],
   "source": [
    "df_ev = df_ev.withColumn(\"date\", to_date(\"date\", \"yyyy-MM-dd\"))\n",
    "    df_ev = df_ev.withColumn(\"sk_date\", date_format(\"date\", \"yyyyMMdd\").cast(\"int\"))"
   ]
  },
  {
   "cell_type": "code",
   "execution_count": null,
   "id": "924cf3e0",
   "metadata": {},
   "outputs": [],
   "source": [
    "# ============================\n",
    "    # 3. Cast potência to float\n",
    "    # ============================\n",
    "    df_ev = df_ev.withColumn(\"potencia_kw\", col(\"potencia_maxima_admissivel\").cast(\"float\"))"
   ]
  },
  {
   "cell_type": "code",
   "execution_count": null,
   "id": "1f9be076",
   "metadata": {},
   "outputs": [],
   "source": [
    "# ============================\n",
    "    # 4. Aggregate\n",
    "    # ============================\n",
    "    df_fact = df_ev.groupBy(\"sk_date\", \"sk_municipality\").agg(\n",
    "        _sum(\"potencia_kw\").alias(\"total_power_kw\"),\n",
    "        count(\"*\").alias(\"total_ev_stations\")\n",
    "    )"
   ]
  },
  {
   "cell_type": "code",
   "execution_count": null,
   "id": "d0ec0fac",
   "metadata": {},
   "outputs": [],
   "source": [
    "df_fact.show(10, truncate=False)"
   ]
  },
  {
   "cell_type": "code",
   "execution_count": null,
   "id": "59fd5aa4",
   "metadata": {},
   "outputs": [],
   "source": [
    "# ============================\n",
    "    # 5. Save and Register SQL Table\n",
    "    # ============================\n",
    "    table_name = \"fact_evimpact\"\n",
    "    path_gold = f\"Files/gold/{table_name}.delta\""
   ]
  },
  {
   "cell_type": "code",
   "execution_count": null,
   "id": "543c43e0",
   "metadata": {},
   "outputs": [],
   "source": [
    "# Guardar em formato Delta (Gold Layer)\n",
    "    df_fact.write \\\n",
    "        .option(\"overwriteSchema\", \"true\") \\\n",
    "        .mode(\"overwrite\") \\\n",
    "        .format(\"delta\") \\\n",
    "        .save(path_gold)\n",
    "    print(f\"💾 Saved {table_name} to Gold at {path_gold}\")"
   ]
  },
  {
   "cell_type": "code",
   "execution_count": null,
   "id": "430765b7",
   "metadata": {},
   "outputs": [],
   "source": [
    "# Registar como SQL Table no metastore\n",
    "    spark.sql(f\"DROP TABLE IF EXISTS {table_name}\")"
   ]
  },
  {
   "cell_type": "code",
   "execution_count": null,
   "id": "9493c77e",
   "metadata": {},
   "outputs": [],
   "source": [
    "df_fact.write \\\n",
    "        .option(\"overwriteSchema\", \"true\") \\\n",
    "        .mode(\"overwrite\") \\\n",
    "        .format(\"delta\") \\\n",
    "        .saveAsTable(table_name)\n",
    "    print(f\"✅ SQL Table '{table_name}' registada com sucesso no Fabric\")"
   ]
  },
  {
   "cell_type": "code",
   "execution_count": null,
   "id": "bf2ff95d",
   "metadata": {},
   "outputs": [],
   "source": [
    "{\"execution_finish_time\":\"2025-06-24T20:22:28.945451Z\",\"execution_start_time\":\"2025-06-24T20:22:16.7956379Z\",\"livy_statement_state\":\"available\",\"normalized_state\":\"finished\",\"parent_msg_id\":\"57404efe-4577-410f-bdab-63e308caf782\",\"queued_time\":\"2025-06-24T20:22:16.7943426Z\",\"session_id\":\"d80b9515-da52-44ad-b2ce-38e88a008065\",\"session_start_time\":null,\"spark_pool\":null,\"state\":\"finished\",\"statement_id\":5,\"statement_ids\":[5]}"
   ]
  },
  {
   "cell_type": "code",
   "execution_count": null,
   "id": "a1c167b3",
   "metadata": {},
   "outputs": [],
   "source": [
    "📥 Loaded cleaned Silver dataset: postos_carregamento_ves_cleaned\n",
    "    +--------+----------------------------------------------------------------+------------------+-----------------+\n",
    "    |sk_date |sk_municipality                                                 |total_power_kw    |total_ev_stations|\n",
    "    +--------+----------------------------------------------------------------+------------------+-----------------+\n",
    "    |20240331|bda80c54f8bd3c03bc4f855de37cfd0297a46ce41a664fa56efea92b35a8a2c0|201.4000015258789 |2                |\n",
    "    |20231231|a79128db844c02483d44e128263c81b0f3067a6ed14246eed583d345bdfdb406|2259.050002336502 |12               |\n",
    "    |20250331|df5583e09f57f5b32c4ecb311c686d48d12761ea7bab100caea7b9b81a042109|209.3000030517578 |4                |\n",
    "    |20230630|f700f777c1060f78ea151e7a57b5eec77bc57c7f0fd9d1bb6595bb9d3766e2d3|2994.400001525879 |8                |\n",
    "    |20230331|4e42b48a241897a28255dea5f2d2af759ff6861423ecce8b482aa0fe63df448d|1791.400001525879 |5                |\n",
    "    |20230331|d94ddc3dc7a9a2e97841c518361778856c6935212ad3112c1dde08c40104c0b7|1442.7000007629395|5                |\n",
    "    |20231231|9621496898bf8bc7cd67d440d56c5e632bc29a0bcce8edd198f4459b17cdedfd|41.400001525878906|1                |\n",
    "    |20240630|ecd0ecbc968ced6719647c367ed0bb91bd400d0fe6e9edc0bcc0442ee2aca8fc|6249.150007724762 |25               |\n",
    "    |20240630|7cb65d5a505579db83a1f8132c4a0511a61fde09d1620f850022158427e2ad9b|1909.6000022888184|8                |\n",
    "    |20240331|9683060a2304d108fdafbde951c7daf7b50bb0a5f229835e952c9609a6a5f86b|606.4000015258789 |3                |\n",
    "    +--------+----------------------------------------------------------------+------------------+-----------------+\n",
    "    only showing top 10 rows"
   ]
  },
  {
   "cell_type": "code",
   "execution_count": null,
   "id": "546ff425",
   "metadata": {},
   "outputs": [],
   "source": [
    "💾 Saved Fact_EVImpact to Gold at Files/gold/Fact_EVImpact.delta\n",
    "    ✅ SQL Table 'Fact_EVImpact' registada com sucesso no Fabric"
   ]
  },
  {
   "cell_type": "code",
   "execution_count": null,
   "id": "7d68ba3f",
   "metadata": {},
   "outputs": [],
   "source": [
    "fact_loadbalance"
   ]
  },
  {
   "cell_type": "code",
   "execution_count": null,
   "id": "c844407d",
   "metadata": {},
   "outputs": [],
   "source": [
    "from pyspark.sql import SparkSession\n",
    "    from pyspark.sql.functions import (\n",
    "        col, to_date, date_format, sum as _sum,\n",
    "        month, year, concat_ws, lpad\n",
    "    )"
   ]
  },
  {
   "cell_type": "code",
   "execution_count": null,
   "id": "1dbad7e2",
   "metadata": {},
   "outputs": [],
   "source": [
    "# Iniciar Spark session\n",
    "    spark = SparkSession.builder.getOrCreate()"
   ]
  },
  {
   "cell_type": "code",
   "execution_count": null,
   "id": "44339f70",
   "metadata": {},
   "outputs": [],
   "source": [
    "# =============================\n",
    "    # 1. Load Cleaned Silver Datasets\n",
    "    # =============================\n",
    "    df_consumo = spark.read.format(\"delta\").load(\"Files/silver/3_consumos_faturados_por_municipio-ultimos_10_anos_cleaned.delta\")\n",
    "    df_producao = spark.read.format(\"delta\").load(\"Files/silver/energia_produzida_total_nacional_cleaned.delta\")\n",
    "    print(\"📥 Loaded Silver datasets for consumption and production.\")"
   ]
  },
  {
   "cell_type": "code",
   "execution_count": null,
   "id": "9ee0c2fe",
   "metadata": {},
   "outputs": [],
   "source": [
    "# =============================\n",
    "    # 2. Aggregate by Month\n",
    "    # =============================\n",
    "    df_consumo_agg = df_consumo.groupBy(\"ano\", \"mes\", \"sk_municipality\").agg(\n",
    "        _sum(col(\"energia_ativa_kwh\").cast(\"double\")).alias(\"total_consumption_kwh\")\n",
    "    ).withColumn(\n",
    "        \"sk_date\", concat_ws(\"\", col(\"ano\"), lpad(col(\"mes\").cast(\"string\"), 2, \"0\")).cast(\"int\")\n",
    "    )"
   ]
  },
  {
   "cell_type": "code",
   "execution_count": null,
   "id": "4a7ea1af",
   "metadata": {},
   "outputs": [],
   "source": [
    "df_producao_agg = df_producao \\\n",
    "        .withColumn(\"year\", year(col(\"date\"))) \\\n",
    "        .withColumn(\"month\", month(col(\"date\"))) \\\n",
    "        .groupBy(\"year\", \"month\").agg(\n",
    "            _sum(col(\"energy_production\").cast(\"double\")).alias(\"national_production_kwh\")\n",
    "        ).withColumn(\n",
    "            \"sk_date\", concat_ws(\"\", col(\"year\"), lpad(col(\"month\").cast(\"string\"), 2, \"0\")).cast(\"int\")\n",
    "        ).drop(\"year\", \"month\")"
   ]
  },
  {
   "cell_type": "code",
   "execution_count": null,
   "id": "59291d16",
   "metadata": {},
   "outputs": [],
   "source": [
    "# =============================\n",
    "    # 3. Join and Calculate Net Load\n",
    "    # =============================\n",
    "    df_fact = df_consumo_agg.join(df_producao_agg, on=\"sk_date\", how=\"left\") \\\n",
    "        .withColumn(\"net_load_kwh\", col(\"total_consumption_kwh\") - col(\"national_production_kwh\"))"
   ]
  },
  {
   "cell_type": "code",
   "execution_count": null,
   "id": "acb481a8",
   "metadata": {},
   "outputs": [],
   "source": [
    "# =============================\n",
    "    # 4. Preview\n",
    "    # =============================\n",
    "    df_fact.show(10, truncate=False)"
   ]
  },
  {
   "cell_type": "code",
   "execution_count": null,
   "id": "d20849f8",
   "metadata": {},
   "outputs": [],
   "source": [
    "# =============================\n",
    "    # 5. Save and Register SQL Table\n",
    "    # =============================\n",
    "    table_name = \"fact_loadbalance\"\n",
    "    path_gold = f\"Files/gold/{table_name}.delta\""
   ]
  },
  {
   "cell_type": "code",
   "execution_count": null,
   "id": "44e4feef",
   "metadata": {},
   "outputs": [],
   "source": [
    "df_fact.write \\\n",
    "        .option(\"overwriteSchema\", \"true\") \\\n",
    "        .mode(\"overwrite\") \\\n",
    "        .format(\"delta\") \\\n",
    "        .save(path_gold)\n",
    "    print(f\"💾 Saved {table_name} to Gold path: {path_gold}\")"
   ]
  },
  {
   "cell_type": "code",
   "execution_count": null,
   "id": "83e4f58f",
   "metadata": {},
   "outputs": [],
   "source": [
    "spark.sql(f\"DROP TABLE IF EXISTS {table_name}\")\n",
    "    df_fact.write \\\n",
    "        .option(\"overwriteSchema\", \"true\") \\\n",
    "        .mode(\"overwrite\") \\\n",
    "        .format(\"delta\") \\\n",
    "        .saveAsTable(table_name)\n",
    "    print(f\"✅ SQL Table '{table_name}' registada com sucesso no Fabric.\")"
   ]
  },
  {
   "cell_type": "code",
   "execution_count": null,
   "id": "31315443",
   "metadata": {},
   "outputs": [],
   "source": [
    "{\"execution_finish_time\":\"2025-06-24T20:27:27.707034Z\",\"execution_start_time\":\"2025-06-24T20:27:15.7495099Z\",\"livy_statement_state\":\"available\",\"normalized_state\":\"finished\",\"parent_msg_id\":\"9188ec80-bec0-4016-bee7-bb305e0bc165\",\"queued_time\":\"2025-06-24T20:27:15.7482881Z\",\"session_id\":\"d80b9515-da52-44ad-b2ce-38e88a008065\",\"session_start_time\":null,\"spark_pool\":null,\"state\":\"finished\",\"statement_id\":7,\"statement_ids\":[7]}"
   ]
  },
  {
   "cell_type": "code",
   "execution_count": null,
   "id": "a17f899c",
   "metadata": {},
   "outputs": [],
   "source": [
    "📥 Loaded Silver datasets for consumption and production.\n",
    "    +-------+----+---+----------------------------------------------------------------+---------------------+-----------------------+---------------------+\n",
    "    |sk_date|ano |mes|sk_municipality                                                 |total_consumption_kwh|national_production_kwh|net_load_kwh         |\n",
    "    +-------+----+---+----------------------------------------------------------------+---------------------+-----------------------+---------------------+\n",
    "    |202401 |2024|1  |4d548909d1f046f8484a243213d2b0dd983660408fb0690cd5edc634941db7e2|8786070.81           |4.913696077E9          |-4.90491000619E9     |\n",
    "    |202401 |2024|1  |24e9ceba453a0004de633b3adcd7a6c845dc4b243243f8d60c7493ca868b1641|3373563.501          |4.913696077E9          |-4.910322513499E9    |\n",
    "    |202401 |2024|1  |da13e83a4e76108c71058ea6a661a8f2e6cc0a744c5e8bfbe3b3e04653302100|1894092.4900000002   |4.913696077E9          |-4.91180198451E9     |\n",
    "    |202401 |2024|1  |f61848ec916e48d5fb3025c5d4a71a5830f00918f5378e8772720a3ab369b092|2829257.419          |4.913696077E9          |-4.910866819581E9    |\n",
    "    |202401 |2024|1  |749458f6c8c6f44b275a4797926f4bbea7dd87cb4c86250e816c84dc230e0028|2107630.591          |4.913696077E9          |-4.911588446409E9    |\n",
    "    |202402 |2024|2  |f066bea954388defb97834bc225b600b9cb2bfb9d06d48d31782bd5e4881d922|2707058.1550000003   |4.281320084732998E9    |-4.2786130265779977E9|\n",
    "    |202310 |2023|10 |749458f6c8c6f44b275a4797926f4bbea7dd87cb4c86250e816c84dc230e0028|1733308.9419999998   |4.19074189725E9        |-4.189008588308E9    |\n",
    "    |202311 |2023|11 |24e9ceba453a0004de633b3adcd7a6c845dc4b243243f8d60c7493ca868b1641|2842557.552          |4.3313461261500025E9   |-4.328503568598002E9 |\n",
    "    |202312 |2023|12 |2c9ab75b237f76b170cabfabfb7693bb4dd5d149e5092f3f2504166297eae136|1.2926778182E7       |4.72736664735E9        |-4.714439869168E9    |\n",
    "    |202301 |2023|1  |8d24b48f7084913dd59bc8d6001b71f3c194122cf0dbab5ae46e7e28e1bf787a|1685712.2189999998   |4.83476878725E9        |-4.833083075031E9    |\n",
    "    +-------+----+---+----------------------------------------------------------------+---------------------+-----------------------+---------------------+\n",
    "    only showing top 10 rows"
   ]
  },
  {
   "cell_type": "code",
   "execution_count": null,
   "id": "d91fc8ff",
   "metadata": {},
   "outputs": [],
   "source": [
    "💾 Saved Fact_LoadBalance to Gold path: Files/gold/Fact_LoadBalance.delta\n",
    "    ✅ SQL Table 'Fact_LoadBalance' registada com sucesso no Fabric."
   ]
  },
  {
   "cell_type": "code",
   "execution_count": null,
   "id": "db30f022",
   "metadata": {},
   "outputs": [],
   "source": [
    "fact_renewablegoals"
   ]
  },
  {
   "cell_type": "code",
   "execution_count": null,
   "id": "30fbc485",
   "metadata": {},
   "outputs": [],
   "source": [
    "from pyspark.sql import SparkSession\n",
    "    from pyspark.sql.functions import col, sha2"
   ]
  },
  {
   "cell_type": "code",
   "execution_count": null,
   "id": "fcc874e0",
   "metadata": {},
   "outputs": [],
   "source": [
    "# Iniciar Spark session\n",
    "    spark = SparkSession.builder.getOrCreate()"
   ]
  },
  {
   "cell_type": "code",
   "execution_count": null,
   "id": "eaa32e02",
   "metadata": {},
   "outputs": [],
   "source": [
    "# =============================\n",
    "    # 1. Criar Dimensão de Metas Energéticas\n",
    "    # =============================\n",
    "    energy_targets_data = [\n",
    "        (2026, 80),\n",
    "        (2027, 82),\n",
    "        (2028, 83),\n",
    "        (2029, 84),\n",
    "        (2030, 85),\n",
    "        (2031, 85),\n",
    "        (2032, 85),\n",
    "        (2033, 85),\n",
    "        (2034, 85),\n",
    "        (2035, 85),\n",
    "    ]"
   ]
  },
  {
   "cell_type": "code",
   "execution_count": null,
   "id": "7087b67a",
   "metadata": {},
   "outputs": [],
   "source": [
    "columns = [\"year\", \"target_renewable_pct\"]\n",
    "    df_energy_target = spark.createDataFrame(energy_targets_data, columns)"
   ]
  },
  {
   "cell_type": "code",
   "execution_count": null,
   "id": "d04f3681",
   "metadata": {},
   "outputs": [],
   "source": [
    "# Adicionar surrogate key\n",
    "    df_energy_target = df_energy_target.withColumn(\n",
    "        \"sk_energy_target\", sha2(col(\"year\").cast(\"string\"), 256)\n",
    "    )"
   ]
  },
  {
   "cell_type": "code",
   "execution_count": null,
   "id": "7e142611",
   "metadata": {},
   "outputs": [],
   "source": [
    "# =============================\n",
    "    # 2. Guardar e Registar Tabela SQL\n",
    "    # =============================\n",
    "    table_name = \"fact_renewablegoals\"\n",
    "    path_gold = f\"Files/gold/{table_name}.delta\""
   ]
  },
  {
   "cell_type": "code",
   "execution_count": null,
   "id": "f0270d44",
   "metadata": {},
   "outputs": [],
   "source": [
    "df_energy_target.write.option(\"overwriteSchema\", \"true\").mode(\"overwrite\").format(\"delta\").save(path_gold)\n",
    "    spark.sql(f\"DROP TABLE IF EXISTS {table_name}\")\n",
    "    df_energy_target.write.option(\"overwriteSchema\", \"true\").mode(\"overwrite\").format(\"delta\").saveAsTable(table_name)"
   ]
  },
  {
   "cell_type": "code",
   "execution_count": null,
   "id": "ec77b2ea",
   "metadata": {},
   "outputs": [],
   "source": [
    "{\"execution_finish_time\":\"2025-07-14T20:27:50.2082451Z\",\"execution_start_time\":\"2025-07-14T20:27:22.3872334Z\",\"livy_statement_state\":\"available\",\"normalized_state\":\"finished\",\"parent_msg_id\":\"28f7934e-da8c-4b49-b0dc-00228c8c65ae\",\"queued_time\":\"2025-07-14T20:27:12.4397938Z\",\"session_id\":\"50864d74-6a26-4450-ae18-9556e9e52e4e\",\"session_start_time\":\"2025-07-14T20:27:12.4407509Z\",\"spark_pool\":null,\"state\":\"finished\",\"statement_id\":3,\"statement_ids\":[3]}"
   ]
  },
  {
   "cell_type": "code",
   "execution_count": null,
   "id": "c4797d35",
   "metadata": {},
   "outputs": [],
   "source": [
    "dim_codconcelho (to add the codconcelho later in dim_municipality)"
   ]
  },
  {
   "cell_type": "code",
   "execution_count": null,
   "id": "b7cd038b",
   "metadata": {},
   "outputs": [],
   "source": [
    "from pyspark.sql.functions import col, sha2, concat_ws, trim, upper, lpad"
   ]
  },
  {
   "cell_type": "code",
   "execution_count": null,
   "id": "870c5d26",
   "metadata": {},
   "outputs": [],
   "source": [
    "bronze_path = \"Files/bronze/cod_concelho\""
   ]
  },
  {
   "cell_type": "code",
   "execution_count": null,
   "id": "332603f1",
   "metadata": {},
   "outputs": [],
   "source": [
    "df_raw = (\n",
    "        spark.read.option(\"header\", True)\n",
    "        .option(\"inferSchema\", False)  # IMPORTANTE para não remover zeros\n",
    "        .csv(bronze_path)\n",
    "    )"
   ]
  },
  {
   "cell_type": "code",
   "execution_count": null,
   "id": "b4cf5e50",
   "metadata": {},
   "outputs": [],
   "source": [
    "df_clean = (\n",
    "        df_raw\n",
    "        .select(\n",
    "            trim(col(\"con_code\")).alias(\"cod_concelho\"),\n",
    "            trim(col(\"con_name\")).alias(\"municipality\"),\n",
    "            trim(col(\"dis_name\")).alias(\"district\")\n",
    "        )\n",
    "        .dropna(subset=[\"cod_concelho\", \"municipality\", \"district\"])\n",
    "        .withColumn(\"municipality\", upper(trim(col(\"municipality\"))))\n",
    "        .withColumn(\"district\", upper(trim(col(\"district\"))))\n",
    "        .dropDuplicates([\"cod_concelho\"])\n",
    "    )"
   ]
  },
  {
   "cell_type": "code",
   "execution_count": null,
   "id": "ab2ad720",
   "metadata": {},
   "outputs": [],
   "source": [
    "# Garantir que cod_concelho tem sempre 4 dígitos\n",
    "    df_clean = df_clean.withColumn(\"cod_concelho\", lpad(col(\"cod_concelho\"), 4, \"0\"))"
   ]
  },
  {
   "cell_type": "code",
   "execution_count": null,
   "id": "59058ee9",
   "metadata": {},
   "outputs": [],
   "source": [
    "df_final = df_clean.withColumn(\n",
    "        \"sk_municipality\",\n",
    "        sha2(concat_ws(\"-\", col(\"district\"), col(\"municipality\")), 256)\n",
    "    )"
   ]
  },
  {
   "cell_type": "code",
   "execution_count": null,
   "id": "46d107ee",
   "metadata": {},
   "outputs": [],
   "source": [
    "# Preview atualizado\n",
    "    print(\"✅ Preview da dim_codconcelho (corrigido com 4 dígitos):\")\n",
    "    df_final.show(10, truncate=False)"
   ]
  },
  {
   "cell_type": "code",
   "execution_count": null,
   "id": "1d7f22f3",
   "metadata": {},
   "outputs": [],
   "source": [
    "# Guardar no Silver\n",
    "    df_final.write.mode(\"overwrite\").format(\"delta\").save(\"Files/silver/dim_codconcelho.delta\")\n",
    "    df_final.write.mode(\"overwrite\").format(\"delta\").saveAsTable(\"dim_codconcelho\")"
   ]
  },
  {
   "cell_type": "code",
   "execution_count": null,
   "id": "13934ef2",
   "metadata": {},
   "outputs": [],
   "source": [
    "{\"execution_finish_time\":\"2025-06-28T13:42:55.0397748Z\",\"execution_start_time\":\"2025-06-28T13:42:45.0853984Z\",\"livy_statement_state\":\"available\",\"normalized_state\":\"finished\",\"parent_msg_id\":\"24ee0698-1b64-416f-89bc-40da2fd485b7\",\"queued_time\":\"2025-06-28T13:42:45.0841216Z\",\"session_id\":\"ccfaf4ac-d020-4f44-a99a-588f8e59ebfd\",\"session_start_time\":null,\"spark_pool\":null,\"state\":\"finished\",\"statement_id\":11,\"statement_ids\":[11]}"
   ]
  },
  {
   "cell_type": "code",
   "execution_count": null,
   "id": "d7dc0323",
   "metadata": {},
   "outputs": [],
   "source": [
    "✅ Preview da DimCodConcelho (corrigido com 4 dígitos):\n",
    "    +------------+-------------------+--------+----------------------------------------------------------------+\n",
    "    |cod_concelho|municipality       |district|sk_municipality                                                 |\n",
    "    +------------+-------------------+--------+----------------------------------------------------------------+\n",
    "    |1001        |ALCOBAÇA           |LEIRIA  |00ed80ce99753ed4d66f64d1ff3a9faad0fb2f23f5a2f934a98f2923083b9995|\n",
    "    |1002        |ALVAIÁZERE         |LEIRIA  |2ac42b0093cbdf4d196fa28520bc1bfb5c3cc3e1975d6843dbb16eb8b42e0bfc|\n",
    "    |1003        |ANSIÃO             |LEIRIA  |03449b54a14c4ab8c119fe03278c208dc98f861fa43b76151c0c2a17f4fa7cc1|\n",
    "    |1004        |BATALHA            |LEIRIA  |477cb542f563b368192f7b9cbe7d8ea2dc2c2fa549477b607b1da31265184757|\n",
    "    |1005        |BOMBARRAL          |LEIRIA  |3d2813e1b94509efd2a51a29a22286a761933b32b957e2e3d81807f7d79d786d|\n",
    "    |1006        |CALDAS DA RAINHA   |LEIRIA  |2c9ab75b237f76b170cabfabfb7693bb4dd5d149e5092f3f2504166297eae136|\n",
    "    |1007        |CASTANHEIRA DE PÊRA|LEIRIA  |36402fad64f4dd5e1c76560e78329e91af2619adbbf70e7907bdb9e491f1f7e6|\n",
    "    |1008        |FIGUEIRÓ DOS VINHOS|LEIRIA  |a610f919e2edaf37e277729af04334dc574279f71a2f3995b607b1f10af7e200|\n",
    "    |1009        |LEIRIA             |LEIRIA  |c2f60e07f6b618749f21a498803929582f2aa416685c1257641a572142fa65a5|\n",
    "    |0101        |ÁGUEDA             |AVEIRO  |3b9f26ab28a1892f70d247bcd5287927a7fd8fb0540ad98f3facad472933c77b|\n",
    "    +------------+-------------------+--------+----------------------------------------------------------------+\n",
    "    only showing top 10 rows"
   ]
  }
 ],
 "metadata": {},
 "nbformat": 4,
 "nbformat_minor": 5
}
